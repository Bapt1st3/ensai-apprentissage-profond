{
  "cells": [
    {
      "cell_type": "markdown",
      "id": "a729761a",
      "metadata": {
        "id": "a729761a"
      },
      "source": [
        "**Avant de débuter ce TP** :\n",
        "\n",
        "1. **Changez le type d'exécution sur Google Colab** : `Exécution > Modifiez le type d'exécution > T4 GPU`\n",
        "2. **Installez les paquets ci-dessous** :"
      ]
    },
    {
      "cell_type": "code",
      "execution_count": 1,
      "id": "c03161bd",
      "metadata": {
        "colab": {
          "base_uri": "https://localhost:8080/"
        },
        "id": "c03161bd",
        "outputId": "182d1688-56f4-4540-a5fe-1693d5ec8782"
      },
      "outputs": [
        {
          "output_type": "stream",
          "name": "stdout",
          "text": [
            "Collecting lightning\n",
            "  Downloading lightning-2.5.5-py3-none-any.whl.metadata (39 kB)\n",
            "Collecting torchmetrics\n",
            "  Downloading torchmetrics-1.8.2-py3-none-any.whl.metadata (22 kB)\n",
            "Collecting torchinfo\n",
            "  Downloading torchinfo-1.8.0-py3-none-any.whl.metadata (21 kB)\n",
            "Requirement already satisfied: PyYAML<8.0,>5.4 in /usr/local/lib/python3.12/dist-packages (from lightning) (6.0.3)\n",
            "Requirement already satisfied: fsspec<2027.0,>=2022.5.0 in /usr/local/lib/python3.12/dist-packages (from fsspec[http]<2027.0,>=2022.5.0->lightning) (2025.3.0)\n",
            "Collecting lightning-utilities<2.0,>=0.10.0 (from lightning)\n",
            "  Downloading lightning_utilities-0.15.2-py3-none-any.whl.metadata (5.7 kB)\n",
            "Requirement already satisfied: packaging<27.0,>=20.0 in /usr/local/lib/python3.12/dist-packages (from lightning) (25.0)\n",
            "Requirement already satisfied: torch<4.0,>=2.1.0 in /usr/local/lib/python3.12/dist-packages (from lightning) (2.8.0+cu126)\n",
            "Requirement already satisfied: tqdm<6.0,>=4.57.0 in /usr/local/lib/python3.12/dist-packages (from lightning) (4.67.1)\n",
            "Requirement already satisfied: typing-extensions<6.0,>4.5.0 in /usr/local/lib/python3.12/dist-packages (from lightning) (4.15.0)\n",
            "Collecting pytorch-lightning (from lightning)\n",
            "  Downloading pytorch_lightning-2.5.5-py3-none-any.whl.metadata (20 kB)\n",
            "Requirement already satisfied: numpy>1.20.0 in /usr/local/lib/python3.12/dist-packages (from torchmetrics) (2.0.2)\n",
            "Requirement already satisfied: aiohttp!=4.0.0a0,!=4.0.0a1 in /usr/local/lib/python3.12/dist-packages (from fsspec[http]<2027.0,>=2022.5.0->lightning) (3.13.0)\n",
            "Requirement already satisfied: setuptools in /usr/local/lib/python3.12/dist-packages (from lightning-utilities<2.0,>=0.10.0->lightning) (75.2.0)\n",
            "Requirement already satisfied: filelock in /usr/local/lib/python3.12/dist-packages (from torch<4.0,>=2.1.0->lightning) (3.20.0)\n",
            "Requirement already satisfied: sympy>=1.13.3 in /usr/local/lib/python3.12/dist-packages (from torch<4.0,>=2.1.0->lightning) (1.13.3)\n",
            "Requirement already satisfied: networkx in /usr/local/lib/python3.12/dist-packages (from torch<4.0,>=2.1.0->lightning) (3.5)\n",
            "Requirement already satisfied: jinja2 in /usr/local/lib/python3.12/dist-packages (from torch<4.0,>=2.1.0->lightning) (3.1.6)\n",
            "Requirement already satisfied: nvidia-cuda-nvrtc-cu12==12.6.77 in /usr/local/lib/python3.12/dist-packages (from torch<4.0,>=2.1.0->lightning) (12.6.77)\n",
            "Requirement already satisfied: nvidia-cuda-runtime-cu12==12.6.77 in /usr/local/lib/python3.12/dist-packages (from torch<4.0,>=2.1.0->lightning) (12.6.77)\n",
            "Requirement already satisfied: nvidia-cuda-cupti-cu12==12.6.80 in /usr/local/lib/python3.12/dist-packages (from torch<4.0,>=2.1.0->lightning) (12.6.80)\n",
            "Requirement already satisfied: nvidia-cudnn-cu12==9.10.2.21 in /usr/local/lib/python3.12/dist-packages (from torch<4.0,>=2.1.0->lightning) (9.10.2.21)\n",
            "Requirement already satisfied: nvidia-cublas-cu12==12.6.4.1 in /usr/local/lib/python3.12/dist-packages (from torch<4.0,>=2.1.0->lightning) (12.6.4.1)\n",
            "Requirement already satisfied: nvidia-cufft-cu12==11.3.0.4 in /usr/local/lib/python3.12/dist-packages (from torch<4.0,>=2.1.0->lightning) (11.3.0.4)\n",
            "Requirement already satisfied: nvidia-curand-cu12==10.3.7.77 in /usr/local/lib/python3.12/dist-packages (from torch<4.0,>=2.1.0->lightning) (10.3.7.77)\n",
            "Requirement already satisfied: nvidia-cusolver-cu12==11.7.1.2 in /usr/local/lib/python3.12/dist-packages (from torch<4.0,>=2.1.0->lightning) (11.7.1.2)\n",
            "Requirement already satisfied: nvidia-cusparse-cu12==12.5.4.2 in /usr/local/lib/python3.12/dist-packages (from torch<4.0,>=2.1.0->lightning) (12.5.4.2)\n",
            "Requirement already satisfied: nvidia-cusparselt-cu12==0.7.1 in /usr/local/lib/python3.12/dist-packages (from torch<4.0,>=2.1.0->lightning) (0.7.1)\n",
            "Requirement already satisfied: nvidia-nccl-cu12==2.27.3 in /usr/local/lib/python3.12/dist-packages (from torch<4.0,>=2.1.0->lightning) (2.27.3)\n",
            "Requirement already satisfied: nvidia-nvtx-cu12==12.6.77 in /usr/local/lib/python3.12/dist-packages (from torch<4.0,>=2.1.0->lightning) (12.6.77)\n",
            "Requirement already satisfied: nvidia-nvjitlink-cu12==12.6.85 in /usr/local/lib/python3.12/dist-packages (from torch<4.0,>=2.1.0->lightning) (12.6.85)\n",
            "Requirement already satisfied: nvidia-cufile-cu12==1.11.1.6 in /usr/local/lib/python3.12/dist-packages (from torch<4.0,>=2.1.0->lightning) (1.11.1.6)\n",
            "Requirement already satisfied: triton==3.4.0 in /usr/local/lib/python3.12/dist-packages (from torch<4.0,>=2.1.0->lightning) (3.4.0)\n",
            "Requirement already satisfied: aiohappyeyeballs>=2.5.0 in /usr/local/lib/python3.12/dist-packages (from aiohttp!=4.0.0a0,!=4.0.0a1->fsspec[http]<2027.0,>=2022.5.0->lightning) (2.6.1)\n",
            "Requirement already satisfied: aiosignal>=1.4.0 in /usr/local/lib/python3.12/dist-packages (from aiohttp!=4.0.0a0,!=4.0.0a1->fsspec[http]<2027.0,>=2022.5.0->lightning) (1.4.0)\n",
            "Requirement already satisfied: attrs>=17.3.0 in /usr/local/lib/python3.12/dist-packages (from aiohttp!=4.0.0a0,!=4.0.0a1->fsspec[http]<2027.0,>=2022.5.0->lightning) (25.4.0)\n",
            "Requirement already satisfied: frozenlist>=1.1.1 in /usr/local/lib/python3.12/dist-packages (from aiohttp!=4.0.0a0,!=4.0.0a1->fsspec[http]<2027.0,>=2022.5.0->lightning) (1.8.0)\n",
            "Requirement already satisfied: multidict<7.0,>=4.5 in /usr/local/lib/python3.12/dist-packages (from aiohttp!=4.0.0a0,!=4.0.0a1->fsspec[http]<2027.0,>=2022.5.0->lightning) (6.7.0)\n",
            "Requirement already satisfied: propcache>=0.2.0 in /usr/local/lib/python3.12/dist-packages (from aiohttp!=4.0.0a0,!=4.0.0a1->fsspec[http]<2027.0,>=2022.5.0->lightning) (0.3.2)\n",
            "Requirement already satisfied: yarl<2.0,>=1.17.0 in /usr/local/lib/python3.12/dist-packages (from aiohttp!=4.0.0a0,!=4.0.0a1->fsspec[http]<2027.0,>=2022.5.0->lightning) (1.22.0)\n",
            "Requirement already satisfied: mpmath<1.4,>=1.1.0 in /usr/local/lib/python3.12/dist-packages (from sympy>=1.13.3->torch<4.0,>=2.1.0->lightning) (1.3.0)\n",
            "Requirement already satisfied: MarkupSafe>=2.0 in /usr/local/lib/python3.12/dist-packages (from jinja2->torch<4.0,>=2.1.0->lightning) (3.0.3)\n",
            "Requirement already satisfied: idna>=2.0 in /usr/local/lib/python3.12/dist-packages (from yarl<2.0,>=1.17.0->aiohttp!=4.0.0a0,!=4.0.0a1->fsspec[http]<2027.0,>=2022.5.0->lightning) (3.10)\n",
            "Downloading lightning-2.5.5-py3-none-any.whl (828 kB)\n",
            "\u001b[2K   \u001b[90m━━━━━━━━━━━━━━━━━━━━━━━━━━━━━━━━━━━━━━━━\u001b[0m \u001b[32m828.5/828.5 kB\u001b[0m \u001b[31m66.6 MB/s\u001b[0m eta \u001b[36m0:00:00\u001b[0m\n",
            "\u001b[?25hDownloading torchmetrics-1.8.2-py3-none-any.whl (983 kB)\n",
            "\u001b[2K   \u001b[90m━━━━━━━━━━━━━━━━━━━━━━━━━━━━━━━━━━━━━━━━\u001b[0m \u001b[32m983.2/983.2 kB\u001b[0m \u001b[31m78.2 MB/s\u001b[0m eta \u001b[36m0:00:00\u001b[0m\n",
            "\u001b[?25hDownloading torchinfo-1.8.0-py3-none-any.whl (23 kB)\n",
            "Downloading lightning_utilities-0.15.2-py3-none-any.whl (29 kB)\n",
            "Downloading pytorch_lightning-2.5.5-py3-none-any.whl (832 kB)\n",
            "\u001b[2K   \u001b[90m━━━━━━━━━━━━━━━━━━━━━━━━━━━━━━━━━━━━━━━━\u001b[0m \u001b[32m832.4/832.4 kB\u001b[0m \u001b[31m72.1 MB/s\u001b[0m eta \u001b[36m0:00:00\u001b[0m\n",
            "\u001b[?25hInstalling collected packages: torchinfo, lightning-utilities, torchmetrics, pytorch-lightning, lightning\n",
            "Successfully installed lightning-2.5.5 lightning-utilities-0.15.2 pytorch-lightning-2.5.5 torchinfo-1.8.0 torchmetrics-1.8.2\n"
          ]
        }
      ],
      "source": [
        "! pip install lightning torchmetrics torchinfo"
      ]
    },
    {
      "cell_type": "markdown",
      "id": "ab76bdb8",
      "metadata": {
        "id": "ab76bdb8"
      },
      "source": [
        "3. Exécutez ce code pour supprimer quelques messages et avertissements éventuellement affichés."
      ]
    },
    {
      "cell_type": "code",
      "execution_count": 2,
      "id": "65832519",
      "metadata": {
        "id": "65832519"
      },
      "outputs": [],
      "source": [
        "import logging\n",
        "logging.getLogger(\"lightning\").setLevel(logging.ERROR)\n",
        "logging.getLogger(\"lightning.pytorch.utilities.rank_zero\").setLevel(logging.WARNING)\n",
        "logging.getLogger(\"lightning.pytorch.accelerators.cuda\").setLevel(logging.WARNING)\n",
        "logger = logging.getLogger(\"lightning\")\n",
        "logger.propagate = False\n",
        "\n",
        "import warnings\n",
        "warnings.filterwarnings(\"ignore\", \".*does not have many workers.*\")"
      ]
    },
    {
      "cell_type": "markdown",
      "id": "2682ff49",
      "metadata": {
        "id": "2682ff49"
      },
      "source": [
        "# *Inpainting* d'images masquées\n",
        "\n",
        "Dans ce notebook, vous allez travailler sur le jeu de données [MNIST](https://en.wikipedia.org/wiki/MNIST_database) constitué d'images de chiffres manuscrits.\n",
        "\n",
        "L'[*inpainting*](https://fr.wikipedia.org/wiki/Inpainting) consiste à reconstruire des images détériorées ou à remplir des parties manques des images.\n",
        "L'exemple ci-dessous est tiré de la page Wikipedia concernant l'*inpainting*.\n",
        "À gauche se trouve l'image détériorée et à droite se trouve l'image reconstruite.\n",
        "\n",
        "<img src=\"https://upload.wikimedia.org/wikipedia/commons/f/f8/Restoration.jpg\" width=800 />\n",
        "\n",
        "**L'objectif est de reconstruire les images à partir des images détériorées.**"
      ]
    },
    {
      "cell_type": "markdown",
      "id": "e88bf550",
      "metadata": {
        "id": "e88bf550"
      },
      "source": [
        "## Téléchargement et visualisation des données\n",
        "\n",
        "La fonction `load_dataset()` définie ci-dessous permet de télécharger le jeu de données."
      ]
    },
    {
      "cell_type": "code",
      "execution_count": 3,
      "id": "c683c4ae",
      "metadata": {
        "id": "c683c4ae"
      },
      "outputs": [],
      "source": [
        "import torch\n",
        "\n",
        "\n",
        "def load_dataset(train, path=\"data\"):\n",
        "    \"\"\"Charge le jeu de données.\n",
        "\n",
        "    Parameters\n",
        "    ----------\n",
        "    train : bool\n",
        "        Si True, renvoie le jeu d'entraînement. Sinon, renvoie le jeu de validation.\n",
        "\n",
        "    path : str\n",
        "        Chemin du répertoire où charger ou télécharger le jeu de données.\n",
        "\n",
        "    Returns\n",
        "    -------\n",
        "    X : Tensor, shape = (n_observations, 1, hauteur, largeur)\n",
        "        Images originales.\n",
        "    \"\"\"\n",
        "    from torchvision.datasets import MNIST\n",
        "\n",
        "    # Télécharge les données\n",
        "    dataset = MNIST(root=path, download=True, train=train)\n",
        "\n",
        "    # Formate le tenseur\n",
        "    X = torch.unsqueeze(dataset.data / 255, 1)\n",
        "\n",
        "    return X"
      ]
    },
    {
      "cell_type": "markdown",
      "id": "2e468f8c",
      "metadata": {
        "id": "2e468f8c"
      },
      "source": [
        "Il suffit d'appeler cette fonction pour récupérer les jeux d'entraînement et de validation."
      ]
    },
    {
      "cell_type": "code",
      "execution_count": 19,
      "id": "ae3857d4",
      "metadata": {
        "id": "ae3857d4"
      },
      "outputs": [],
      "source": [
        "X_train_original = load_dataset(train=True)\n",
        "X_val_original = load_dataset(train=False)"
      ]
    },
    {
      "cell_type": "markdown",
      "id": "0fa02739",
      "metadata": {
        "id": "0fa02739"
      },
      "source": [
        "### Question 1\n",
        "\n",
        "Déterminez le nombre d'observations dans les jeux d'entraînement et de validation.\n",
        "Déterminez (par du code) la taille de chaque observation (on admettra que toutes les observations ont la même taille, il suffit donc de calculer la taille d'une seule observation)."
      ]
    },
    {
      "cell_type": "code",
      "execution_count": 20,
      "id": "ce817c01",
      "metadata": {
        "colab": {
          "base_uri": "https://localhost:8080/"
        },
        "id": "ce817c01",
        "outputId": "f409dfd8-96b3-4828-c7f0-ad6ec4c8ac1f"
      },
      "outputs": [
        {
          "output_type": "stream",
          "name": "stdout",
          "text": [
            "Taille du jeu d'entraînement : torch.Size([60000, 1, 28, 28])\n",
            "Taille du jeu de validation : torch.Size([10000, 1, 28, 28])\n",
            "Taille d'une observation : torch.Size([28, 28])\n"
          ]
        }
      ],
      "source": [
        "# TODO\n",
        "print(\"Taille du jeu d'entraînement :\", X_train_original.shape)\n",
        "print(\"Taille du jeu de validation :\", X_val_original.shape)\n",
        "\n",
        "X_train_size = X_train_original[0][0].size()\n",
        "print(\"Taille d'une observation :\", X_train_size)\n"
      ]
    },
    {
      "cell_type": "markdown",
      "source": [
        "La taille du jeu d'entrainement est de 6000, pour le jeu de validation c'est 10000 et les images font 28x28 pixels"
      ],
      "metadata": {
        "id": "QFPc9kolJe5H"
      },
      "id": "QFPc9kolJe5H"
    },
    {
      "cell_type": "markdown",
      "id": "7e95f2fc",
      "metadata": {
        "id": "7e95f2fc"
      },
      "source": [
        "### Question 2\n",
        "\n",
        "Quelles sont les valeurs minimale et maximale des pixels sur le jeu d'entraînement ?"
      ]
    },
    {
      "cell_type": "code",
      "execution_count": 21,
      "id": "1bea2065",
      "metadata": {
        "colab": {
          "base_uri": "https://localhost:8080/"
        },
        "id": "1bea2065",
        "outputId": "2054ae73-5a51-4fac-d582-72e6788838a4"
      },
      "outputs": [
        {
          "output_type": "stream",
          "name": "stdout",
          "text": [
            "Valeur minimale des pixels sur le jeu d'entraînement : tensor(0.)\n",
            "Valeur maximale des pixels sur le jeu d'entraînement : tensor(1.)\n"
          ]
        }
      ],
      "source": [
        "# TODO\n",
        "print(\"Valeur minimale des pixels sur le jeu d'entraînement :\", torch.min(X_train_original))\n",
        "print(\"Valeur maximale des pixels sur le jeu d'entraînement :\", torch.max(X_train_original) )"
      ]
    },
    {
      "cell_type": "markdown",
      "source": [
        "valeur max 1 soit un pixel blanc , valeur min 0 pixel noir"
      ],
      "metadata": {
        "id": "fZ99o4g2KZIn"
      },
      "id": "fZ99o4g2KZIn"
    },
    {
      "cell_type": "markdown",
      "id": "36d2412f",
      "metadata": {
        "id": "36d2412f"
      },
      "source": [
        "Le jeu de données ne contient que les images originales (non-détériorées).\n",
        "Il va donc falloir implémenter notre propre technique de détérioration d'images.\n",
        "Nous allons implémenter quelque chose de simple : chaque pixel est remplacé, avec une probabilité $p$, par un pixel noir (c'est-à-dire un pixel dont la valeur est $0.0$).\n",
        "Une implémentation possible de cette approche est la suivante :\n",
        "\n",
        "1. Générer un tenseur de variables aléatoires uniformes sur l'intervalle $[0, 1]$ de la même forme que le tenseur d'entrées. Pour ce faire, vous pouvez utiliser la fonction [`torch.rand_like()`](https://docs.pytorch.org/docs/stable/generated/torch.rand_like.html).\n",
        "2. Transformer ce tenseur de variables aléatoires uniformes en un masque, c'est-à-dire un tenseur de booléens, indiquant quels éléments du tenseur d'entrée garder : les éléments gardés sont ceux dont la variable aléatoire uniforme est supérieure à $p$.\n",
        "3. Multiplier le tenseur d'entrées par le masque : les éléments pour lesquels le masque vaut `True` sont gardés, et les éléments pour lesquels le masque vaut `False` sont remplacés par $0$.\n",
        "\n",
        "\n",
        "La fonction `deteriorate_images()` définie ci-dessous permet d'effectuer cette détérioration.\n",
        "\n",
        "### Question 3\n",
        "\n",
        "Complétez le code manquant dans la fonction `deteriorate_images()`."
      ]
    },
    {
      "cell_type": "code",
      "execution_count": 22,
      "id": "327fd0d0",
      "metadata": {
        "id": "327fd0d0"
      },
      "outputs": [],
      "source": [
        "def deteriorate_images(images, p=0.5):\n",
        "    \"\"\"Détériore des images.\n",
        "\n",
        "    Parameters\n",
        "    ----------\n",
        "    images : Tensor, shape = (n_images, 1, hauteur, largeur)\n",
        "        Images originales.\n",
        "\n",
        "    p : float, default = 0.5\n",
        "        Probabilité de remplacer chaque pixel par un pixel noir.\n",
        "\n",
        "    Returns\n",
        "    -------\n",
        "    images_masked : Tensor, shape = (n_images, 1, hauteur, largeur)\n",
        "        Images détériorées.\n",
        "    \"\"\"\n",
        "    ### BEGIN TODO ###\n",
        "    images_masked = images.clone()\n",
        "    t = torch.rand_like(images)\n",
        "    mask = t > p\n",
        "    images_masked[mask] = 0\n",
        "    ### END TODO\n",
        "    return images_masked"
      ]
    },
    {
      "cell_type": "markdown",
      "id": "3cd983f0",
      "metadata": {
        "id": "3cd983f0"
      },
      "source": [
        "On appelle maintenant la fonction `deteriorate_images()`, avec `p=0.5`, pour créer des images détériorées sur les jeux d'entraînement et de validation :"
      ]
    },
    {
      "cell_type": "code",
      "execution_count": 23,
      "id": "172b01bf",
      "metadata": {
        "id": "172b01bf"
      },
      "outputs": [],
      "source": [
        "X_train_deteriorated = deteriorate_images(X_train_original)\n",
        "X_val_deteriorated = deteriorate_images(X_val_original)"
      ]
    },
    {
      "cell_type": "markdown",
      "id": "a1505356",
      "metadata": {
        "id": "a1505356"
      },
      "source": [
        "La fonction `plot_original_and_deteriorated_images()` définie ci-dessous permet de visualiser cette opération : elle prend en entrée un lot d'images originales, applique la transformation et affiche les images originales et détériorées."
      ]
    },
    {
      "cell_type": "code",
      "execution_count": 24,
      "id": "0d9da5f0",
      "metadata": {
        "id": "0d9da5f0"
      },
      "outputs": [],
      "source": [
        "import matplotlib.pyplot as plt\n",
        "\n",
        "\n",
        "def plot_original_and_deteriorated_images(images_original, images_deteriorated):\n",
        "    \"\"\"Affiche les images originales et les images détériorées.\n",
        "\n",
        "    Parameters\n",
        "    ----------\n",
        "    images_original : Tensor, shape = (n_images, 1, hauteur, largeur)\n",
        "        Images originales.\n",
        "\n",
        "    images_deteriorated : Tensor, shape = (n_images, 1, hauteur, largeur)\n",
        "        Images détériorées.\n",
        "    \"\"\"\n",
        "    # Récupère le nombre d'images\n",
        "    n_images = images_original.shape[0]\n",
        "\n",
        "    # Initialise la figure\n",
        "    plt.figure(figsize=(6.5, 3 * n_images))\n",
        "\n",
        "    # Pour chaque ligne\n",
        "    for row in range(n_images):\n",
        "\n",
        "        # Affiche l'image originale\n",
        "        plt.subplot(n_images, 2, 1 + row * 2)\n",
        "        plt.imshow(images_original[row, 0], cmap=\"gray\", vmin=0.0, vmax=1.0)\n",
        "        plt.title(\"Image originale\")\n",
        "        plt.axis(\"off\");\n",
        "\n",
        "        # Affiche l'image détériorée\n",
        "        plt.subplot(n_images, 2, 2 + row * 2)\n",
        "        plt.imshow(images_deteriorated[row, 0], cmap=\"gray\", vmin=0.0, vmax=1.0)\n",
        "        plt.title(\"Image détériorée\")\n",
        "        plt.axis(\"off\");"
      ]
    },
    {
      "cell_type": "markdown",
      "id": "131c6b01",
      "metadata": {
        "id": "131c6b01"
      },
      "source": [
        "### Question 4\n",
        "\n",
        "Appelez la fonction `plot_original_and_deteriorated_images()` pour afficher quelques images originales et détériorées des jeux d'entraînement et de validation."
      ]
    },
    {
      "cell_type": "code",
      "execution_count": 26,
      "id": "d7097f84",
      "metadata": {
        "colab": {
          "base_uri": "https://localhost:8080/",
          "height": 1000
        },
        "id": "d7097f84",
        "outputId": "e3fbab5a-0291-4ba0-8cd0-db582e01ca3c"
      },
      "outputs": [
        {
          "output_type": "display_data",
          "data": {
            "text/plain": [
              "<Figure size 650x1500 with 10 Axes>"
            ],
            "image/png": "[encoded data removed]"
          },
          "metadata": {}
        }
      ],
      "source": [
        "# TODO\n",
        "plot_original_and_deteriorated_images(X_train_original[:5], X_train_deteriorated[:5])"
      ]
    },
    {
      "cell_type": "code",
      "execution_count": 27,
      "id": "6c3a40f6",
      "metadata": {
        "colab": {
          "base_uri": "https://localhost:8080/",
          "height": 1000
        },
        "id": "6c3a40f6",
        "outputId": "129832c8-a32e-4b7d-8b76-227dcd253624"
      },
      "outputs": [
        {
          "output_type": "display_data",
          "data": {
            "text/plain": [
              "<Figure size 650x1500 with 10 Axes>"
            ],
            "image/png": "[encoded data removed]"
          },
          "metadata": {}
        }
      ],
      "source": [
        "# TODO\n",
        "plot_original_and_deteriorated_images(X_val_original[:5], X_val_deteriorated[:5])"
      ]
    },
    {
      "cell_type": "markdown",
      "id": "c0239ca9",
      "metadata": {
        "id": "c0239ca9"
      },
      "source": [
        "Nous allons évaluer la performance des modèles avec l’erreur quadratique moyenne (*mean squared error*) :\n",
        "$$\n",
        "  \\text{MSE} = \\frac{1}{n H W} \\sum_{i=1}^n \\sum_{j=1}^H \\sum_{k=1}^W \\left( X_{i, j, k} - \\hat{X}_{i, j, k} \\right)^2\n",
        "$$\n",
        "où $n$ est le nombre d'images, $H$ est la hauteur (c'est-à-dire le nombre de lignes) et $W$ est la largeur (c'est-à-dire le nombre de colonnes).\n",
        "\n",
        "\n",
        "Un modèle vraiment trivial consiste à ne prédire que des images noires (c'est-à-dire dont tous les pixels sont égaux à $0.0$) :\n",
        "$$\n",
        "    \\forall i, j, k, \\; \\hat{X}_{i, j, k} = 0.0\n",
        "$$\n",
        "\n",
        "### Question 5\n",
        "\n",
        "Calculez les erreurs quadratiques moyennes sur les jeux d'entraînement et de validation pour cette approche. On rappelle que :\n",
        "\n",
        "* l'opérateur *puissance* en Python s'obtient avec deux étoiles : `2.0 ** 3` veut dire $2.0^3$ ; cet opérateur fonctionne également sur les tenseurs et applique la puissance à chaque élément du tenseur ;\n",
        "* on peut calculer la valeur moyenne d'un tenseur avec la méthode [`torch.Tensor.mean()`](https://docs.pytorch.org/docs/stable/generated/torch.Tensor.mean.html) ou la fonction [`torch.mean()`](https://docs.pytorch.org/docs/stable/generated/torch.mean.html)."
      ]
    },
    {
      "cell_type": "code",
      "execution_count": 40,
      "id": "70b6ad63",
      "metadata": {
        "colab": {
          "base_uri": "https://localhost:8080/"
        },
        "id": "70b6ad63",
        "outputId": "98c22beb-b747-4616-e24e-59d61cf06cf4"
      },
      "outputs": [
        {
          "output_type": "stream",
          "name": "stdout",
          "text": [
            "MSE sur le jeu d'entraînement noir : 0.11200257390737534\n",
            "MSE sur le jeu de validation  noir: 0.11395809799432755\n"
          ]
        }
      ],
      "source": [
        "# TODO\n",
        "def MSE(x, x_bar):\n",
        "    return float(torch.Tensor.mean((x - x_bar) ** 2))\n",
        "\n",
        "print(\"MSE sur le jeu d'entraînement noir :\", MSE(X_train_original, torch.zeros_like(X_train_original)))\n",
        "print(\"MSE sur le jeu de validation  noir:\", MSE(X_val_original, torch.zeros_like(X_val_original)))"
      ]
    },
    {
      "cell_type": "markdown",
      "id": "0dc07489",
      "metadata": {
        "id": "0dc07489"
      },
      "source": [
        "Un autre modèle trivial consiste à garder les images détériorées telles quelles.\n",
        "\n",
        "### Question 6\n",
        "\n",
        "Calculez les erreurs quadratiques moyennes sur les jeux d'entraînement et de validation pour cette approche."
      ]
    },
    {
      "cell_type": "code",
      "execution_count": 41,
      "id": "56738060",
      "metadata": {
        "colab": {
          "base_uri": "https://localhost:8080/"
        },
        "id": "56738060",
        "outputId": "4ea443de-1fae-4f26-a8af-5cbe7fd381db"
      },
      "outputs": [
        {
          "output_type": "stream",
          "name": "stdout",
          "text": [
            "MSE sur le jeu d'entraînement : 0.055970896035432816\n",
            "MSE sur le jeu de validation : 0.05699239298701286\n"
          ]
        }
      ],
      "source": [
        "# TODO\n",
        "print(\"MSE sur le jeu d'entraînement :\", MSE(X_train_original, X_train_deteriorated))\n",
        "print(\"MSE sur le jeu de validation :\", MSE(X_val_original, X_val_deteriorated))"
      ]
    },
    {
      "cell_type": "markdown",
      "id": "e91a1e1c",
      "metadata": {
        "id": "e91a1e1c"
      },
      "source": [
        "Avant d'entraîner un réseau de neurones, nous allons essayons une approche simple.\n",
        "Nous allons utiliser un noyau de floutage uniforme : on remplace la valeur de chaque pixel par la moyenne uniforme de son pixel et de ses pixels voisins.\n",
        "La fonction `box_blur_convolution()` définie ci-dessous implémente cette approche."
      ]
    },
    {
      "cell_type": "code",
      "execution_count": 35,
      "id": "708dabf5",
      "metadata": {
        "id": "708dabf5"
      },
      "outputs": [],
      "source": [
        "def box_blur_convolution(images_deteriorated, kernel_size=3):\n",
        "    \"\"\"\n",
        "\n",
        "    Parameters\n",
        "    ----------\n",
        "    images_deteriorated : Tensor, shape = (n_images, 1, hauteur, largeur)\n",
        "        Images détériorées.\n",
        "\n",
        "    kernel_size : int, default = 3\n",
        "        Taille du noyau. Doit être un entier impair supérieur ou égal à 3.\n",
        "\n",
        "    Returns\n",
        "    -------\n",
        "    images_convolved : Tensor, shape = (n_images, 1, hauteur, largeur)\n",
        "\n",
        "    \"\"\"\n",
        "    if not (isinstance(kernel_size, int) and (kernel_size > 2) and (kernel_size % 2 == 1)):\n",
        "        raise ValueError(\"'kernel_size' doit être un entier impair supérieur ou égal à 3.\")\n",
        "\n",
        "    kernel = torch.ones(1, 1, kernel_size, kernel_size) / kernel_size ** 2\n",
        "    conv = torch.nn.Conv2d(1, 1, kernel_size, padding=\"same\", bias=False)\n",
        "    conv.weight = torch.nn.Parameter(kernel, requires_grad=False)\n",
        "    images_convolved = conv(images_deteriorated)\n",
        "    return images_convolved"
      ]
    },
    {
      "cell_type": "markdown",
      "id": "1d14bd30",
      "metadata": {
        "id": "1d14bd30"
      },
      "source": [
        "On appelle cette fonction pour appliquer la transformation sur les jeux d'entraînement et de validation :"
      ]
    },
    {
      "cell_type": "code",
      "execution_count": 36,
      "id": "735cbf90",
      "metadata": {
        "id": "735cbf90"
      },
      "outputs": [],
      "source": [
        "X_train_reconstructed = box_blur_convolution(X_train_deteriorated)\n",
        "X_val_reconstructed = box_blur_convolution(X_val_deteriorated)"
      ]
    },
    {
      "cell_type": "markdown",
      "id": "3669bae6",
      "metadata": {
        "id": "3669bae6"
      },
      "source": [
        "### Question 7\n",
        "\n",
        "Calculez les erreurs quadratiques moyennes sur ces deux jeux."
      ]
    },
    {
      "cell_type": "code",
      "execution_count": 43,
      "id": "36358da4",
      "metadata": {
        "colab": {
          "base_uri": "https://localhost:8080/"
        },
        "id": "36358da4",
        "outputId": "0d2d3dc8-738b-45db-d7a8-0696b028c0b3"
      },
      "outputs": [
        {
          "output_type": "stream",
          "name": "stdout",
          "text": [
            "MSE sur le jeu d'entraînement flouté : 0.04468243941664696\n",
            "MSE sur le jeu de validation flouté: 0.045134663581848145\n"
          ]
        }
      ],
      "source": [
        "# TODO\n",
        "print(\"MSE sur le jeu d'entraînement flouté :\", MSE(X_train_original, X_train_reconstructed))\n",
        "print(\"MSE sur le jeu de validation flouté:\", MSE(X_val_original, X_val_reconstructed))"
      ]
    },
    {
      "cell_type": "markdown",
      "id": "4f7e2343",
      "metadata": {
        "id": "4f7e2343"
      },
      "source": [
        "On définit la fonction `plot_original_deteriorated_reconstructed_images()` pour afficher des images originales, des images détériorées et des images reconstruites."
      ]
    },
    {
      "cell_type": "code",
      "execution_count": 44,
      "id": "61caab50",
      "metadata": {
        "scrolled": true,
        "id": "61caab50"
      },
      "outputs": [],
      "source": [
        "def plot_original_deteriorated_reconstructed_images(\n",
        "    images_original, images_deteriorated, images_reconstructed\n",
        "):\n",
        "    \"\"\"Affiche les images originales, les images détériorées et les images reconstruites.\n",
        "\n",
        "    Parameters\n",
        "    ----------\n",
        "    images_original : Tensor, shape = (n_images, 1, hauteur, largeur)\n",
        "        Images originales.\n",
        "\n",
        "    images_deteriorated : Tensor, shape = (n_images, 1, hauteur, largeur)\n",
        "        Images détériorées.\n",
        "\n",
        "    images_reconstructed : Tensor, shape = (n_images, 1, hauteur, largeur)\n",
        "        Images reconstruites.\n",
        "    \"\"\"\n",
        "    # Récupère le nombre d'images\n",
        "    n_images = images_original.shape[0]\n",
        "\n",
        "    # Initialise la figure\n",
        "    plt.figure(figsize=(6.5, 3 * n_images))\n",
        "\n",
        "    # Pour chaque ligne\n",
        "    for row in range(n_images):\n",
        "\n",
        "        # Affiche l'image originale\n",
        "        plt.subplot(n_images, 3, 1 + row * 3)\n",
        "        plt.imshow(images_original[row, 0], cmap=\"gray\", vmin=0.0, vmax=1.0)\n",
        "        plt.title(\"Image originale\")\n",
        "        plt.axis(\"off\");\n",
        "\n",
        "        # Affiche l'image détériorée\n",
        "        plt.subplot(n_images, 3, 2 + row * 3)\n",
        "        plt.imshow(images_deteriorated[row, 0], cmap=\"gray\", vmin=0.0, vmax=1.0)\n",
        "        plt.title(\"Image détériorée\")\n",
        "        plt.axis(\"off\");\n",
        "\n",
        "        # Affiche l'image reconstruite\n",
        "        plt.subplot(n_images, 3, 3 + row * 3)\n",
        "        plt.imshow(images_reconstructed[row, 0], cmap=\"gray\", vmin=0.0, vmax=1.0)\n",
        "        plt.title(\"Image reconstruite\")\n",
        "        plt.axis(\"off\");"
      ]
    },
    {
      "cell_type": "markdown",
      "id": "b5f57bf5",
      "metadata": {
        "id": "b5f57bf5"
      },
      "source": [
        "### Question 8\n",
        "\n",
        "Appelez la fonction `plot_original_deteriorated_reconstructed_images()` pour afficher des images originales, des images détériorées et des images reconstruites sur le jeu de validation. Que constatez-vous ?"
      ]
    },
    {
      "cell_type": "code",
      "execution_count": 45,
      "id": "67b1c6e1",
      "metadata": {
        "colab": {
          "base_uri": "https://localhost:8080/",
          "height": 1000
        },
        "id": "67b1c6e1",
        "outputId": "ccd9a4a7-c975-49ea-d08c-6a9c46169c2c"
      },
      "outputs": [
        {
          "output_type": "display_data",
          "data": {
            "text/plain": [
              "<Figure size 650x1500 with 15 Axes>"
            ],
            "image/png": "[encoded data removed]"
          },
          "metadata": {}
        }
      ],
      "source": [
        "# TODO\n",
        "plot_original_deteriorated_reconstructed_images(X_train_original[:5], X_train_deteriorated[:5], X_train_reconstructed[:5])"
      ]
    },
    {
      "cell_type": "markdown",
      "id": "ac82ddf9",
      "metadata": {
        "id": "ac82ddf9"
      },
      "source": [
        "**Réponse** : on constate que sur les images reconstruites les nombres sont visibles mais flous."
      ]
    },
    {
      "cell_type": "markdown",
      "id": "c9acd310",
      "metadata": {
        "id": "c9acd310"
      },
      "source": [
        "### Question 9\n",
        "\n",
        "Pour confirmer votre réponse à la question précédente, affichez la distribution des pixels des images originales d'une part et des images reconstruites d'autre part, sur le jeu d'entraînement.\n",
        "Vous pouvez utiliser la fonction [`matplotlib.pyplot.hist()`](https://matplotlib.org/stable/api/_as_gen/matplotlib.pyplot.hist.html)."
      ]
    },
    {
      "cell_type": "code",
      "execution_count": 52,
      "id": "26c0f77b",
      "metadata": {
        "colab": {
          "base_uri": "https://localhost:8080/",
          "height": 618
        },
        "id": "26c0f77b",
        "outputId": "27d1b3ba-22c2-4610-ba1d-67366ef934be"
      },
      "outputs": [
        {
          "output_type": "execute_result",
          "data": {
            "text/plain": [
              "<function matplotlib.pyplot.show(close=None, block=None)>"
            ],
            "text/html": [
              "<div style=\"max-width:800px; border: 1px solid var(--colab-border-color);\"><style>\n",
              "      pre.function-repr-contents {\n",
              "        overflow-x: auto;\n",
              "        padding: 8px 12px;\n",
              "        max-height: 500px;\n",
              "      }\n",
              "\n",
              "      pre.function-repr-contents.function-repr-contents-collapsed {\n",
              "        cursor: pointer;\n",
              "        max-height: 100px;\n",
              "      }\n",
              "    </style>\n",
              "    <pre style=\"white-space: initial; background:\n",
              "         var(--colab-secondary-surface-color); padding: 8px 12px;\n",
              "         border-bottom: 1px solid var(--colab-border-color);\"><b>matplotlib.pyplot.show</b><br/>def show(*args, **kwargs) -&gt; None</pre><pre class=\"function-repr-contents function-repr-contents-collapsed\" style=\"\"><a class=\"filepath\" style=\"display:none\" href=\"#\">/usr/local/lib/python3.12/dist-packages/matplotlib/pyplot.py</a>Display all open figures.\n",
              "\n",
              "Parameters\n",
              "----------\n",
              "block : bool, optional\n",
              "    Whether to wait for all figures to be closed before returning.\n",
              "\n",
              "    If `True` block and run the GUI main loop until all figure windows\n",
              "    are closed.\n",
              "\n",
              "    If `False` ensure that all figure windows are displayed and return\n",
              "    immediately.  In this case, you are responsible for ensuring\n",
              "    that the event loop is running to have responsive figures.\n",
              "\n",
              "    Defaults to True in non-interactive mode and to False in interactive\n",
              "    mode (see `.pyplot.isinteractive`).\n",
              "\n",
              "See Also\n",
              "--------\n",
              "ion : Enable interactive mode, which shows / updates the figure after\n",
              "      every plotting command, so that calling ``show()`` is not necessary.\n",
              "ioff : Disable interactive mode.\n",
              "savefig : Save the figure to an image file instead of showing it on screen.\n",
              "\n",
              "Notes\n",
              "-----\n",
              "**Saving figures to file and showing a window at the same time**\n",
              "\n",
              "If you want an image file as well as a user interface window, use\n",
              "`.pyplot.savefig` before `.pyplot.show`. At the end of (a blocking)\n",
              "``show()`` the figure is closed and thus unregistered from pyplot. Calling\n",
              "`.pyplot.savefig` afterwards would save a new and thus empty figure. This\n",
              "limitation of command order does not apply if the show is non-blocking or\n",
              "if you keep a reference to the figure and use `.Figure.savefig`.\n",
              "\n",
              "**Auto-show in jupyter notebooks**\n",
              "\n",
              "The jupyter backends (activated via ``%matplotlib inline``,\n",
              "``%matplotlib notebook``, or ``%matplotlib widget``), call ``show()`` at\n",
              "the end of every cell by default. Thus, you usually don&#x27;t have to call it\n",
              "explicitly there.</pre>\n",
              "      <script>\n",
              "      if (google.colab.kernel.accessAllowed && google.colab.files && google.colab.files.view) {\n",
              "        for (const element of document.querySelectorAll('.filepath')) {\n",
              "          element.style.display = 'block'\n",
              "          element.onclick = (event) => {\n",
              "            event.preventDefault();\n",
              "            event.stopPropagation();\n",
              "            google.colab.files.view(element.textContent, 569);\n",
              "          };\n",
              "        }\n",
              "      }\n",
              "      for (const element of document.querySelectorAll('.function-repr-contents')) {\n",
              "        element.onclick = (event) => {\n",
              "          event.preventDefault();\n",
              "          event.stopPropagation();\n",
              "          element.classList.toggle('function-repr-contents-collapsed');\n",
              "        };\n",
              "      }\n",
              "      </script>\n",
              "      </div>"
            ]
          },
          "metadata": {},
          "execution_count": 52
        },
        {
          "output_type": "display_data",
          "data": {
            "text/plain": [
              "<Figure size 640x480 with 1 Axes>"
            ],
            "image/png": "[encoded data removed]"
          },
          "metadata": {}
        }
      ],
      "source": [
        "# TODO\n",
        "import matplotlib.pyplot as plt\n",
        "import numpy as np\n",
        "\n",
        "pixel_original = X_train_original.ravel()\n",
        "pixel_reconstructed = X_train_reconstructed.ravel()\n",
        "\n",
        "\n",
        "plt.hist(pixel_original, bins=50, alpha=0.6, label=\"originales\", color=\"blue\", density=True)\n",
        "plt.hist(pixel_reconstructed, bins=50, alpha=0.6, label=\"reconstruites\", color=\"yellow\", density=True)\n",
        "plt.xlabel(\"Valeur du pixel\")\n",
        "plt.ylabel(\"Densité\")\n",
        "plt.legend()\n",
        "plt.show"
      ]
    },
    {
      "cell_type": "markdown",
      "id": "484ae9d2",
      "metadata": {
        "id": "484ae9d2"
      },
      "source": [
        "Pour essayer de remédier à ce problème, nous allons normaliser les images pour que la valeur maximale des pixels de chaque image reconstruite soit égale à $1.0$. Pour ce faire, on va simplement diviser chaque pixel d'une image reconstruite par la valeur maximale des pixels de cette image reconsruite.\n",
        "\n",
        "### Question 10\n",
        "\n",
        "1. Appliquez cette transformation aux images reconstruites des jeux d'entraînement et d'évaluation.\n",
        "2. Affichez la nouvelle distribution des pixels sur le jeu d'entraînement.\n",
        "3. Affichez quelques images reconstruites normalisées sur le jeu de validation avec la fonction `plot_original_deteriorated_reconstructed_images()`.\n",
        "4. Calculez les erreurs quadratiques moyennes sur les deux jeux.\n",
        "5. Commentez les résultats obtenus.\n",
        "\n",
        "Pour répondre à la première question, vous pouvez utiliser la fonction [`torch.amax()`](https://docs.pytorch.org/docs/stable/generated/torch.amax.html) ou la méthode [`torch.Tensor.amax()`](https://docs.pytorch.org/docs/stable/generated/torch.Tensor.amax.html).\n",
        "Lisez la documentation, notamment pour les paramètres `dim` et `keepdim`.\n",
        "Il est possible de répondre à la question sans boucle `for` grâce au [*broadcasting*](https://docs.pytorch.org/docs/stable/notes/broadcasting.html)."
      ]
    },
    {
      "cell_type": "code",
      "execution_count": 53,
      "id": "c7bf3c52",
      "metadata": {
        "id": "c7bf3c52"
      },
      "outputs": [],
      "source": [
        "# TODO\n",
        "X_train_reconstructed_normalized = X_train_reconstructed / torch.amax(X_train_reconstructed, dim=(1,2,3), keepdim=True)\n",
        "X_val_reconstructed_normalized = X_val_reconstructed / torch.amax(X_val_reconstructed, dim=(1,2,3), keepdim=True)"
      ]
    },
    {
      "cell_type": "code",
      "execution_count": 60,
      "id": "983d9d3c",
      "metadata": {
        "colab": {
          "base_uri": "https://localhost:8080/",
          "height": 618
        },
        "id": "983d9d3c",
        "outputId": "2a59b8ea-90d6-41c9-94f5-b57b8e596509"
      },
      "outputs": [
        {
          "output_type": "execute_result",
          "data": {
            "text/plain": [
              "<function matplotlib.pyplot.show(close=None, block=None)>"
            ],
            "text/html": [
              "<div style=\"max-width:800px; border: 1px solid var(--colab-border-color);\"><style>\n",
              "      pre.function-repr-contents {\n",
              "        overflow-x: auto;\n",
              "        padding: 8px 12px;\n",
              "        max-height: 500px;\n",
              "      }\n",
              "\n",
              "      pre.function-repr-contents.function-repr-contents-collapsed {\n",
              "        cursor: pointer;\n",
              "        max-height: 100px;\n",
              "      }\n",
              "    </style>\n",
              "    <pre style=\"white-space: initial; background:\n",
              "         var(--colab-secondary-surface-color); padding: 8px 12px;\n",
              "         border-bottom: 1px solid var(--colab-border-color);\"><b>matplotlib.pyplot.show</b><br/>def show(*args, **kwargs) -&gt; None</pre><pre class=\"function-repr-contents function-repr-contents-collapsed\" style=\"\"><a class=\"filepath\" style=\"display:none\" href=\"#\">/usr/local/lib/python3.12/dist-packages/matplotlib/pyplot.py</a>Display all open figures.\n",
              "\n",
              "Parameters\n",
              "----------\n",
              "block : bool, optional\n",
              "    Whether to wait for all figures to be closed before returning.\n",
              "\n",
              "    If `True` block and run the GUI main loop until all figure windows\n",
              "    are closed.\n",
              "\n",
              "    If `False` ensure that all figure windows are displayed and return\n",
              "    immediately.  In this case, you are responsible for ensuring\n",
              "    that the event loop is running to have responsive figures.\n",
              "\n",
              "    Defaults to True in non-interactive mode and to False in interactive\n",
              "    mode (see `.pyplot.isinteractive`).\n",
              "\n",
              "See Also\n",
              "--------\n",
              "ion : Enable interactive mode, which shows / updates the figure after\n",
              "      every plotting command, so that calling ``show()`` is not necessary.\n",
              "ioff : Disable interactive mode.\n",
              "savefig : Save the figure to an image file instead of showing it on screen.\n",
              "\n",
              "Notes\n",
              "-----\n",
              "**Saving figures to file and showing a window at the same time**\n",
              "\n",
              "If you want an image file as well as a user interface window, use\n",
              "`.pyplot.savefig` before `.pyplot.show`. At the end of (a blocking)\n",
              "``show()`` the figure is closed and thus unregistered from pyplot. Calling\n",
              "`.pyplot.savefig` afterwards would save a new and thus empty figure. This\n",
              "limitation of command order does not apply if the show is non-blocking or\n",
              "if you keep a reference to the figure and use `.Figure.savefig`.\n",
              "\n",
              "**Auto-show in jupyter notebooks**\n",
              "\n",
              "The jupyter backends (activated via ``%matplotlib inline``,\n",
              "``%matplotlib notebook``, or ``%matplotlib widget``), call ``show()`` at\n",
              "the end of every cell by default. Thus, you usually don&#x27;t have to call it\n",
              "explicitly there.</pre>\n",
              "      <script>\n",
              "      if (google.colab.kernel.accessAllowed && google.colab.files && google.colab.files.view) {\n",
              "        for (const element of document.querySelectorAll('.filepath')) {\n",
              "          element.style.display = 'block'\n",
              "          element.onclick = (event) => {\n",
              "            event.preventDefault();\n",
              "            event.stopPropagation();\n",
              "            google.colab.files.view(element.textContent, 569);\n",
              "          };\n",
              "        }\n",
              "      }\n",
              "      for (const element of document.querySelectorAll('.function-repr-contents')) {\n",
              "        element.onclick = (event) => {\n",
              "          event.preventDefault();\n",
              "          event.stopPropagation();\n",
              "          element.classList.toggle('function-repr-contents-collapsed');\n",
              "        };\n",
              "      }\n",
              "      </script>\n",
              "      </div>"
            ]
          },
          "metadata": {},
          "execution_count": 60
        },
        {
          "output_type": "display_data",
          "data": {
            "text/plain": [
              "<Figure size 640x480 with 1 Axes>"
            ],
            "image/png": "[encoded data removed]"
          },
          "metadata": {}
        }
      ],
      "source": [
        "# TODO\n",
        "import matplotlib.pyplot as plt\n",
        "import numpy as np\n",
        "\n",
        "pixel_original = X_train_original.ravel()\n",
        "pixel_reconstructed = X_train_reconstructed_normalized.ravel()\n",
        "\n",
        "\n",
        "plt.hist(pixel_original, bins=50, alpha=0.9, label=\"originales\", color=\"blue\", density=True)\n",
        "plt.hist(pixel_reconstructed, bins=50, alpha=0.6, label=\"reconstruites\", color=\"yellow\", density=True)\n",
        "plt.xlabel(\"Valeur du pixel\")\n",
        "plt.ylabel(\"Densité\")\n",
        "plt.legend()\n",
        "plt.show"
      ]
    },
    {
      "cell_type": "code",
      "execution_count": 55,
      "id": "6dc978bb",
      "metadata": {
        "colab": {
          "base_uri": "https://localhost:8080/",
          "height": 1000
        },
        "id": "6dc978bb",
        "outputId": "a68765f8-f518-481f-a194-cfe0dcec903b"
      },
      "outputs": [
        {
          "output_type": "display_data",
          "data": {
            "text/plain": [
              "<Figure size 650x1500 with 15 Axes>"
            ],
            "image/png": "[encoded data removed]"
          },
          "metadata": {}
        }
      ],
      "source": [
        "# TODO\n",
        "plot_original_deteriorated_reconstructed_images(X_train_original[:5], X_train_deteriorated[:5], X_train_reconstructed_normalized[:5])"
      ]
    },
    {
      "cell_type": "code",
      "execution_count": 56,
      "id": "7fed9427",
      "metadata": {
        "colab": {
          "base_uri": "https://localhost:8080/"
        },
        "id": "7fed9427",
        "outputId": "257a675e-59c1-44f8-d2a9-2dbb6b423e9a"
      },
      "outputs": [
        {
          "output_type": "stream",
          "name": "stdout",
          "text": [
            "erreur quadratique train reconstruit normalisé 0.03150806576013565\n",
            "erreur quadratique val reconstruit normalisé 0.031934380531311035\n"
          ]
        }
      ],
      "source": [
        "# TODO\n",
        "print(\"erreur quadratique train reconstruit normalisé\",MSE(X_train_original, X_train_reconstructed_normalized))\n",
        "print(\"erreur quadratique val reconstruit normalisé\",MSE(X_val_original, X_val_reconstructed_normalized))\n"
      ]
    },
    {
      "cell_type": "markdown",
      "id": "a5d478ba",
      "metadata": {
        "id": "a5d478ba"
      },
      "source": [
        "**Réponse** : Les résultats sont meilleurs avec une MSE qui se rapproche de 0 cependant les images reconstruites restent tout de même floues et pas totaltement reconstruites."
      ]
    },
    {
      "cell_type": "markdown",
      "id": "570fac56",
      "metadata": {
        "id": "570fac56"
      },
      "source": [
        "Nous allons maintenant essayer une autre approche un peu plus avancée pour rendre la distribution des pixels des images reconstruites plus proche de celles des pixels des images originales.\n",
        "Pour cela, nous allons utiliser la **transformation par quantiles**.\n",
        "\n",
        "Sur le jeu d'entraînement, on apprend :\n",
        "* $T_1$ : la transformation qui passe de la distribution des pixels des images originales à une distribution uniforme, et\n",
        "* $T_2$ : la transformation qui passe de la distribution des pixels des images reconstruites à une distribution uniforme.\n",
        "\n",
        "Ensuite, pour transformer les images reconstruites afin que la distribution de leurs pixels suive la distribution des pixels des images originales, on applique la transformation $T_1^{-1} \\circ T_2$ aux images reconstruites.\n",
        "\n",
        "Le code ci-dessous applique ces transformations sur les jeux d'entraînement et d'évaluation :"
      ]
    },
    {
      "cell_type": "code",
      "execution_count": 57,
      "id": "ce799684",
      "metadata": {
        "id": "ce799684"
      },
      "outputs": [],
      "source": [
        "from sklearn.preprocessing import QuantileTransformer\n",
        "\n",
        "\n",
        "qt_train_original = QuantileTransformer(n_quantiles=100, subsample=None)\n",
        "qt_train_reconstructed = QuantileTransformer(n_quantiles=100, subsample=None)\n",
        "\n",
        "qt_train_original.fit(X_train_original.ravel().view(-1, 1))\n",
        "qt_train_reconstructed.fit(X_train_reconstructed.ravel().view(-1, 1))\n",
        "\n",
        "X_train_reconstructed_quantile = qt_train_original.inverse_transform(\n",
        "    qt_train_reconstructed.transform(X_train_reconstructed.ravel().view(-1, 1))\n",
        ").reshape(X_train_reconstructed.shape)\n",
        "\n",
        "X_val_reconstructed_quantile = qt_train_original.inverse_transform(\n",
        "    qt_train_reconstructed.transform(X_val_reconstructed.ravel().view(-1, 1))\n",
        ").reshape(X_val_reconstructed.shape)"
      ]
    },
    {
      "cell_type": "markdown",
      "id": "be365ca7",
      "metadata": {
        "id": "be365ca7"
      },
      "source": [
        "### Question 11\n",
        "\n",
        "1. Affichez la nouvelle distribution des pixels sur le jeu d'entraînement.\n",
        "2. Affichez quelques images reconstruites transformées sur le jeu de validation avec la fonction `plot_original_deteriorated_reconstructed_images()`.\n",
        "3. Calculez les erreurs quadratiques moyennes sur les deux jeux.\n",
        "4. Commentez les résultats obtenus."
      ]
    },
    {
      "cell_type": "code",
      "execution_count": 61,
      "id": "470489e0",
      "metadata": {
        "colab": {
          "base_uri": "https://localhost:8080/",
          "height": 618
        },
        "id": "470489e0",
        "outputId": "116fc010-a84c-4a16-b5bc-9ff1f2aff44e"
      },
      "outputs": [
        {
          "output_type": "execute_result",
          "data": {
            "text/plain": [
              "<function matplotlib.pyplot.show(close=None, block=None)>"
            ],
            "text/html": [
              "<div style=\"max-width:800px; border: 1px solid var(--colab-border-color);\"><style>\n",
              "      pre.function-repr-contents {\n",
              "        overflow-x: auto;\n",
              "        padding: 8px 12px;\n",
              "        max-height: 500px;\n",
              "      }\n",
              "\n",
              "      pre.function-repr-contents.function-repr-contents-collapsed {\n",
              "        cursor: pointer;\n",
              "        max-height: 100px;\n",
              "      }\n",
              "    </style>\n",
              "    <pre style=\"white-space: initial; background:\n",
              "         var(--colab-secondary-surface-color); padding: 8px 12px;\n",
              "         border-bottom: 1px solid var(--colab-border-color);\"><b>matplotlib.pyplot.show</b><br/>def show(*args, **kwargs) -&gt; None</pre><pre class=\"function-repr-contents function-repr-contents-collapsed\" style=\"\"><a class=\"filepath\" style=\"display:none\" href=\"#\">/usr/local/lib/python3.12/dist-packages/matplotlib/pyplot.py</a>Display all open figures.\n",
              "\n",
              "Parameters\n",
              "----------\n",
              "block : bool, optional\n",
              "    Whether to wait for all figures to be closed before returning.\n",
              "\n",
              "    If `True` block and run the GUI main loop until all figure windows\n",
              "    are closed.\n",
              "\n",
              "    If `False` ensure that all figure windows are displayed and return\n",
              "    immediately.  In this case, you are responsible for ensuring\n",
              "    that the event loop is running to have responsive figures.\n",
              "\n",
              "    Defaults to True in non-interactive mode and to False in interactive\n",
              "    mode (see `.pyplot.isinteractive`).\n",
              "\n",
              "See Also\n",
              "--------\n",
              "ion : Enable interactive mode, which shows / updates the figure after\n",
              "      every plotting command, so that calling ``show()`` is not necessary.\n",
              "ioff : Disable interactive mode.\n",
              "savefig : Save the figure to an image file instead of showing it on screen.\n",
              "\n",
              "Notes\n",
              "-----\n",
              "**Saving figures to file and showing a window at the same time**\n",
              "\n",
              "If you want an image file as well as a user interface window, use\n",
              "`.pyplot.savefig` before `.pyplot.show`. At the end of (a blocking)\n",
              "``show()`` the figure is closed and thus unregistered from pyplot. Calling\n",
              "`.pyplot.savefig` afterwards would save a new and thus empty figure. This\n",
              "limitation of command order does not apply if the show is non-blocking or\n",
              "if you keep a reference to the figure and use `.Figure.savefig`.\n",
              "\n",
              "**Auto-show in jupyter notebooks**\n",
              "\n",
              "The jupyter backends (activated via ``%matplotlib inline``,\n",
              "``%matplotlib notebook``, or ``%matplotlib widget``), call ``show()`` at\n",
              "the end of every cell by default. Thus, you usually don&#x27;t have to call it\n",
              "explicitly there.</pre>\n",
              "      <script>\n",
              "      if (google.colab.kernel.accessAllowed && google.colab.files && google.colab.files.view) {\n",
              "        for (const element of document.querySelectorAll('.filepath')) {\n",
              "          element.style.display = 'block'\n",
              "          element.onclick = (event) => {\n",
              "            event.preventDefault();\n",
              "            event.stopPropagation();\n",
              "            google.colab.files.view(element.textContent, 569);\n",
              "          };\n",
              "        }\n",
              "      }\n",
              "      for (const element of document.querySelectorAll('.function-repr-contents')) {\n",
              "        element.onclick = (event) => {\n",
              "          event.preventDefault();\n",
              "          event.stopPropagation();\n",
              "          element.classList.toggle('function-repr-contents-collapsed');\n",
              "        };\n",
              "      }\n",
              "      </script>\n",
              "      </div>"
            ]
          },
          "metadata": {},
          "execution_count": 61
        },
        {
          "output_type": "display_data",
          "data": {
            "text/plain": [
              "<Figure size 640x480 with 1 Axes>"
            ],
            "image/png": "[encoded data removed]"
          },
          "metadata": {}
        }
      ],
      "source": [
        "# TODO\n",
        "# TODO\n",
        "import matplotlib.pyplot as plt\n",
        "import numpy as np\n",
        "\n",
        "pixel_original = X_train_original.ravel()\n",
        "pixel_reconstructed = X_train_reconstructed_quantile.ravel()\n",
        "\n",
        "\n",
        "plt.hist(pixel_original, bins=50, alpha=0.9, label=\"originales\", color=\"blue\", density=True)\n",
        "plt.hist(pixel_reconstructed, bins=50, alpha=0.6, label=\"reconstruites\", color=\"yellow\", density=True)\n",
        "plt.xlabel(\"Valeur du pixel\")\n",
        "plt.ylabel(\"Densité\")\n",
        "plt.legend()\n",
        "plt.show"
      ]
    },
    {
      "cell_type": "code",
      "execution_count": 62,
      "id": "75f3e6fa",
      "metadata": {
        "colab": {
          "base_uri": "https://localhost:8080/",
          "height": 1000
        },
        "id": "75f3e6fa",
        "outputId": "82d0a22f-ef77-478f-f1f9-3a11b40fad70"
      },
      "outputs": [
        {
          "output_type": "display_data",
          "data": {
            "text/plain": [
              "<Figure size 650x1500 with 15 Axes>"
            ],
            "image/png": "[encoded data removed]"
          },
          "metadata": {}
        }
      ],
      "source": [
        "# TODO\n",
        "plot_original_deteriorated_reconstructed_images(X_train_original[:5], X_train_deteriorated[:5], X_train_reconstructed_quantile[:5])"
      ]
    },
    {
      "cell_type": "code",
      "execution_count": 63,
      "id": "9deb01ff",
      "metadata": {
        "colab": {
          "base_uri": "https://localhost:8080/"
        },
        "id": "9deb01ff",
        "outputId": "b6e74066-5d15-4618-9bd7-e926de494b5a"
      },
      "outputs": [
        {
          "output_type": "stream",
          "name": "stderr",
          "text": [
            "/tmp/ipython-input-1440313138.py:3: DeprecationWarning: __array_wrap__ must accept context and return_scalar arguments (positionally) in the future. (Deprecated NumPy 2.0)\n",
            "  return float(torch.Tensor.mean((x - x_bar) ** 2))\n"
          ]
        },
        {
          "output_type": "stream",
          "name": "stdout",
          "text": [
            "mse train reconstruit quantile : 0.026407426357416042\n",
            "mse val reconstruit quantile : 0.02624420759266613\n"
          ]
        }
      ],
      "source": [
        "# TODO\n",
        "print(\"mse train reconstruit quantile :\",MSE(X_train_original, X_train_reconstructed_quantile))\n",
        "print(\"mse val reconstruit quantile :\",MSE(X_val_original, X_val_reconstructed_quantile))"
      ]
    },
    {
      "cell_type": "markdown",
      "id": "69209ba0",
      "metadata": {
        "id": "69209ba0"
      },
      "source": [
        "**Réponse** : La mse s'améliore encore, la densité des reconstruit est proche des originales. Les images reste encore un peu flou et pas totalement reconstruites"
      ]
    },
    {
      "cell_type": "markdown",
      "id": "35ea1305",
      "metadata": {
        "id": "35ea1305"
      },
      "source": [
        "Nous allons maintenant essayer une approche par réseaux de neurones convolutifs.\n",
        "\n",
        "### Question 12\n",
        "\n",
        "Créez les *dataloaders* pour les jeux d'entraînement et de validation en utilisant la classe [`torch.utils.data.DataLoader()`](https://docs.pytorch.org/docs/stable/data.html#torch.utils.data.DataLoader) avec des lots de taille $32$. N'oubliez pas de mélanger (*shuffle*) les observations pour le jeu d'entraînement, mais pas pour le jeu de validation. Pour créer les jeux de données, utiliser la classe [`torch.utils.data.TensorDataset()`](https://docs.pytorch.org/docs/stable/data.html#torch.utils.data.TensorDataset). **Chaque jeu de données doit contenir à la fois les images détériorées et les images originales**."
      ]
    },
    {
      "cell_type": "code",
      "execution_count": 74,
      "id": "8ef54b20",
      "metadata": {
        "id": "8ef54b20"
      },
      "outputs": [],
      "source": [
        "# TODO\n",
        "from torch.utils.data import DataLoader, TensorDataset\n",
        "\n",
        "dataset_train = TensorDataset(X_train_deteriorated, X_train_original)\n",
        "dataset_val = TensorDataset(X_val_deteriorated, X_val_original)\n",
        "\n",
        "dataloader_train = DataLoader(dataset_train, batch_size=32, shuffle=True)\n",
        "dataloader_val = DataLoader(dataset_val, batch_size=32)"
      ]
    },
    {
      "cell_type": "markdown",
      "id": "84a20c50",
      "metadata": {
        "id": "84a20c50"
      },
      "source": [
        "## Architecture"
      ]
    },
    {
      "cell_type": "markdown",
      "id": "69747852",
      "metadata": {
        "id": "69747852"
      },
      "source": [
        "Nous allons utiliser une architecture de type auto-encodeur, composée d'un encodeur et d'un décodeur.\n",
        "\n",
        "L'encodeur aura l'architecture séquentielle suivante :\n",
        "\n",
        "* Convolution en deux dimensions avec $32$ canaux en sortie, un noyau de taille $3 \\times 3$ et du rembourrage (*padding*) de $1$.\n",
        "* Fonction d'activation ReLU.\n",
        "* Regroupement par le maximum avec un noyau de taille $2 \\times 2$.\n",
        "* Convolution en deux dimensions avec $16$ canaux en sortie, un noyau de taille $3 \\times 3$ et du rembourrage (*padding*) de $1$.\n",
        "* Fonction d'activation ReLU.\n",
        "* Regroupement par le maximum avec un noyau de taille $2 \\times 2$.\n",
        "* Convolution en deux dimensions avec $8$ canaux en sorties, un noyau de taille $3 \\times 3$ et du rembourrage (*padding*) de $1$.\n",
        "* Fonction d'activation ReLU.\n",
        "* Regroupement par le maximum avec un noyau de taille $2 \\times 2$.\n",
        "\n",
        "Le décodeur aura l'architecture séquentielle suivante :\n",
        "\n",
        "* Convolution transposée avec $8$ canaux en sortie, un noyau de taille $3 \\times 3$ et un pas (*stride*) de taille $2$.\n",
        "* Fonction d'activation ReLU.\n",
        "\n",
        "* Convolution transposée avec $16$ canaux en sortie, un noyau de taille $2 \\times 2$ et un pas (*stride*) de taille $2$.\n",
        "* Fonction d'activation ReLU.\n",
        "\n",
        "* Convolution transposée avec $32$ canaux en sortie, un noyau de taille $2 \\times 2$ et un pas (*stride*) de taille $2$.\n",
        "* Fonction d'activation ReLU.\n",
        "\n",
        "* Convolution avec $1$ canal en sortie, un noyau de taille $3 \\times 3$ et du rembourrage (*padding*) de $1$.\n",
        "* Fonction d'activation sigmoïde.\n",
        "\n",
        "Voici les liens vers les documentations des classes pertinentes :\n",
        "[`torch.nn.Conv2d()`](https://pytorch.org/docs/stable/generated/torch.nn.Conv2d.html),\n",
        "[`torch.nn.ReLU()`](https://pytorch.org/docs/stable/generated/torch.nn.ReLU.html),\n",
        "[`torch.nn.MaxPool2d()`](https://pytorch.org/docs/stable/generated/torch.nn.MaxPool2d.html),\n",
        "[`torch.nn.ConvTranspose2d()`](https://pytorch.org/docs/stable/generated/torch.nn.ConvTranspose2d.html) et\n",
        "[`torch.nn.Sigmoid()`](https://pytorch.org/docs/stable/generated/torch.nn.Sigmoid.html).\n",
        "\n",
        "        \n",
        "### Question 13\n",
        "\n",
        "Complétez le code manquant dans les méthodes `__init__()`, `forward()`, `step()` et `configure_optimizers()` de la classe `DenoisingAutoencoder()` avec les informations suivantes :\n",
        "* `__init__()` : il faut définir la fonction de perte (`self.loss`) : on utilisera l'erreur quadratique moyenne ; il faut initialiser toutes les couches.\n",
        "* `forward()` : il faut définir la passe avant, c'est-à-dire comment passer des entrées (les images détériorées) aux sorties (les images reconstruites).\n",
        "* `step()` : étant donné un lot d'observations (`batch`), il faut :\n",
        "    + récupérer les entrées (les images détériorées) et les vraies sorties (les images originales),\n",
        "    + faire une passe avant pour récupérer les images reconstruites,\n",
        "    + calculer la fonction de coût entre les images reconstruites et les images originales (`loss`).\n",
        "* `configure_optimizers()` : on utilisera l'algorithme d'optimisation *Adam* avec les valeurs par défaut pour ses hyperparamètres."
      ]
    },
    {
      "cell_type": "code",
      "execution_count": 76,
      "id": "e2dac183",
      "metadata": {
        "id": "e2dac183"
      },
      "outputs": [],
      "source": [
        "import lightning as L\n",
        "\n",
        "\n",
        "class DenoisingAutoencoder(L.LightningModule):\n",
        "\n",
        "    def __init__(self):\n",
        "        \"\"\"Constructeur.\n",
        "\n",
        "        Dans le constructeur, on exécute le constructeur de la clase mère et on définit\n",
        "        toutes les couches et fonctions d'activation de notre réseau de neurones.\n",
        "        \"\"\"\n",
        "        super().__init__()  # Toujours exécuter le constructeur de la classe mère\n",
        "\n",
        "        ### BEGIN TODO ###\n",
        "        # Initialisation de la fonction de perte\n",
        "        self.loss = torch.nn.MSELoss()\n",
        "\n",
        "        # Initialisation de toutes les couches\n",
        "        self.encoder = torch.nn.Sequential(\n",
        "            torch.nn.Conv2d(1, 32, kernel_size = 3, padding=1),\n",
        "            torch.nn.ReLU(),\n",
        "            torch.nn.MaxPool2d(2),\n",
        "            torch.nn.Conv2d(32, 16, kernel_size = 3, padding=1),\n",
        "            torch.nn.ReLU(),\n",
        "            torch.nn.MaxPool2d(2),\n",
        "            torch.nn.Conv2d(16, 8, kernel_size = 3, padding=1),\n",
        "            torch.nn.ReLU(),\n",
        "            torch.nn.MaxPool2d(2),\n",
        "        )\n",
        "        self.decoder = torch.nn.Sequential(\n",
        "            torch.nn.ConvTranspose2d(8, 8, kernel_size = 3, stride = 2),\n",
        "            torch.nn.ReLU(),\n",
        "            torch.nn.ConvTranspose2d(8,16, kernel_size = 2, stride = 2),\n",
        "            torch.nn.ReLU(),\n",
        "            torch.nn.ConvTranspose2d(16, 32, kernel_size = 2, stride = 2),\n",
        "            torch.nn.ReLU(),\n",
        "            torch.nn.Conv2d(32, 1, kernel_size = 3, padding=1),\n",
        "            torch.nn.Sigmoid()\n",
        "          )\n",
        "\n",
        "        #### END TODO ####\n",
        "\n",
        "    def forward(self, X_deteriorated):\n",
        "        \"\"\"Passe avant\n",
        "\n",
        "        Parameters\n",
        "        ----------\n",
        "        X_deteriorated : Tensor, shape = (taille_lot, 1, hauteur, largeur)\n",
        "            Images détériorées.\n",
        "\n",
        "        Returns\n",
        "        -------\n",
        "        X_predicted : Tensor, shape = (taille_lot, 1, hauteur, largeur)\n",
        "            Images prédites.\n",
        "        \"\"\"\n",
        "        ### BEGIN TODO ###\n",
        "        x = self.encoder(X_deteriorated)\n",
        "        X_predicted = self.decoder(x)\n",
        "        #### END TODO ####\n",
        "        return X_predicted\n",
        "\n",
        "    def step(self, batch, dataset):\n",
        "        \"\"\"Effectue une étape.\n",
        "\n",
        "        Une étape consiste à passer d'un lot d'images (l'argument X)\n",
        "        à l'évaluation de la fonction de coût pour ce lot d'observations.\n",
        "\n",
        "        Parameters\n",
        "        ----------\n",
        "        batch : list[Tensor]\n",
        "            Lot d'observations.\n",
        "\n",
        "        dataset : {\"training\", \"validation\"}\n",
        "            Jeu de données utilisé.\n",
        "\n",
        "        Returns\n",
        "        -------\n",
        "        loss : Tensor, shape = (1,)\n",
        "            La fonction de coût pour ce lot d'observations.\n",
        "        \"\"\"\n",
        "        ### BEGIN TODO ###\n",
        "        x_deteriorated, x_target = batch\n",
        "        y = self(x_deteriorated)\n",
        "        loss = self.loss(y, x_target)\n",
        "        #### END TODO ###\n",
        "\n",
        "        if dataset == \"training\":\n",
        "            name = \"train\"\n",
        "            bar_step = True\n",
        "        else:\n",
        "            name = \"val\"\n",
        "            bar_step = False\n",
        "\n",
        "        self.log(f\"loss_{name}\", loss, prog_bar=bar_step, on_step=bar_step, on_epoch=True)\n",
        "\n",
        "        return loss\n",
        "\n",
        "    def training_step(self, batch):\n",
        "        \"\"\"Effectue une étape d'entraînement.\"\"\"\n",
        "        return self.step(batch, \"training\")\n",
        "\n",
        "    def validation_step(self, batch):\n",
        "        \"\"\"Effectue une étape de validation.\"\"\"\n",
        "        return self.step(batch, \"validation\")\n",
        "\n",
        "    def on_train_start(self):\n",
        "        \"\"\"Code exécuté au début de l'entraînement.\"\"\"\n",
        "        string = f\"Version {self.trainer.logger.version}\"\n",
        "        print(f\"{string}\\n{'=' * len(string)}\\n\")\n",
        "\n",
        "    def on_train_epoch_end(self):\n",
        "        \"\"\"Code exécuté à la fin de chaque époque d'entraînement.\"\"\"\n",
        "        metrics = self.trainer.callback_metrics\n",
        "        string = (f\"\"\"\n",
        "            Époque {self.trainer.current_epoch + 1} / {self.trainer.max_epochs}\n",
        "            ------------------------------------\n",
        "            |     Jeu      | Fonction de perte |\n",
        "            | ------------ | ----------------- |\n",
        "            | Entraînement |{metrics['loss_train'].item():^19.5f}|\n",
        "            |  Validation  |{metrics['loss_val'].item():^19.5f}|\n",
        "            ------------------------------------\n",
        "        \"\"\")\n",
        "        string = '\\n'.join([line.strip() for line in string.strip().split('\\n')])\n",
        "        print(string, '\\n')\n",
        "\n",
        "    def configure_optimizers(self):\n",
        "        \"\"\"Configure l'algorithme d'optimisation à utiliser.\"\"\"\n",
        "        ### BEGIN TODO ###\n",
        "        optimizer = torch.optim.Adam(self.parameters())\n",
        "        #### END TODO ####\n",
        "        return optimizer"
      ]
    },
    {
      "cell_type": "markdown",
      "id": "10adda94",
      "metadata": {
        "id": "10adda94"
      },
      "source": [
        "### Question 14\n",
        "\n",
        "Affichez un résumé de votre architecture. Combien de paramètres entraînables a-t-elle ?"
      ]
    },
    {
      "cell_type": "code",
      "execution_count": 77,
      "id": "8cc79ebe",
      "metadata": {
        "colab": {
          "base_uri": "https://localhost:8080/"
        },
        "id": "8cc79ebe",
        "outputId": "5fced9fe-9b61-4191-8bc5-8431fb6197f8"
      },
      "outputs": [
        {
          "output_type": "execute_result",
          "data": {
            "text/plain": [
              "==========================================================================================\n",
              "Layer (type:depth-idx)                   Output Shape              Param #\n",
              "==========================================================================================\n",
              "DenoisingAutoencoder                     [1, 28, 28]               --\n",
              "├─Sequential: 1-1                        [8, 3, 3]                 --\n",
              "│    └─Conv2d: 2-1                       [32, 28, 28]              320\n",
              "│    └─ReLU: 2-2                         [32, 28, 28]              --\n",
              "│    └─MaxPool2d: 2-3                    [32, 14, 14]              --\n",
              "│    └─Conv2d: 2-4                       [16, 14, 14]              4,624\n",
              "│    └─ReLU: 2-5                         [16, 14, 14]              --\n",
              "│    └─MaxPool2d: 2-6                    [16, 7, 7]                --\n",
              "│    └─Conv2d: 2-7                       [8, 7, 7]                 1,160\n",
              "│    └─ReLU: 2-8                         [8, 7, 7]                 --\n",
              "│    └─MaxPool2d: 2-9                    [8, 3, 3]                 --\n",
              "├─Sequential: 1-2                        [1, 28, 28]               --\n",
              "│    └─ConvTranspose2d: 2-10             [8, 7, 7]                 584\n",
              "│    └─ReLU: 2-11                        [8, 7, 7]                 --\n",
              "│    └─ConvTranspose2d: 2-12             [16, 14, 14]              528\n",
              "│    └─ReLU: 2-13                        [16, 14, 14]              --\n",
              "│    └─ConvTranspose2d: 2-14             [32, 28, 28]              2,080\n",
              "│    └─ReLU: 2-15                        [32, 28, 28]              --\n",
              "│    └─Conv2d: 2-16                      [1, 28, 28]               289\n",
              "│    └─Sigmoid: 2-17                     [1, 28, 28]               --\n",
              "==========================================================================================\n",
              "Total params: 9,585\n",
              "Trainable params: 9,585\n",
              "Non-trainable params: 0\n",
              "Total mult-adds (Units.MEGABYTES): 3.41\n",
              "==========================================================================================\n",
              "Input size (MB): 0.00\n",
              "Forward/backward pass size (MB): 0.46\n",
              "Params size (MB): 0.04\n",
              "Estimated Total Size (MB): 0.51\n",
              "=========================================================================================="
            ]
          },
          "metadata": {},
          "execution_count": 77
        }
      ],
      "source": [
        "# TODO\n",
        "from torchinfo import summary\n",
        "model = DenoisingAutoencoder()\n",
        "summary(model,(1,28,28))"
      ]
    },
    {
      "cell_type": "markdown",
      "id": "2ec8706e",
      "metadata": {
        "id": "2ec8706e"
      },
      "source": [
        "[link text](https://)**Réponse** : nombre de parametres est 9585"
      ]
    },
    {
      "cell_type": "markdown",
      "id": "bf034930",
      "metadata": {
        "id": "bf034930"
      },
      "source": [
        "### Question 15\n",
        "\n",
        "Entraînez votre modèle pendant $10$ époques."
      ]
    },
    {
      "cell_type": "code",
      "execution_count": 82,
      "id": "70f751c3",
      "metadata": {
        "scrolled": false,
        "colab": {
          "base_uri": "https://localhost:8080/",
          "height": 1000,
          "referenced_widgets": [
            "d08ba8e3ede3468c9012e192bbc25c6d",
            "76fd459a8325446293bc48a077d49f3c",
            "3b2628da25da4602999bbe296fa0c5b9",
            "503530446c6449f9a7729ef92353a1f2",
            "6c1287ee19294bc1a73fe0dc7b823a5a",
            "ccdc61fb921a4abaa02d15597989933b",
            "76c580ce40f14d50a9a85a2841f459da",
            "1cbbf04a0a954a62b99070a3a850a487",
            "f9fb4a2d474f488f98a32df98deb332b",
            "cb1ce3f5e9dc445b8c04576a69cb7c97",
            "2825db21e8e643e69d8bfc94d1a6ca73",
            "14cdbb4f841a461f8d31c87ac1877478",
            "35784eebcd614aeaaf7b4175a0c7d978",
            "557be8dbbf0149249aba45b448b9c02d",
            "ee6df12570c2452a85847c68ebd00f82",
            "56d58c644408410a8e14ebdacfda47a8",
            "d34930cfab15407d864aad6effada6e9",
            "6e64726cca1344eeaf0d7815d01c580f",
            "28d406239f094d6baeede8b716246a08",
            "d32ec0189e674987b60cb02ea184de9b",
            "764dbc39a7f14299bf3825bb06800a80",
            "ac396b9146494bb88b715e31039e1852",
            "ef060ec582d641f6b8677cb64713b46f",
            "a5382ef83165421a85225c3a27def1fb",
            "2066a4cb03604df0b105b2e02771e67a",
            "2443bc4d7bfb4b76be1c0c7292c498bb",
            "acbfeb42961b44ed88d102b5722b236a",
            "b41cdf410a5149a1970214fb276ab74f",
            "d9209b78f58d45109ef39819d5de431c",
            "955655d423ac4630ba051c929a7edd55",
            "094904d326944c2497d8e23bde47a3b9",
            "1f8e00803d9b43a18cfaf04399f85af9",
            "baf4e45932714a579f259908b1f3add9",
            "8dc601a0459e4a95bfe00c13400b266c",
            "219c7cd716ab42c8a3085d5f44e490a9",
            "078646ab9a9b42e096dfd5e5653f0cbd",
            "5eb9e66f24584bbd917c1668a8e3a0b8",
            "81bf862be21447a0b34d0c01bedd729e",
            "f3c551c5012f45b9bfcdac6d1895a06b",
            "1df223828c2349a8aa0018ddb835f4d4",
            "e69828cd25224a388a59da846b29d181",
            "49585ad0b1254029a8c77d98e9306ace",
            "54d5d0668fa248ee92a23ebbd2634e4b",
            "55a54eead9f54077999a4384ec8013fc",
            "057da786942c4e07b3e9101911cbc8ab",
            "21645dfee09a41e38e750737c5c34951",
            "6a695156961945009179f0057cc20ab9",
            "75dcd8b3b9e4470b97be61994627cd2e",
            "55d33044ca74456fbe1071bcb15239a0",
            "30a99f5571a942fc9b8e30c8e4c42337",
            "90c6007dc45c4e6ba6bd439e9c848202",
            "2b6843b1a6564f9c975a0859c9127e40",
            "b4a5cd813bcf47369b73db2bf09feef4",
            "fde84f1f6fa8437da4673d4daaa36000",
            "d2b387fdfab44990b4ca1e5148e9a171",
            "68b1950b27be4250a176428cb4e7f967",
            "d8c80781630840f7921c23512e688ab5",
            "c072ad7da5164fe383ecfa6ca7547ff2",
            "1ba26f0ef4984b20bb33397706511d43",
            "2579dd9c8b6146a7b0b78b9042899653",
            "73922733304d469ba0210844106c3b78",
            "e18a3f8e337d419498ef73ff4a6026fc",
            "32fb8b071915464890a63609ea5d1884",
            "fb0c2d4231454b738413c0a900bc2395",
            "62a31805ae77473a97b0509f0275226a",
            "7ffe9cfeb7e2454c829694732d072bbf",
            "81c398fee0764eafbbdb0da9ae73c56b",
            "27cbd5fa838b4a968ab7da9ab3c5424f",
            "a4d93d9393694be2b29c14da92a80019",
            "3205f75edd994703b5fca9eab5e356d6",
            "fe906d4f787d4be99b9d517ce2e3c0a7",
            "13e6898152314e3faf30d34ad561429c",
            "dfac1d6cc3f5431fa03050d3798fff76",
            "0a3ada043e6b47569c02663bed9068fe",
            "0b12ef3b79b14d73ad5705d9ed39457f",
            "d2a7c95d17cc4f47b60326e4b25865b3",
            "56cbdf8a46b649789eeb1d31ee9d416b",
            "684d2809c29e4762be6902eb1d297898",
            "bedcb4e2df924a6cac76649c3358038d",
            "780cfa0a452e4b44809ddd3a9231fdd0",
            "f69d08fddc664079a063d98b9c8455c6",
            "abc401d1ec1b4ce88d6f8879575267d3",
            "f665fc052f72467f9eecbf2122dede5e",
            "3a9583c9c7cf497494b547e7b939aa8e",
            "2a4355e3f3bb49d38406ff88c5a99af2",
            "8a14009cb762412c9e6deb1535b8184a",
            "15739800939e46768389f0b9c03411c5",
            "6b4d2c5cad544da9afe5b2268a6ac26e",
            "94063b8ab8cd44e9ac5616bdb5e8eaff",
            "a64809cf23b847d7b5c2c6ea5b5d9211",
            "2b8fde294f5a45faa806e54070ac8e83",
            "1e2519d9716745ef9fb835cf2284d1b6",
            "3c96ec4b92bb4503a3233a98c5021fd0",
            "0698f27f4b6945fab09f452761670c1f",
            "cbcac9a547d64e8c834594568e361770",
            "b2e2dbbe66844d86814f4e56cf91c1f2",
            "014e261c828a41c1aaa63726180c3c94",
            "089bd4406871467fb8ef6646ed73047f",
            "b2764a67af5844eea293e215347fba07",
            "042dd5830df242f2b3a18acec1070f1f",
            "5364b34739764770a504d9b99ff3208b",
            "b741201f976345e4897f89ef848489c8",
            "4324fc1708604b3681eba7c9cf4c9f37",
            "7acd0493f6764f7f9670e8a62f570eba",
            "be5855bfa0fe439ca4e25de1afa06652",
            "07cf22a37b5c448aa75d574447d1281d",
            "dea64d0178e64f82a2d241a8daac9676",
            "4b4404835eb742b58865d4b6b6648401",
            "29f8d218825743b699ea83b8ae68b823",
            "ea2ead08813b426f9984729aeffc1f40",
            "79d19461f20344ce961758a102b5ea41",
            "b239fc152d304006b97b6f7633cf7cad",
            "23239688b8314904b36a4bfb25a86a72",
            "4f5046c12bf3406f9e9b17e4e86d8fc2",
            "80421056efad4a05b79349b785115a73",
            "27c009b21df349aea45c0ecc3b7b239e",
            "68005441cf894c74b07cb386e15edd23",
            "fc9e364c551d48fa8026bff31b475c6b",
            "38da2137b0064d65912b398c7fbe1ff1",
            "f37c7de5b574478ab916a234aeb88215",
            "da984c6b8af640eb8bf6d69795928978"
          ]
        },
        "id": "70f751c3",
        "outputId": "8b66bd4d-0167-411d-8aa5-7509ff406c23"
      },
      "outputs": [
        {
          "output_type": "display_data",
          "data": {
            "text/plain": [
              "Training: |          | 0/? [00:00<?, ?it/s]"
            ],
            "application/vnd.jupyter.widget-view+json": {
              "version_major": 2,
              "version_minor": 0,
              "model_id": "d08ba8e3ede3468c9012e192bbc25c6d"
            }
          },
          "metadata": {}
        },
        {
          "output_type": "stream",
          "name": "stdout",
          "text": [
            "Version 2\n",
            "=========\n",
            "\n"
          ]
        },
        {
          "output_type": "display_data",
          "data": {
            "text/plain": [
              "Validation: |          | 0/? [00:00<?, ?it/s]"
            ],
            "application/vnd.jupyter.widget-view+json": {
              "version_major": 2,
              "version_minor": 0,
              "model_id": "14cdbb4f841a461f8d31c87ac1877478"
            }
          },
          "metadata": {}
        },
        {
          "output_type": "stream",
          "name": "stdout",
          "text": [
            "Époque 1 / 10\n",
            "------------------------------------\n",
            "|     Jeu      | Fonction de perte |\n",
            "| ------------ | ----------------- |\n",
            "| Entraînement |      0.04460      |\n",
            "|  Validation  |      0.02704      |\n",
            "------------------------------------ \n",
            "\n"
          ]
        },
        {
          "output_type": "display_data",
          "data": {
            "text/plain": [
              "Validation: |          | 0/? [00:00<?, ?it/s]"
            ],
            "application/vnd.jupyter.widget-view+json": {
              "version_major": 2,
              "version_minor": 0,
              "model_id": "ef060ec582d641f6b8677cb64713b46f"
            }
          },
          "metadata": {}
        },
        {
          "output_type": "stream",
          "name": "stdout",
          "text": [
            "Époque 2 / 10\n",
            "------------------------------------\n",
            "|     Jeu      | Fonction de perte |\n",
            "| ------------ | ----------------- |\n",
            "| Entraînement |      0.02539      |\n",
            "|  Validation  |      0.02406      |\n",
            "------------------------------------ \n",
            "\n"
          ]
        },
        {
          "output_type": "display_data",
          "data": {
            "text/plain": [
              "Validation: |          | 0/? [00:00<?, ?it/s]"
            ],
            "application/vnd.jupyter.widget-view+json": {
              "version_major": 2,
              "version_minor": 0,
              "model_id": "8dc601a0459e4a95bfe00c13400b266c"
            }
          },
          "metadata": {}
        },
        {
          "output_type": "stream",
          "name": "stdout",
          "text": [
            "Époque 3 / 10\n",
            "------------------------------------\n",
            "|     Jeu      | Fonction de perte |\n",
            "| ------------ | ----------------- |\n",
            "| Entraînement |      0.02330      |\n",
            "|  Validation  |      0.02229      |\n",
            "------------------------------------ \n",
            "\n"
          ]
        },
        {
          "output_type": "display_data",
          "data": {
            "text/plain": [
              "Validation: |          | 0/? [00:00<?, ?it/s]"
            ],
            "application/vnd.jupyter.widget-view+json": {
              "version_major": 2,
              "version_minor": 0,
              "model_id": "057da786942c4e07b3e9101911cbc8ab"
            }
          },
          "metadata": {}
        },
        {
          "output_type": "stream",
          "name": "stdout",
          "text": [
            "Époque 4 / 10\n",
            "------------------------------------\n",
            "|     Jeu      | Fonction de perte |\n",
            "| ------------ | ----------------- |\n",
            "| Entraînement |      0.02218      |\n",
            "|  Validation  |      0.02135      |\n",
            "------------------------------------ \n",
            "\n"
          ]
        },
        {
          "output_type": "display_data",
          "data": {
            "text/plain": [
              "Validation: |          | 0/? [00:00<?, ?it/s]"
            ],
            "application/vnd.jupyter.widget-view+json": {
              "version_major": 2,
              "version_minor": 0,
              "model_id": "68b1950b27be4250a176428cb4e7f967"
            }
          },
          "metadata": {}
        },
        {
          "output_type": "stream",
          "name": "stdout",
          "text": [
            "Époque 5 / 10\n",
            "------------------------------------\n",
            "|     Jeu      | Fonction de perte |\n",
            "| ------------ | ----------------- |\n",
            "| Entraînement |      0.02143      |\n",
            "|  Validation  |      0.02084      |\n",
            "------------------------------------ \n",
            "\n"
          ]
        },
        {
          "output_type": "display_data",
          "data": {
            "text/plain": [
              "Validation: |          | 0/? [00:00<?, ?it/s]"
            ],
            "application/vnd.jupyter.widget-view+json": {
              "version_major": 2,
              "version_minor": 0,
              "model_id": "81c398fee0764eafbbdb0da9ae73c56b"
            }
          },
          "metadata": {}
        },
        {
          "output_type": "stream",
          "name": "stdout",
          "text": [
            "Époque 6 / 10\n",
            "------------------------------------\n",
            "|     Jeu      | Fonction de perte |\n",
            "| ------------ | ----------------- |\n",
            "| Entraînement |      0.02089      |\n",
            "|  Validation  |      0.02081      |\n",
            "------------------------------------ \n",
            "\n"
          ]
        },
        {
          "output_type": "display_data",
          "data": {
            "text/plain": [
              "Validation: |          | 0/? [00:00<?, ?it/s]"
            ],
            "application/vnd.jupyter.widget-view+json": {
              "version_major": 2,
              "version_minor": 0,
              "model_id": "684d2809c29e4762be6902eb1d297898"
            }
          },
          "metadata": {}
        },
        {
          "output_type": "stream",
          "name": "stdout",
          "text": [
            "Époque 7 / 10\n",
            "------------------------------------\n",
            "|     Jeu      | Fonction de perte |\n",
            "| ------------ | ----------------- |\n",
            "| Entraînement |      0.02050      |\n",
            "|  Validation  |      0.01994      |\n",
            "------------------------------------ \n",
            "\n"
          ]
        },
        {
          "output_type": "display_data",
          "data": {
            "text/plain": [
              "Validation: |          | 0/? [00:00<?, ?it/s]"
            ],
            "application/vnd.jupyter.widget-view+json": {
              "version_major": 2,
              "version_minor": 0,
              "model_id": "94063b8ab8cd44e9ac5616bdb5e8eaff"
            }
          },
          "metadata": {}
        },
        {
          "output_type": "stream",
          "name": "stdout",
          "text": [
            "Époque 8 / 10\n",
            "------------------------------------\n",
            "|     Jeu      | Fonction de perte |\n",
            "| ------------ | ----------------- |\n",
            "| Entraînement |      0.02014      |\n",
            "|  Validation  |      0.02108      |\n",
            "------------------------------------ \n",
            "\n"
          ]
        },
        {
          "output_type": "display_data",
          "data": {
            "text/plain": [
              "Validation: |          | 0/? [00:00<?, ?it/s]"
            ],
            "application/vnd.jupyter.widget-view+json": {
              "version_major": 2,
              "version_minor": 0,
              "model_id": "042dd5830df242f2b3a18acec1070f1f"
            }
          },
          "metadata": {}
        },
        {
          "output_type": "stream",
          "name": "stdout",
          "text": [
            "Époque 9 / 10\n",
            "------------------------------------\n",
            "|     Jeu      | Fonction de perte |\n",
            "| ------------ | ----------------- |\n",
            "| Entraînement |      0.01988      |\n",
            "|  Validation  |      0.01932      |\n",
            "------------------------------------ \n",
            "\n"
          ]
        },
        {
          "output_type": "display_data",
          "data": {
            "text/plain": [
              "Validation: |          | 0/? [00:00<?, ?it/s]"
            ],
            "application/vnd.jupyter.widget-view+json": {
              "version_major": 2,
              "version_minor": 0,
              "model_id": "79d19461f20344ce961758a102b5ea41"
            }
          },
          "metadata": {}
        },
        {
          "output_type": "stream",
          "name": "stdout",
          "text": [
            "Époque 10 / 10\n",
            "------------------------------------\n",
            "|     Jeu      | Fonction de perte |\n",
            "| ------------ | ----------------- |\n",
            "| Entraînement |      0.01964      |\n",
            "|  Validation  |      0.01915      |\n",
            "------------------------------------ \n",
            "\n"
          ]
        }
      ],
      "source": [
        "# TODO\n",
        "# TODO\n",
        "from lightning.pytorch.callbacks import TQDMProgressBar\n",
        "from lightning.pytorch.loggers import CSVLogger\n",
        "\n",
        "\n",
        "model = DenoisingAutoencoder()\n",
        "\n",
        "trainer = L.Trainer(\n",
        "    max_epochs=10,\n",
        "    enable_model_summary=False,  # supprimer le résumé du modèle\n",
        "    logger=CSVLogger('.'),  # sauvegarder les résultats dans un fichier CSV\n",
        "    num_sanity_val_steps=0,  # ne pas effectuer d'étape de validation avant l'entraînement\n",
        "    callbacks=[TQDMProgressBar(refresh_rate=100)]  # mettre à jour la barre de progression tous les 100 lots\n",
        ")\n",
        "\n",
        "trainer.fit(\n",
        "    model=model,\n",
        "    train_dataloaders=dataloader_train,\n",
        "    val_dataloaders=dataloader_val\n",
        ")"
      ]
    },
    {
      "cell_type": "markdown",
      "id": "c0075a9e",
      "metadata": {
        "id": "c0075a9e"
      },
      "source": [
        "On récupère toutes les images reconstruites par le réseau de neurones artificiels sur le jeu de validation :"
      ]
    },
    {
      "cell_type": "code",
      "execution_count": 80,
      "id": "e931ceea",
      "metadata": {
        "id": "e931ceea"
      },
      "outputs": [],
      "source": [
        "X_val_reconstructed_dae = model(X_val_deteriorated).detach()"
      ]
    },
    {
      "cell_type": "markdown",
      "id": "05fdf825",
      "metadata": {
        "id": "05fdf825"
      },
      "source": [
        "### Question 16\n",
        "\n",
        "En utilisant la fonction `plot_original_deteriorated_reconstructed_images()`, affichez quelques images reconstruites par le réseau de neurones artificiels sur le jeu de validation."
      ]
    },
    {
      "cell_type": "code",
      "execution_count": 81,
      "id": "08ccba93",
      "metadata": {
        "colab": {
          "base_uri": "https://localhost:8080/",
          "height": 1000
        },
        "id": "08ccba93",
        "outputId": "69e7c3c5-0c7d-48b4-da6d-ec2bce33662f"
      },
      "outputs": [
        {
          "output_type": "display_data",
          "data": {
            "text/plain": [
              "<Figure size 650x1500 with 15 Axes>"
            ],
            "image/png": "[encoded data removed]"
          },
          "metadata": {}
        }
      ],
      "source": [
        "# TODO\n",
        "plot_original_deteriorated_reconstructed_images(X_val_original[:5], X_val_deteriorated[:5], X_val_reconstructed_dae[:5])"
      ]
    },
    {
      "cell_type": "markdown",
      "id": "22ea0b87",
      "metadata": {
        "id": "22ea0b87"
      },
      "source": [
        "### Question 17\n",
        "\n",
        "Quel est le meilleur modèle parmi les différentes approches essayées ? Justifiez votre réponse."
      ]
    },
    {
      "cell_type": "markdown",
      "source": [
        "**Réponse :**  \n",
        "Le meilleur modèle est le DenoisingAutoencoder, car c’est celui qui a produit les meilleures images reconstruites et la MSE la plus faible.  \n",
        "Cependant, le modèle semble surapprendre dès la première époque .on pourrait implémenter un learning rate  ou un early stopping pour régulariser l’apprentissage.\n",
        "\n",
        "---\n",
        "\n",
        "### Résultats quantitatifs\n",
        "\n",
        "| Modèle | Jeu d'entraînement | Jeu d'évaluation |\n",
        "|:--|:--:|:--:|\n",
        "| Modèle trivial (images noires)| 0.1120 | 0.1140 |\n",
        "| Modèle trivial (images détériorées)| 0.0560 | 0.0570 |\n",
        "| Modèle flouté (reconstruit) | 0.0447 | 0.0452 |\n",
        "| Modèle flouté + normalisation| 0.026 | 0.026 |\n",
        "| DenoisingAutoencoder (DAE) | 0.01964 | 0.01915 |\n",
        "\n",
        "---\n",
        "\n",
        "### Interprétation\n",
        "- Le floutage réduit déjà fortement la MSE par rapport aux modèles triviaux.  \n",
        "- La normalisation améliore encore le contraste et diminue la MSE.  \n",
        "- Enfin, le DenoisingAutoencoder reconstruit les chiffres de manière plus fidèle et mais ils paraissent moins net que le modèle reconstruit quantile , tout en obtenant une erreur quadratique environ 40 % plus faible que les approches précédentes.\n",
        "\n",
        "---"
      ],
      "metadata": {
        "id": "cacnjS6mfLpZ"
      },
      "id": "cacnjS6mfLpZ"
    },
    {
      "cell_type": "code",
      "source": [],
      "metadata": {
        "id": "78NpapuIepff"
      },
      "id": "78NpapuIepff",
      "execution_count": null,
      "outputs": []
    }
  ],
  "metadata": {
    "kernelspec": {
      "display_name": "Python 3",
      "name": "python3"
    },
    "language_info": {
      "codemirror_mode": {
        "name": "ipython",
        "version": 3
      },
      "file_extension": ".py",
      "mimetype": "text/x-python",
      "name": "python",
      "nbconvert_exporter": "python",
      "pygments_lexer": "ipython3",
      "version": "3.12.7"
    },
    "colab": {
      "provenance": [],
      "gpuType": "T4"
    },
    "accelerator": "GPU",
    "widgets": {
      "application/vnd.jupyter.widget-state+json": {
        "d08ba8e3ede3468c9012e192bbc25c6d": {
          "model_module": "@jupyter-widgets/controls",
          "model_name": "HBoxModel",
          "model_module_version": "1.5.0",
          "state": {
            "_dom_classes": [],
            "_model_module": "@jupyter-widgets/controls",
            "_model_module_version": "1.5.0",
            "_model_name": "HBoxModel",
            "_view_count": null,
            "_view_module": "@jupyter-widgets/controls",
            "_view_module_version": "1.5.0",
            "_view_name": "HBoxView",
            "box_style": "",
            "children": [
              "IPY_MODEL_76fd459a8325446293bc48a077d49f3c",
              "IPY_MODEL_3b2628da25da4602999bbe296fa0c5b9",
              "IPY_MODEL_503530446c6449f9a7729ef92353a1f2"
            ],
            "layout": "IPY_MODEL_6c1287ee19294bc1a73fe0dc7b823a5a"
          }
        },
        "76fd459a8325446293bc48a077d49f3c": {
          "model_module": "@jupyter-widgets/controls",
          "model_name": "HTMLModel",
          "model_module_version": "1.5.0",
          "state": {
            "_dom_classes": [],
            "_model_module": "@jupyter-widgets/controls",
            "_model_module_version": "1.5.0",
            "_model_name": "HTMLModel",
            "_view_count": null,
            "_view_module": "@jupyter-widgets/controls",
            "_view_module_version": "1.5.0",
            "_view_name": "HTMLView",
            "description": "",
            "description_tooltip": null,
            "layout": "IPY_MODEL_ccdc61fb921a4abaa02d15597989933b",
            "placeholder": "​",
            "style": "IPY_MODEL_76c580ce40f14d50a9a85a2841f459da",
            "value": "Epoch 9: 100%"
          }
        },
        "3b2628da25da4602999bbe296fa0c5b9": {
          "model_module": "@jupyter-widgets/controls",
          "model_name": "FloatProgressModel",
          "model_module_version": "1.5.0",
          "state": {
            "_dom_classes": [],
            "_model_module": "@jupyter-widgets/controls",
            "_model_module_version": "1.5.0",
            "_model_name": "FloatProgressModel",
            "_view_count": null,
            "_view_module": "@jupyter-widgets/controls",
            "_view_module_version": "1.5.0",
            "_view_name": "ProgressView",
            "bar_style": "success",
            "description": "",
            "description_tooltip": null,
            "layout": "IPY_MODEL_1cbbf04a0a954a62b99070a3a850a487",
            "max": 1,
            "min": 0,
            "orientation": "horizontal",
            "style": "IPY_MODEL_f9fb4a2d474f488f98a32df98deb332b",
            "value": 1
          }
        },
        "503530446c6449f9a7729ef92353a1f2": {
          "model_module": "@jupyter-widgets/controls",
          "model_name": "HTMLModel",
          "model_module_version": "1.5.0",
          "state": {
            "_dom_classes": [],
            "_model_module": "@jupyter-widgets/controls",
            "_model_module_version": "1.5.0",
            "_model_name": "HTMLModel",
            "_view_count": null,
            "_view_module": "@jupyter-widgets/controls",
            "_view_module_version": "1.5.0",
            "_view_name": "HTMLView",
            "description": "",
            "description_tooltip": null,
            "layout": "IPY_MODEL_cb1ce3f5e9dc445b8c04576a69cb7c97",
            "placeholder": "​",
            "style": "IPY_MODEL_2825db21e8e643e69d8bfc94d1a6ca73",
            "value": " 1875/1875 [00:09&lt;00:00, 196.91it/s, v_num=2, loss_train_step=0.0195, loss_train_epoch=0.0196]"
          }
        },
        "6c1287ee19294bc1a73fe0dc7b823a5a": {
          "model_module": "@jupyter-widgets/base",
          "model_name": "LayoutModel",
          "model_module_version": "1.2.0",
          "state": {
            "_model_module": "@jupyter-widgets/base",
            "_model_module_version": "1.2.0",
            "_model_name": "LayoutModel",
            "_view_count": null,
            "_view_module": "@jupyter-widgets/base",
            "_view_module_version": "1.2.0",
            "_view_name": "LayoutView",
            "align_content": null,
            "align_items": null,
            "align_self": null,
            "border": null,
            "bottom": null,
            "display": "inline-flex",
            "flex": null,
            "flex_flow": "row wrap",
            "grid_area": null,
            "grid_auto_columns": null,
            "grid_auto_flow": null,
            "grid_auto_rows": null,
            "grid_column": null,
            "grid_gap": null,
            "grid_row": null,
            "grid_template_areas": null,
            "grid_template_columns": null,
            "grid_template_rows": null,
            "height": null,
            "justify_content": null,
            "justify_items": null,
            "left": null,
            "margin": null,
            "max_height": null,
            "max_width": null,
            "min_height": null,
            "min_width": null,
            "object_fit": null,
            "object_position": null,
            "order": null,
            "overflow": null,
            "overflow_x": null,
            "overflow_y": null,
            "padding": null,
            "right": null,
            "top": null,
            "visibility": null,
            "width": "100%"
          }
        },
        "ccdc61fb921a4abaa02d15597989933b": {
          "model_module": "@jupyter-widgets/base",
          "model_name": "LayoutModel",
          "model_module_version": "1.2.0",
          "state": {
            "_model_module": "@jupyter-widgets/base",
            "_model_module_version": "1.2.0",
            "_model_name": "LayoutModel",
            "_view_count": null,
            "_view_module": "@jupyter-widgets/base",
            "_view_module_version": "1.2.0",
            "_view_name": "LayoutView",
            "align_content": null,
            "align_items": null,
            "align_self": null,
            "border": null,
            "bottom": null,
            "display": null,
            "flex": null,
            "flex_flow": null,
            "grid_area": null,
            "grid_auto_columns": null,
            "grid_auto_flow": null,
            "grid_auto_rows": null,
            "grid_column": null,
            "grid_gap": null,
            "grid_row": null,
            "grid_template_areas": null,
            "grid_template_columns": null,
            "grid_template_rows": null,
            "height": null,
            "justify_content": null,
            "justify_items": null,
            "left": null,
            "margin": null,
            "max_height": null,
            "max_width": null,
            "min_height": null,
            "min_width": null,
            "object_fit": null,
            "object_position": null,
            "order": null,
            "overflow": null,
            "overflow_x": null,
            "overflow_y": null,
            "padding": null,
            "right": null,
            "top": null,
            "visibility": null,
            "width": null
          }
        },
        "76c580ce40f14d50a9a85a2841f459da": {
          "model_module": "@jupyter-widgets/controls",
          "model_name": "DescriptionStyleModel",
          "model_module_version": "1.5.0",
          "state": {
            "_model_module": "@jupyter-widgets/controls",
            "_model_module_version": "1.5.0",
            "_model_name": "DescriptionStyleModel",
            "_view_count": null,
            "_view_module": "@jupyter-widgets/base",
            "_view_module_version": "1.2.0",
            "_view_name": "StyleView",
            "description_width": ""
          }
        },
        "1cbbf04a0a954a62b99070a3a850a487": {
          "model_module": "@jupyter-widgets/base",
          "model_name": "LayoutModel",
          "model_module_version": "1.2.0",
          "state": {
            "_model_module": "@jupyter-widgets/base",
            "_model_module_version": "1.2.0",
            "_model_name": "LayoutModel",
            "_view_count": null,
            "_view_module": "@jupyter-widgets/base",
            "_view_module_version": "1.2.0",
            "_view_name": "LayoutView",
            "align_content": null,
            "align_items": null,
            "align_self": null,
            "border": null,
            "bottom": null,
            "display": null,
            "flex": "2",
            "flex_flow": null,
            "grid_area": null,
            "grid_auto_columns": null,
            "grid_auto_flow": null,
            "grid_auto_rows": null,
            "grid_column": null,
            "grid_gap": null,
            "grid_row": null,
            "grid_template_areas": null,
            "grid_template_columns": null,
            "grid_template_rows": null,
            "height": null,
            "justify_content": null,
            "justify_items": null,
            "left": null,
            "margin": null,
            "max_height": null,
            "max_width": null,
            "min_height": null,
            "min_width": null,
            "object_fit": null,
            "object_position": null,
            "order": null,
            "overflow": null,
            "overflow_x": null,
            "overflow_y": null,
            "padding": null,
            "right": null,
            "top": null,
            "visibility": null,
            "width": null
          }
        },
        "f9fb4a2d474f488f98a32df98deb332b": {
          "model_module": "@jupyter-widgets/controls",
          "model_name": "ProgressStyleModel",
          "model_module_version": "1.5.0",
          "state": {
            "_model_module": "@jupyter-widgets/controls",
            "_model_module_version": "1.5.0",
            "_model_name": "ProgressStyleModel",
            "_view_count": null,
            "_view_module": "@jupyter-widgets/base",
            "_view_module_version": "1.2.0",
            "_view_name": "StyleView",
            "bar_color": null,
            "description_width": ""
          }
        },
        "cb1ce3f5e9dc445b8c04576a69cb7c97": {
          "model_module": "@jupyter-widgets/base",
          "model_name": "LayoutModel",
          "model_module_version": "1.2.0",
          "state": {
            "_model_module": "@jupyter-widgets/base",
            "_model_module_version": "1.2.0",
            "_model_name": "LayoutModel",
            "_view_count": null,
            "_view_module": "@jupyter-widgets/base",
            "_view_module_version": "1.2.0",
            "_view_name": "LayoutView",
            "align_content": null,
            "align_items": null,
            "align_self": null,
            "border": null,
            "bottom": null,
            "display": null,
            "flex": null,
            "flex_flow": null,
            "grid_area": null,
            "grid_auto_columns": null,
            "grid_auto_flow": null,
            "grid_auto_rows": null,
            "grid_column": null,
            "grid_gap": null,
            "grid_row": null,
            "grid_template_areas": null,
            "grid_template_columns": null,
            "grid_template_rows": null,
            "height": null,
            "justify_content": null,
            "justify_items": null,
            "left": null,
            "margin": null,
            "max_height": null,
            "max_width": null,
            "min_height": null,
            "min_width": null,
            "object_fit": null,
            "object_position": null,
            "order": null,
            "overflow": null,
            "overflow_x": null,
            "overflow_y": null,
            "padding": null,
            "right": null,
            "top": null,
            "visibility": null,
            "width": null
          }
        },
        "2825db21e8e643e69d8bfc94d1a6ca73": {
          "model_module": "@jupyter-widgets/controls",
          "model_name": "DescriptionStyleModel",
          "model_module_version": "1.5.0",
          "state": {
            "_model_module": "@jupyter-widgets/controls",
            "_model_module_version": "1.5.0",
            "_model_name": "DescriptionStyleModel",
            "_view_count": null,
            "_view_module": "@jupyter-widgets/base",
            "_view_module_version": "1.2.0",
            "_view_name": "StyleView",
            "description_width": ""
          }
        },
        "14cdbb4f841a461f8d31c87ac1877478": {
          "model_module": "@jupyter-widgets/controls",
          "model_name": "HBoxModel",
          "model_module_version": "1.5.0",
          "state": {
            "_dom_classes": [],
            "_model_module": "@jupyter-widgets/controls",
            "_model_module_version": "1.5.0",
            "_model_name": "HBoxModel",
            "_view_count": null,
            "_view_module": "@jupyter-widgets/controls",
            "_view_module_version": "1.5.0",
            "_view_name": "HBoxView",
            "box_style": "",
            "children": [
              "IPY_MODEL_35784eebcd614aeaaf7b4175a0c7d978",
              "IPY_MODEL_557be8dbbf0149249aba45b448b9c02d",
              "IPY_MODEL_ee6df12570c2452a85847c68ebd00f82"
            ],
            "layout": "IPY_MODEL_56d58c644408410a8e14ebdacfda47a8"
          }
        },
        "35784eebcd614aeaaf7b4175a0c7d978": {
          "model_module": "@jupyter-widgets/controls",
          "model_name": "HTMLModel",
          "model_module_version": "1.5.0",
          "state": {
            "_dom_classes": [],
            "_model_module": "@jupyter-widgets/controls",
            "_model_module_version": "1.5.0",
            "_model_name": "HTMLModel",
            "_view_count": null,
            "_view_module": "@jupyter-widgets/controls",
            "_view_module_version": "1.5.0",
            "_view_name": "HTMLView",
            "description": "",
            "description_tooltip": null,
            "layout": "IPY_MODEL_d34930cfab15407d864aad6effada6e9",
            "placeholder": "​",
            "style": "IPY_MODEL_6e64726cca1344eeaf0d7815d01c580f",
            "value": "Validation DataLoader 0: 100%"
          }
        },
        "557be8dbbf0149249aba45b448b9c02d": {
          "model_module": "@jupyter-widgets/controls",
          "model_name": "FloatProgressModel",
          "model_module_version": "1.5.0",
          "state": {
            "_dom_classes": [],
            "_model_module": "@jupyter-widgets/controls",
            "_model_module_version": "1.5.0",
            "_model_name": "FloatProgressModel",
            "_view_count": null,
            "_view_module": "@jupyter-widgets/controls",
            "_view_module_version": "1.5.0",
            "_view_name": "ProgressView",
            "bar_style": "",
            "description": "",
            "description_tooltip": null,
            "layout": "IPY_MODEL_28d406239f094d6baeede8b716246a08",
            "max": 1,
            "min": 0,
            "orientation": "horizontal",
            "style": "IPY_MODEL_d32ec0189e674987b60cb02ea184de9b",
            "value": 1
          }
        },
        "ee6df12570c2452a85847c68ebd00f82": {
          "model_module": "@jupyter-widgets/controls",
          "model_name": "HTMLModel",
          "model_module_version": "1.5.0",
          "state": {
            "_dom_classes": [],
            "_model_module": "@jupyter-widgets/controls",
            "_model_module_version": "1.5.0",
            "_model_name": "HTMLModel",
            "_view_count": null,
            "_view_module": "@jupyter-widgets/controls",
            "_view_module_version": "1.5.0",
            "_view_name": "HTMLView",
            "description": "",
            "description_tooltip": null,
            "layout": "IPY_MODEL_764dbc39a7f14299bf3825bb06800a80",
            "placeholder": "​",
            "style": "IPY_MODEL_ac396b9146494bb88b715e31039e1852",
            "value": " 313/313 [00:00&lt;00:00, 450.16it/s]"
          }
        },
        "56d58c644408410a8e14ebdacfda47a8": {
          "model_module": "@jupyter-widgets/base",
          "model_name": "LayoutModel",
          "model_module_version": "1.2.0",
          "state": {
            "_model_module": "@jupyter-widgets/base",
            "_model_module_version": "1.2.0",
            "_model_name": "LayoutModel",
            "_view_count": null,
            "_view_module": "@jupyter-widgets/base",
            "_view_module_version": "1.2.0",
            "_view_name": "LayoutView",
            "align_content": null,
            "align_items": null,
            "align_self": null,
            "border": null,
            "bottom": null,
            "display": "inline-flex",
            "flex": null,
            "flex_flow": "row wrap",
            "grid_area": null,
            "grid_auto_columns": null,
            "grid_auto_flow": null,
            "grid_auto_rows": null,
            "grid_column": null,
            "grid_gap": null,
            "grid_row": null,
            "grid_template_areas": null,
            "grid_template_columns": null,
            "grid_template_rows": null,
            "height": null,
            "justify_content": null,
            "justify_items": null,
            "left": null,
            "margin": null,
            "max_height": null,
            "max_width": null,
            "min_height": null,
            "min_width": null,
            "object_fit": null,
            "object_position": null,
            "order": null,
            "overflow": null,
            "overflow_x": null,
            "overflow_y": null,
            "padding": null,
            "right": null,
            "top": null,
            "visibility": "hidden",
            "width": "100%"
          }
        },
        "d34930cfab15407d864aad6effada6e9": {
          "model_module": "@jupyter-widgets/base",
          "model_name": "LayoutModel",
          "model_module_version": "1.2.0",
          "state": {
            "_model_module": "@jupyter-widgets/base",
            "_model_module_version": "1.2.0",
            "_model_name": "LayoutModel",
            "_view_count": null,
            "_view_module": "@jupyter-widgets/base",
            "_view_module_version": "1.2.0",
            "_view_name": "LayoutView",
            "align_content": null,
            "align_items": null,
            "align_self": null,
            "border": null,
            "bottom": null,
            "display": null,
            "flex": null,
            "flex_flow": null,
            "grid_area": null,
            "grid_auto_columns": null,
            "grid_auto_flow": null,
            "grid_auto_rows": null,
            "grid_column": null,
            "grid_gap": null,
            "grid_row": null,
            "grid_template_areas": null,
            "grid_template_columns": null,
            "grid_template_rows": null,
            "height": null,
            "justify_content": null,
            "justify_items": null,
            "left": null,
            "margin": null,
            "max_height": null,
            "max_width": null,
            "min_height": null,
            "min_width": null,
            "object_fit": null,
            "object_position": null,
            "order": null,
            "overflow": null,
            "overflow_x": null,
            "overflow_y": null,
            "padding": null,
            "right": null,
            "top": null,
            "visibility": null,
            "width": null
          }
        },
        "6e64726cca1344eeaf0d7815d01c580f": {
          "model_module": "@jupyter-widgets/controls",
          "model_name": "DescriptionStyleModel",
          "model_module_version": "1.5.0",
          "state": {
            "_model_module": "@jupyter-widgets/controls",
            "_model_module_version": "1.5.0",
            "_model_name": "DescriptionStyleModel",
            "_view_count": null,
            "_view_module": "@jupyter-widgets/base",
            "_view_module_version": "1.2.0",
            "_view_name": "StyleView",
            "description_width": ""
          }
        },
        "28d406239f094d6baeede8b716246a08": {
          "model_module": "@jupyter-widgets/base",
          "model_name": "LayoutModel",
          "model_module_version": "1.2.0",
          "state": {
            "_model_module": "@jupyter-widgets/base",
            "_model_module_version": "1.2.0",
            "_model_name": "LayoutModel",
            "_view_count": null,
            "_view_module": "@jupyter-widgets/base",
            "_view_module_version": "1.2.0",
            "_view_name": "LayoutView",
            "align_content": null,
            "align_items": null,
            "align_self": null,
            "border": null,
            "bottom": null,
            "display": null,
            "flex": "2",
            "flex_flow": null,
            "grid_area": null,
            "grid_auto_columns": null,
            "grid_auto_flow": null,
            "grid_auto_rows": null,
            "grid_column": null,
            "grid_gap": null,
            "grid_row": null,
            "grid_template_areas": null,
            "grid_template_columns": null,
            "grid_template_rows": null,
            "height": null,
            "justify_content": null,
            "justify_items": null,
            "left": null,
            "margin": null,
            "max_height": null,
            "max_width": null,
            "min_height": null,
            "min_width": null,
            "object_fit": null,
            "object_position": null,
            "order": null,
            "overflow": null,
            "overflow_x": null,
            "overflow_y": null,
            "padding": null,
            "right": null,
            "top": null,
            "visibility": null,
            "width": null
          }
        },
        "d32ec0189e674987b60cb02ea184de9b": {
          "model_module": "@jupyter-widgets/controls",
          "model_name": "ProgressStyleModel",
          "model_module_version": "1.5.0",
          "state": {
            "_model_module": "@jupyter-widgets/controls",
            "_model_module_version": "1.5.0",
            "_model_name": "ProgressStyleModel",
            "_view_count": null,
            "_view_module": "@jupyter-widgets/base",
            "_view_module_version": "1.2.0",
            "_view_name": "StyleView",
            "bar_color": null,
            "description_width": ""
          }
        },
        "764dbc39a7f14299bf3825bb06800a80": {
          "model_module": "@jupyter-widgets/base",
          "model_name": "LayoutModel",
          "model_module_version": "1.2.0",
          "state": {
            "_model_module": "@jupyter-widgets/base",
            "_model_module_version": "1.2.0",
            "_model_name": "LayoutModel",
            "_view_count": null,
            "_view_module": "@jupyter-widgets/base",
            "_view_module_version": "1.2.0",
            "_view_name": "LayoutView",
            "align_content": null,
            "align_items": null,
            "align_self": null,
            "border": null,
            "bottom": null,
            "display": null,
            "flex": null,
            "flex_flow": null,
            "grid_area": null,
            "grid_auto_columns": null,
            "grid_auto_flow": null,
            "grid_auto_rows": null,
            "grid_column": null,
            "grid_gap": null,
            "grid_row": null,
            "grid_template_areas": null,
            "grid_template_columns": null,
            "grid_template_rows": null,
            "height": null,
            "justify_content": null,
            "justify_items": null,
            "left": null,
            "margin": null,
            "max_height": null,
            "max_width": null,
            "min_height": null,
            "min_width": null,
            "object_fit": null,
            "object_position": null,
            "order": null,
            "overflow": null,
            "overflow_x": null,
            "overflow_y": null,
            "padding": null,
            "right": null,
            "top": null,
            "visibility": null,
            "width": null
          }
        },
        "ac396b9146494bb88b715e31039e1852": {
          "model_module": "@jupyter-widgets/controls",
          "model_name": "DescriptionStyleModel",
          "model_module_version": "1.5.0",
          "state": {
            "_model_module": "@jupyter-widgets/controls",
            "_model_module_version": "1.5.0",
            "_model_name": "DescriptionStyleModel",
            "_view_count": null,
            "_view_module": "@jupyter-widgets/base",
            "_view_module_version": "1.2.0",
            "_view_name": "StyleView",
            "description_width": ""
          }
        },
        "ef060ec582d641f6b8677cb64713b46f": {
          "model_module": "@jupyter-widgets/controls",
          "model_name": "HBoxModel",
          "model_module_version": "1.5.0",
          "state": {
            "_dom_classes": [],
            "_model_module": "@jupyter-widgets/controls",
            "_model_module_version": "1.5.0",
            "_model_name": "HBoxModel",
            "_view_count": null,
            "_view_module": "@jupyter-widgets/controls",
            "_view_module_version": "1.5.0",
            "_view_name": "HBoxView",
            "box_style": "",
            "children": [
              "IPY_MODEL_a5382ef83165421a85225c3a27def1fb",
              "IPY_MODEL_2066a4cb03604df0b105b2e02771e67a",
              "IPY_MODEL_2443bc4d7bfb4b76be1c0c7292c498bb"
            ],
            "layout": "IPY_MODEL_acbfeb42961b44ed88d102b5722b236a"
          }
        },
        "a5382ef83165421a85225c3a27def1fb": {
          "model_module": "@jupyter-widgets/controls",
          "model_name": "HTMLModel",
          "model_module_version": "1.5.0",
          "state": {
            "_dom_classes": [],
            "_model_module": "@jupyter-widgets/controls",
            "_model_module_version": "1.5.0",
            "_model_name": "HTMLModel",
            "_view_count": null,
            "_view_module": "@jupyter-widgets/controls",
            "_view_module_version": "1.5.0",
            "_view_name": "HTMLView",
            "description": "",
            "description_tooltip": null,
            "layout": "IPY_MODEL_b41cdf410a5149a1970214fb276ab74f",
            "placeholder": "​",
            "style": "IPY_MODEL_d9209b78f58d45109ef39819d5de431c",
            "value": "Validation DataLoader 0: 100%"
          }
        },
        "2066a4cb03604df0b105b2e02771e67a": {
          "model_module": "@jupyter-widgets/controls",
          "model_name": "FloatProgressModel",
          "model_module_version": "1.5.0",
          "state": {
            "_dom_classes": [],
            "_model_module": "@jupyter-widgets/controls",
            "_model_module_version": "1.5.0",
            "_model_name": "FloatProgressModel",
            "_view_count": null,
            "_view_module": "@jupyter-widgets/controls",
            "_view_module_version": "1.5.0",
            "_view_name": "ProgressView",
            "bar_style": "",
            "description": "",
            "description_tooltip": null,
            "layout": "IPY_MODEL_955655d423ac4630ba051c929a7edd55",
            "max": 1,
            "min": 0,
            "orientation": "horizontal",
            "style": "IPY_MODEL_094904d326944c2497d8e23bde47a3b9",
            "value": 1
          }
        },
        "2443bc4d7bfb4b76be1c0c7292c498bb": {
          "model_module": "@jupyter-widgets/controls",
          "model_name": "HTMLModel",
          "model_module_version": "1.5.0",
          "state": {
            "_dom_classes": [],
            "_model_module": "@jupyter-widgets/controls",
            "_model_module_version": "1.5.0",
            "_model_name": "HTMLModel",
            "_view_count": null,
            "_view_module": "@jupyter-widgets/controls",
            "_view_module_version": "1.5.0",
            "_view_name": "HTMLView",
            "description": "",
            "description_tooltip": null,
            "layout": "IPY_MODEL_1f8e00803d9b43a18cfaf04399f85af9",
            "placeholder": "​",
            "style": "IPY_MODEL_baf4e45932714a579f259908b1f3add9",
            "value": " 313/313 [00:00&lt;00:00, 485.16it/s]"
          }
        },
        "acbfeb42961b44ed88d102b5722b236a": {
          "model_module": "@jupyter-widgets/base",
          "model_name": "LayoutModel",
          "model_module_version": "1.2.0",
          "state": {
            "_model_module": "@jupyter-widgets/base",
            "_model_module_version": "1.2.0",
            "_model_name": "LayoutModel",
            "_view_count": null,
            "_view_module": "@jupyter-widgets/base",
            "_view_module_version": "1.2.0",
            "_view_name": "LayoutView",
            "align_content": null,
            "align_items": null,
            "align_self": null,
            "border": null,
            "bottom": null,
            "display": "inline-flex",
            "flex": null,
            "flex_flow": "row wrap",
            "grid_area": null,
            "grid_auto_columns": null,
            "grid_auto_flow": null,
            "grid_auto_rows": null,
            "grid_column": null,
            "grid_gap": null,
            "grid_row": null,
            "grid_template_areas": null,
            "grid_template_columns": null,
            "grid_template_rows": null,
            "height": null,
            "justify_content": null,
            "justify_items": null,
            "left": null,
            "margin": null,
            "max_height": null,
            "max_width": null,
            "min_height": null,
            "min_width": null,
            "object_fit": null,
            "object_position": null,
            "order": null,
            "overflow": null,
            "overflow_x": null,
            "overflow_y": null,
            "padding": null,
            "right": null,
            "top": null,
            "visibility": "hidden",
            "width": "100%"
          }
        },
        "b41cdf410a5149a1970214fb276ab74f": {
          "model_module": "@jupyter-widgets/base",
          "model_name": "LayoutModel",
          "model_module_version": "1.2.0",
          "state": {
            "_model_module": "@jupyter-widgets/base",
            "_model_module_version": "1.2.0",
            "_model_name": "LayoutModel",
            "_view_count": null,
            "_view_module": "@jupyter-widgets/base",
            "_view_module_version": "1.2.0",
            "_view_name": "LayoutView",
            "align_content": null,
            "align_items": null,
            "align_self": null,
            "border": null,
            "bottom": null,
            "display": null,
            "flex": null,
            "flex_flow": null,
            "grid_area": null,
            "grid_auto_columns": null,
            "grid_auto_flow": null,
            "grid_auto_rows": null,
            "grid_column": null,
            "grid_gap": null,
            "grid_row": null,
            "grid_template_areas": null,
            "grid_template_columns": null,
            "grid_template_rows": null,
            "height": null,
            "justify_content": null,
            "justify_items": null,
            "left": null,
            "margin": null,
            "max_height": null,
            "max_width": null,
            "min_height": null,
            "min_width": null,
            "object_fit": null,
            "object_position": null,
            "order": null,
            "overflow": null,
            "overflow_x": null,
            "overflow_y": null,
            "padding": null,
            "right": null,
            "top": null,
            "visibility": null,
            "width": null
          }
        },
        "d9209b78f58d45109ef39819d5de431c": {
          "model_module": "@jupyter-widgets/controls",
          "model_name": "DescriptionStyleModel",
          "model_module_version": "1.5.0",
          "state": {
            "_model_module": "@jupyter-widgets/controls",
            "_model_module_version": "1.5.0",
            "_model_name": "DescriptionStyleModel",
            "_view_count": null,
            "_view_module": "@jupyter-widgets/base",
            "_view_module_version": "1.2.0",
            "_view_name": "StyleView",
            "description_width": ""
          }
        },
        "955655d423ac4630ba051c929a7edd55": {
          "model_module": "@jupyter-widgets/base",
          "model_name": "LayoutModel",
          "model_module_version": "1.2.0",
          "state": {
            "_model_module": "@jupyter-widgets/base",
            "_model_module_version": "1.2.0",
            "_model_name": "LayoutModel",
            "_view_count": null,
            "_view_module": "@jupyter-widgets/base",
            "_view_module_version": "1.2.0",
            "_view_name": "LayoutView",
            "align_content": null,
            "align_items": null,
            "align_self": null,
            "border": null,
            "bottom": null,
            "display": null,
            "flex": "2",
            "flex_flow": null,
            "grid_area": null,
            "grid_auto_columns": null,
            "grid_auto_flow": null,
            "grid_auto_rows": null,
            "grid_column": null,
            "grid_gap": null,
            "grid_row": null,
            "grid_template_areas": null,
            "grid_template_columns": null,
            "grid_template_rows": null,
            "height": null,
            "justify_content": null,
            "justify_items": null,
            "left": null,
            "margin": null,
            "max_height": null,
            "max_width": null,
            "min_height": null,
            "min_width": null,
            "object_fit": null,
            "object_position": null,
            "order": null,
            "overflow": null,
            "overflow_x": null,
            "overflow_y": null,
            "padding": null,
            "right": null,
            "top": null,
            "visibility": null,
            "width": null
          }
        },
        "094904d326944c2497d8e23bde47a3b9": {
          "model_module": "@jupyter-widgets/controls",
          "model_name": "ProgressStyleModel",
          "model_module_version": "1.5.0",
          "state": {
            "_model_module": "@jupyter-widgets/controls",
            "_model_module_version": "1.5.0",
            "_model_name": "ProgressStyleModel",
            "_view_count": null,
            "_view_module": "@jupyter-widgets/base",
            "_view_module_version": "1.2.0",
            "_view_name": "StyleView",
            "bar_color": null,
            "description_width": ""
          }
        },
        "1f8e00803d9b43a18cfaf04399f85af9": {
          "model_module": "@jupyter-widgets/base",
          "model_name": "LayoutModel",
          "model_module_version": "1.2.0",
          "state": {
            "_model_module": "@jupyter-widgets/base",
            "_model_module_version": "1.2.0",
            "_model_name": "LayoutModel",
            "_view_count": null,
            "_view_module": "@jupyter-widgets/base",
            "_view_module_version": "1.2.0",
            "_view_name": "LayoutView",
            "align_content": null,
            "align_items": null,
            "align_self": null,
            "border": null,
            "bottom": null,
            "display": null,
            "flex": null,
            "flex_flow": null,
            "grid_area": null,
            "grid_auto_columns": null,
            "grid_auto_flow": null,
            "grid_auto_rows": null,
            "grid_column": null,
            "grid_gap": null,
            "grid_row": null,
            "grid_template_areas": null,
            "grid_template_columns": null,
            "grid_template_rows": null,
            "height": null,
            "justify_content": null,
            "justify_items": null,
            "left": null,
            "margin": null,
            "max_height": null,
            "max_width": null,
            "min_height": null,
            "min_width": null,
            "object_fit": null,
            "object_position": null,
            "order": null,
            "overflow": null,
            "overflow_x": null,
            "overflow_y": null,
            "padding": null,
            "right": null,
            "top": null,
            "visibility": null,
            "width": null
          }
        },
        "baf4e45932714a579f259908b1f3add9": {
          "model_module": "@jupyter-widgets/controls",
          "model_name": "DescriptionStyleModel",
          "model_module_version": "1.5.0",
          "state": {
            "_model_module": "@jupyter-widgets/controls",
            "_model_module_version": "1.5.0",
            "_model_name": "DescriptionStyleModel",
            "_view_count": null,
            "_view_module": "@jupyter-widgets/base",
            "_view_module_version": "1.2.0",
            "_view_name": "StyleView",
            "description_width": ""
          }
        },
        "8dc601a0459e4a95bfe00c13400b266c": {
          "model_module": "@jupyter-widgets/controls",
          "model_name": "HBoxModel",
          "model_module_version": "1.5.0",
          "state": {
            "_dom_classes": [],
            "_model_module": "@jupyter-widgets/controls",
            "_model_module_version": "1.5.0",
            "_model_name": "HBoxModel",
            "_view_count": null,
            "_view_module": "@jupyter-widgets/controls",
            "_view_module_version": "1.5.0",
            "_view_name": "HBoxView",
            "box_style": "",
            "children": [
              "IPY_MODEL_219c7cd716ab42c8a3085d5f44e490a9",
              "IPY_MODEL_078646ab9a9b42e096dfd5e5653f0cbd",
              "IPY_MODEL_5eb9e66f24584bbd917c1668a8e3a0b8"
            ],
            "layout": "IPY_MODEL_81bf862be21447a0b34d0c01bedd729e"
          }
        },
        "219c7cd716ab42c8a3085d5f44e490a9": {
          "model_module": "@jupyter-widgets/controls",
          "model_name": "HTMLModel",
          "model_module_version": "1.5.0",
          "state": {
            "_dom_classes": [],
            "_model_module": "@jupyter-widgets/controls",
            "_model_module_version": "1.5.0",
            "_model_name": "HTMLModel",
            "_view_count": null,
            "_view_module": "@jupyter-widgets/controls",
            "_view_module_version": "1.5.0",
            "_view_name": "HTMLView",
            "description": "",
            "description_tooltip": null,
            "layout": "IPY_MODEL_f3c551c5012f45b9bfcdac6d1895a06b",
            "placeholder": "​",
            "style": "IPY_MODEL_1df223828c2349a8aa0018ddb835f4d4",
            "value": "Validation DataLoader 0: 100%"
          }
        },
        "078646ab9a9b42e096dfd5e5653f0cbd": {
          "model_module": "@jupyter-widgets/controls",
          "model_name": "FloatProgressModel",
          "model_module_version": "1.5.0",
          "state": {
            "_dom_classes": [],
            "_model_module": "@jupyter-widgets/controls",
            "_model_module_version": "1.5.0",
            "_model_name": "FloatProgressModel",
            "_view_count": null,
            "_view_module": "@jupyter-widgets/controls",
            "_view_module_version": "1.5.0",
            "_view_name": "ProgressView",
            "bar_style": "",
            "description": "",
            "description_tooltip": null,
            "layout": "IPY_MODEL_e69828cd25224a388a59da846b29d181",
            "max": 1,
            "min": 0,
            "orientation": "horizontal",
            "style": "IPY_MODEL_49585ad0b1254029a8c77d98e9306ace",
            "value": 1
          }
        },
        "5eb9e66f24584bbd917c1668a8e3a0b8": {
          "model_module": "@jupyter-widgets/controls",
          "model_name": "HTMLModel",
          "model_module_version": "1.5.0",
          "state": {
            "_dom_classes": [],
            "_model_module": "@jupyter-widgets/controls",
            "_model_module_version": "1.5.0",
            "_model_name": "HTMLModel",
            "_view_count": null,
            "_view_module": "@jupyter-widgets/controls",
            "_view_module_version": "1.5.0",
            "_view_name": "HTMLView",
            "description": "",
            "description_tooltip": null,
            "layout": "IPY_MODEL_54d5d0668fa248ee92a23ebbd2634e4b",
            "placeholder": "​",
            "style": "IPY_MODEL_55a54eead9f54077999a4384ec8013fc",
            "value": " 313/313 [00:00&lt;00:00, 458.34it/s]"
          }
        },
        "81bf862be21447a0b34d0c01bedd729e": {
          "model_module": "@jupyter-widgets/base",
          "model_name": "LayoutModel",
          "model_module_version": "1.2.0",
          "state": {
            "_model_module": "@jupyter-widgets/base",
            "_model_module_version": "1.2.0",
            "_model_name": "LayoutModel",
            "_view_count": null,
            "_view_module": "@jupyter-widgets/base",
            "_view_module_version": "1.2.0",
            "_view_name": "LayoutView",
            "align_content": null,
            "align_items": null,
            "align_self": null,
            "border": null,
            "bottom": null,
            "display": "inline-flex",
            "flex": null,
            "flex_flow": "row wrap",
            "grid_area": null,
            "grid_auto_columns": null,
            "grid_auto_flow": null,
            "grid_auto_rows": null,
            "grid_column": null,
            "grid_gap": null,
            "grid_row": null,
            "grid_template_areas": null,
            "grid_template_columns": null,
            "grid_template_rows": null,
            "height": null,
            "justify_content": null,
            "justify_items": null,
            "left": null,
            "margin": null,
            "max_height": null,
            "max_width": null,
            "min_height": null,
            "min_width": null,
            "object_fit": null,
            "object_position": null,
            "order": null,
            "overflow": null,
            "overflow_x": null,
            "overflow_y": null,
            "padding": null,
            "right": null,
            "top": null,
            "visibility": "hidden",
            "width": "100%"
          }
        },
        "f3c551c5012f45b9bfcdac6d1895a06b": {
          "model_module": "@jupyter-widgets/base",
          "model_name": "LayoutModel",
          "model_module_version": "1.2.0",
          "state": {
            "_model_module": "@jupyter-widgets/base",
            "_model_module_version": "1.2.0",
            "_model_name": "LayoutModel",
            "_view_count": null,
            "_view_module": "@jupyter-widgets/base",
            "_view_module_version": "1.2.0",
            "_view_name": "LayoutView",
            "align_content": null,
            "align_items": null,
            "align_self": null,
            "border": null,
            "bottom": null,
            "display": null,
            "flex": null,
            "flex_flow": null,
            "grid_area": null,
            "grid_auto_columns": null,
            "grid_auto_flow": null,
            "grid_auto_rows": null,
            "grid_column": null,
            "grid_gap": null,
            "grid_row": null,
            "grid_template_areas": null,
            "grid_template_columns": null,
            "grid_template_rows": null,
            "height": null,
            "justify_content": null,
            "justify_items": null,
            "left": null,
            "margin": null,
            "max_height": null,
            "max_width": null,
            "min_height": null,
            "min_width": null,
            "object_fit": null,
            "object_position": null,
            "order": null,
            "overflow": null,
            "overflow_x": null,
            "overflow_y": null,
            "padding": null,
            "right": null,
            "top": null,
            "visibility": null,
            "width": null
          }
        },
        "1df223828c2349a8aa0018ddb835f4d4": {
          "model_module": "@jupyter-widgets/controls",
          "model_name": "DescriptionStyleModel",
          "model_module_version": "1.5.0",
          "state": {
            "_model_module": "@jupyter-widgets/controls",
            "_model_module_version": "1.5.0",
            "_model_name": "DescriptionStyleModel",
            "_view_count": null,
            "_view_module": "@jupyter-widgets/base",
            "_view_module_version": "1.2.0",
            "_view_name": "StyleView",
            "description_width": ""
          }
        },
        "e69828cd25224a388a59da846b29d181": {
          "model_module": "@jupyter-widgets/base",
          "model_name": "LayoutModel",
          "model_module_version": "1.2.0",
          "state": {
            "_model_module": "@jupyter-widgets/base",
            "_model_module_version": "1.2.0",
            "_model_name": "LayoutModel",
            "_view_count": null,
            "_view_module": "@jupyter-widgets/base",
            "_view_module_version": "1.2.0",
            "_view_name": "LayoutView",
            "align_content": null,
            "align_items": null,
            "align_self": null,
            "border": null,
            "bottom": null,
            "display": null,
            "flex": "2",
            "flex_flow": null,
            "grid_area": null,
            "grid_auto_columns": null,
            "grid_auto_flow": null,
            "grid_auto_rows": null,
            "grid_column": null,
            "grid_gap": null,
            "grid_row": null,
            "grid_template_areas": null,
            "grid_template_columns": null,
            "grid_template_rows": null,
            "height": null,
            "justify_content": null,
            "justify_items": null,
            "left": null,
            "margin": null,
            "max_height": null,
            "max_width": null,
            "min_height": null,
            "min_width": null,
            "object_fit": null,
            "object_position": null,
            "order": null,
            "overflow": null,
            "overflow_x": null,
            "overflow_y": null,
            "padding": null,
            "right": null,
            "top": null,
            "visibility": null,
            "width": null
          }
        },
        "49585ad0b1254029a8c77d98e9306ace": {
          "model_module": "@jupyter-widgets/controls",
          "model_name": "ProgressStyleModel",
          "model_module_version": "1.5.0",
          "state": {
            "_model_module": "@jupyter-widgets/controls",
            "_model_module_version": "1.5.0",
            "_model_name": "ProgressStyleModel",
            "_view_count": null,
            "_view_module": "@jupyter-widgets/base",
            "_view_module_version": "1.2.0",
            "_view_name": "StyleView",
            "bar_color": null,
            "description_width": ""
          }
        },
        "54d5d0668fa248ee92a23ebbd2634e4b": {
          "model_module": "@jupyter-widgets/base",
          "model_name": "LayoutModel",
          "model_module_version": "1.2.0",
          "state": {
            "_model_module": "@jupyter-widgets/base",
            "_model_module_version": "1.2.0",
            "_model_name": "LayoutModel",
            "_view_count": null,
            "_view_module": "@jupyter-widgets/base",
            "_view_module_version": "1.2.0",
            "_view_name": "LayoutView",
            "align_content": null,
            "align_items": null,
            "align_self": null,
            "border": null,
            "bottom": null,
            "display": null,
            "flex": null,
            "flex_flow": null,
            "grid_area": null,
            "grid_auto_columns": null,
            "grid_auto_flow": null,
            "grid_auto_rows": null,
            "grid_column": null,
            "grid_gap": null,
            "grid_row": null,
            "grid_template_areas": null,
            "grid_template_columns": null,
            "grid_template_rows": null,
            "height": null,
            "justify_content": null,
            "justify_items": null,
            "left": null,
            "margin": null,
            "max_height": null,
            "max_width": null,
            "min_height": null,
            "min_width": null,
            "object_fit": null,
            "object_position": null,
            "order": null,
            "overflow": null,
            "overflow_x": null,
            "overflow_y": null,
            "padding": null,
            "right": null,
            "top": null,
            "visibility": null,
            "width": null
          }
        },
        "55a54eead9f54077999a4384ec8013fc": {
          "model_module": "@jupyter-widgets/controls",
          "model_name": "DescriptionStyleModel",
          "model_module_version": "1.5.0",
          "state": {
            "_model_module": "@jupyter-widgets/controls",
            "_model_module_version": "1.5.0",
            "_model_name": "DescriptionStyleModel",
            "_view_count": null,
            "_view_module": "@jupyter-widgets/base",
            "_view_module_version": "1.2.0",
            "_view_name": "StyleView",
            "description_width": ""
          }
        },
        "057da786942c4e07b3e9101911cbc8ab": {
          "model_module": "@jupyter-widgets/controls",
          "model_name": "HBoxModel",
          "model_module_version": "1.5.0",
          "state": {
            "_dom_classes": [],
            "_model_module": "@jupyter-widgets/controls",
            "_model_module_version": "1.5.0",
            "_model_name": "HBoxModel",
            "_view_count": null,
            "_view_module": "@jupyter-widgets/controls",
            "_view_module_version": "1.5.0",
            "_view_name": "HBoxView",
            "box_style": "",
            "children": [
              "IPY_MODEL_21645dfee09a41e38e750737c5c34951",
              "IPY_MODEL_6a695156961945009179f0057cc20ab9",
              "IPY_MODEL_75dcd8b3b9e4470b97be61994627cd2e"
            ],
            "layout": "IPY_MODEL_55d33044ca74456fbe1071bcb15239a0"
          }
        },
        "21645dfee09a41e38e750737c5c34951": {
          "model_module": "@jupyter-widgets/controls",
          "model_name": "HTMLModel",
          "model_module_version": "1.5.0",
          "state": {
            "_dom_classes": [],
            "_model_module": "@jupyter-widgets/controls",
            "_model_module_version": "1.5.0",
            "_model_name": "HTMLModel",
            "_view_count": null,
            "_view_module": "@jupyter-widgets/controls",
            "_view_module_version": "1.5.0",
            "_view_name": "HTMLView",
            "description": "",
            "description_tooltip": null,
            "layout": "IPY_MODEL_30a99f5571a942fc9b8e30c8e4c42337",
            "placeholder": "​",
            "style": "IPY_MODEL_90c6007dc45c4e6ba6bd439e9c848202",
            "value": "Validation DataLoader 0: 100%"
          }
        },
        "6a695156961945009179f0057cc20ab9": {
          "model_module": "@jupyter-widgets/controls",
          "model_name": "FloatProgressModel",
          "model_module_version": "1.5.0",
          "state": {
            "_dom_classes": [],
            "_model_module": "@jupyter-widgets/controls",
            "_model_module_version": "1.5.0",
            "_model_name": "FloatProgressModel",
            "_view_count": null,
            "_view_module": "@jupyter-widgets/controls",
            "_view_module_version": "1.5.0",
            "_view_name": "ProgressView",
            "bar_style": "",
            "description": "",
            "description_tooltip": null,
            "layout": "IPY_MODEL_2b6843b1a6564f9c975a0859c9127e40",
            "max": 1,
            "min": 0,
            "orientation": "horizontal",
            "style": "IPY_MODEL_b4a5cd813bcf47369b73db2bf09feef4",
            "value": 1
          }
        },
        "75dcd8b3b9e4470b97be61994627cd2e": {
          "model_module": "@jupyter-widgets/controls",
          "model_name": "HTMLModel",
          "model_module_version": "1.5.0",
          "state": {
            "_dom_classes": [],
            "_model_module": "@jupyter-widgets/controls",
            "_model_module_version": "1.5.0",
            "_model_name": "HTMLModel",
            "_view_count": null,
            "_view_module": "@jupyter-widgets/controls",
            "_view_module_version": "1.5.0",
            "_view_name": "HTMLView",
            "description": "",
            "description_tooltip": null,
            "layout": "IPY_MODEL_fde84f1f6fa8437da4673d4daaa36000",
            "placeholder": "​",
            "style": "IPY_MODEL_d2b387fdfab44990b4ca1e5148e9a171",
            "value": " 313/313 [00:00&lt;00:00, 321.48it/s]"
          }
        },
        "55d33044ca74456fbe1071bcb15239a0": {
          "model_module": "@jupyter-widgets/base",
          "model_name": "LayoutModel",
          "model_module_version": "1.2.0",
          "state": {
            "_model_module": "@jupyter-widgets/base",
            "_model_module_version": "1.2.0",
            "_model_name": "LayoutModel",
            "_view_count": null,
            "_view_module": "@jupyter-widgets/base",
            "_view_module_version": "1.2.0",
            "_view_name": "LayoutView",
            "align_content": null,
            "align_items": null,
            "align_self": null,
            "border": null,
            "bottom": null,
            "display": "inline-flex",
            "flex": null,
            "flex_flow": "row wrap",
            "grid_area": null,
            "grid_auto_columns": null,
            "grid_auto_flow": null,
            "grid_auto_rows": null,
            "grid_column": null,
            "grid_gap": null,
            "grid_row": null,
            "grid_template_areas": null,
            "grid_template_columns": null,
            "grid_template_rows": null,
            "height": null,
            "justify_content": null,
            "justify_items": null,
            "left": null,
            "margin": null,
            "max_height": null,
            "max_width": null,
            "min_height": null,
            "min_width": null,
            "object_fit": null,
            "object_position": null,
            "order": null,
            "overflow": null,
            "overflow_x": null,
            "overflow_y": null,
            "padding": null,
            "right": null,
            "top": null,
            "visibility": "hidden",
            "width": "100%"
          }
        },
        "30a99f5571a942fc9b8e30c8e4c42337": {
          "model_module": "@jupyter-widgets/base",
          "model_name": "LayoutModel",
          "model_module_version": "1.2.0",
          "state": {
            "_model_module": "@jupyter-widgets/base",
            "_model_module_version": "1.2.0",
            "_model_name": "LayoutModel",
            "_view_count": null,
            "_view_module": "@jupyter-widgets/base",
            "_view_module_version": "1.2.0",
            "_view_name": "LayoutView",
            "align_content": null,
            "align_items": null,
            "align_self": null,
            "border": null,
            "bottom": null,
            "display": null,
            "flex": null,
            "flex_flow": null,
            "grid_area": null,
            "grid_auto_columns": null,
            "grid_auto_flow": null,
            "grid_auto_rows": null,
            "grid_column": null,
            "grid_gap": null,
            "grid_row": null,
            "grid_template_areas": null,
            "grid_template_columns": null,
            "grid_template_rows": null,
            "height": null,
            "justify_content": null,
            "justify_items": null,
            "left": null,
            "margin": null,
            "max_height": null,
            "max_width": null,
            "min_height": null,
            "min_width": null,
            "object_fit": null,
            "object_position": null,
            "order": null,
            "overflow": null,
            "overflow_x": null,
            "overflow_y": null,
            "padding": null,
            "right": null,
            "top": null,
            "visibility": null,
            "width": null
          }
        },
        "90c6007dc45c4e6ba6bd439e9c848202": {
          "model_module": "@jupyter-widgets/controls",
          "model_name": "DescriptionStyleModel",
          "model_module_version": "1.5.0",
          "state": {
            "_model_module": "@jupyter-widgets/controls",
            "_model_module_version": "1.5.0",
            "_model_name": "DescriptionStyleModel",
            "_view_count": null,
            "_view_module": "@jupyter-widgets/base",
            "_view_module_version": "1.2.0",
            "_view_name": "StyleView",
            "description_width": ""
          }
        },
        "2b6843b1a6564f9c975a0859c9127e40": {
          "model_module": "@jupyter-widgets/base",
          "model_name": "LayoutModel",
          "model_module_version": "1.2.0",
          "state": {
            "_model_module": "@jupyter-widgets/base",
            "_model_module_version": "1.2.0",
            "_model_name": "LayoutModel",
            "_view_count": null,
            "_view_module": "@jupyter-widgets/base",
            "_view_module_version": "1.2.0",
            "_view_name": "LayoutView",
            "align_content": null,
            "align_items": null,
            "align_self": null,
            "border": null,
            "bottom": null,
            "display": null,
            "flex": "2",
            "flex_flow": null,
            "grid_area": null,
            "grid_auto_columns": null,
            "grid_auto_flow": null,
            "grid_auto_rows": null,
            "grid_column": null,
            "grid_gap": null,
            "grid_row": null,
            "grid_template_areas": null,
            "grid_template_columns": null,
            "grid_template_rows": null,
            "height": null,
            "justify_content": null,
            "justify_items": null,
            "left": null,
            "margin": null,
            "max_height": null,
            "max_width": null,
            "min_height": null,
            "min_width": null,
            "object_fit": null,
            "object_position": null,
            "order": null,
            "overflow": null,
            "overflow_x": null,
            "overflow_y": null,
            "padding": null,
            "right": null,
            "top": null,
            "visibility": null,
            "width": null
          }
        },
        "b4a5cd813bcf47369b73db2bf09feef4": {
          "model_module": "@jupyter-widgets/controls",
          "model_name": "ProgressStyleModel",
          "model_module_version": "1.5.0",
          "state": {
            "_model_module": "@jupyter-widgets/controls",
            "_model_module_version": "1.5.0",
            "_model_name": "ProgressStyleModel",
            "_view_count": null,
            "_view_module": "@jupyter-widgets/base",
            "_view_module_version": "1.2.0",
            "_view_name": "StyleView",
            "bar_color": null,
            "description_width": ""
          }
        },
        "fde84f1f6fa8437da4673d4daaa36000": {
          "model_module": "@jupyter-widgets/base",
          "model_name": "LayoutModel",
          "model_module_version": "1.2.0",
          "state": {
            "_model_module": "@jupyter-widgets/base",
            "_model_module_version": "1.2.0",
            "_model_name": "LayoutModel",
            "_view_count": null,
            "_view_module": "@jupyter-widgets/base",
            "_view_module_version": "1.2.0",
            "_view_name": "LayoutView",
            "align_content": null,
            "align_items": null,
            "align_self": null,
            "border": null,
            "bottom": null,
            "display": null,
            "flex": null,
            "flex_flow": null,
            "grid_area": null,
            "grid_auto_columns": null,
            "grid_auto_flow": null,
            "grid_auto_rows": null,
            "grid_column": null,
            "grid_gap": null,
            "grid_row": null,
            "grid_template_areas": null,
            "grid_template_columns": null,
            "grid_template_rows": null,
            "height": null,
            "justify_content": null,
            "justify_items": null,
            "left": null,
            "margin": null,
            "max_height": null,
            "max_width": null,
            "min_height": null,
            "min_width": null,
            "object_fit": null,
            "object_position": null,
            "order": null,
            "overflow": null,
            "overflow_x": null,
            "overflow_y": null,
            "padding": null,
            "right": null,
            "top": null,
            "visibility": null,
            "width": null
          }
        },
        "d2b387fdfab44990b4ca1e5148e9a171": {
          "model_module": "@jupyter-widgets/controls",
          "model_name": "DescriptionStyleModel",
          "model_module_version": "1.5.0",
          "state": {
            "_model_module": "@jupyter-widgets/controls",
            "_model_module_version": "1.5.0",
            "_model_name": "DescriptionStyleModel",
            "_view_count": null,
            "_view_module": "@jupyter-widgets/base",
            "_view_module_version": "1.2.0",
            "_view_name": "StyleView",
            "description_width": ""
          }
        },
        "68b1950b27be4250a176428cb4e7f967": {
          "model_module": "@jupyter-widgets/controls",
          "model_name": "HBoxModel",
          "model_module_version": "1.5.0",
          "state": {
            "_dom_classes": [],
            "_model_module": "@jupyter-widgets/controls",
            "_model_module_version": "1.5.0",
            "_model_name": "HBoxModel",
            "_view_count": null,
            "_view_module": "@jupyter-widgets/controls",
            "_view_module_version": "1.5.0",
            "_view_name": "HBoxView",
            "box_style": "",
            "children": [
              "IPY_MODEL_d8c80781630840f7921c23512e688ab5",
              "IPY_MODEL_c072ad7da5164fe383ecfa6ca7547ff2",
              "IPY_MODEL_1ba26f0ef4984b20bb33397706511d43"
            ],
            "layout": "IPY_MODEL_2579dd9c8b6146a7b0b78b9042899653"
          }
        },
        "d8c80781630840f7921c23512e688ab5": {
          "model_module": "@jupyter-widgets/controls",
          "model_name": "HTMLModel",
          "model_module_version": "1.5.0",
          "state": {
            "_dom_classes": [],
            "_model_module": "@jupyter-widgets/controls",
            "_model_module_version": "1.5.0",
            "_model_name": "HTMLModel",
            "_view_count": null,
            "_view_module": "@jupyter-widgets/controls",
            "_view_module_version": "1.5.0",
            "_view_name": "HTMLView",
            "description": "",
            "description_tooltip": null,
            "layout": "IPY_MODEL_73922733304d469ba0210844106c3b78",
            "placeholder": "​",
            "style": "IPY_MODEL_e18a3f8e337d419498ef73ff4a6026fc",
            "value": "Validation DataLoader 0: 100%"
          }
        },
        "c072ad7da5164fe383ecfa6ca7547ff2": {
          "model_module": "@jupyter-widgets/controls",
          "model_name": "FloatProgressModel",
          "model_module_version": "1.5.0",
          "state": {
            "_dom_classes": [],
            "_model_module": "@jupyter-widgets/controls",
            "_model_module_version": "1.5.0",
            "_model_name": "FloatProgressModel",
            "_view_count": null,
            "_view_module": "@jupyter-widgets/controls",
            "_view_module_version": "1.5.0",
            "_view_name": "ProgressView",
            "bar_style": "",
            "description": "",
            "description_tooltip": null,
            "layout": "IPY_MODEL_32fb8b071915464890a63609ea5d1884",
            "max": 1,
            "min": 0,
            "orientation": "horizontal",
            "style": "IPY_MODEL_fb0c2d4231454b738413c0a900bc2395",
            "value": 1
          }
        },
        "1ba26f0ef4984b20bb33397706511d43": {
          "model_module": "@jupyter-widgets/controls",
          "model_name": "HTMLModel",
          "model_module_version": "1.5.0",
          "state": {
            "_dom_classes": [],
            "_model_module": "@jupyter-widgets/controls",
            "_model_module_version": "1.5.0",
            "_model_name": "HTMLModel",
            "_view_count": null,
            "_view_module": "@jupyter-widgets/controls",
            "_view_module_version": "1.5.0",
            "_view_name": "HTMLView",
            "description": "",
            "description_tooltip": null,
            "layout": "IPY_MODEL_62a31805ae77473a97b0509f0275226a",
            "placeholder": "​",
            "style": "IPY_MODEL_7ffe9cfeb7e2454c829694732d072bbf",
            "value": " 313/313 [00:00&lt;00:00, 494.60it/s]"
          }
        },
        "2579dd9c8b6146a7b0b78b9042899653": {
          "model_module": "@jupyter-widgets/base",
          "model_name": "LayoutModel",
          "model_module_version": "1.2.0",
          "state": {
            "_model_module": "@jupyter-widgets/base",
            "_model_module_version": "1.2.0",
            "_model_name": "LayoutModel",
            "_view_count": null,
            "_view_module": "@jupyter-widgets/base",
            "_view_module_version": "1.2.0",
            "_view_name": "LayoutView",
            "align_content": null,
            "align_items": null,
            "align_self": null,
            "border": null,
            "bottom": null,
            "display": "inline-flex",
            "flex": null,
            "flex_flow": "row wrap",
            "grid_area": null,
            "grid_auto_columns": null,
            "grid_auto_flow": null,
            "grid_auto_rows": null,
            "grid_column": null,
            "grid_gap": null,
            "grid_row": null,
            "grid_template_areas": null,
            "grid_template_columns": null,
            "grid_template_rows": null,
            "height": null,
            "justify_content": null,
            "justify_items": null,
            "left": null,
            "margin": null,
            "max_height": null,
            "max_width": null,
            "min_height": null,
            "min_width": null,
            "object_fit": null,
            "object_position": null,
            "order": null,
            "overflow": null,
            "overflow_x": null,
            "overflow_y": null,
            "padding": null,
            "right": null,
            "top": null,
            "visibility": "hidden",
            "width": "100%"
          }
        },
        "73922733304d469ba0210844106c3b78": {
          "model_module": "@jupyter-widgets/base",
          "model_name": "LayoutModel",
          "model_module_version": "1.2.0",
          "state": {
            "_model_module": "@jupyter-widgets/base",
            "_model_module_version": "1.2.0",
            "_model_name": "LayoutModel",
            "_view_count": null,
            "_view_module": "@jupyter-widgets/base",
            "_view_module_version": "1.2.0",
            "_view_name": "LayoutView",
            "align_content": null,
            "align_items": null,
            "align_self": null,
            "border": null,
            "bottom": null,
            "display": null,
            "flex": null,
            "flex_flow": null,
            "grid_area": null,
            "grid_auto_columns": null,
            "grid_auto_flow": null,
            "grid_auto_rows": null,
            "grid_column": null,
            "grid_gap": null,
            "grid_row": null,
            "grid_template_areas": null,
            "grid_template_columns": null,
            "grid_template_rows": null,
            "height": null,
            "justify_content": null,
            "justify_items": null,
            "left": null,
            "margin": null,
            "max_height": null,
            "max_width": null,
            "min_height": null,
            "min_width": null,
            "object_fit": null,
            "object_position": null,
            "order": null,
            "overflow": null,
            "overflow_x": null,
            "overflow_y": null,
            "padding": null,
            "right": null,
            "top": null,
            "visibility": null,
            "width": null
          }
        },
        "e18a3f8e337d419498ef73ff4a6026fc": {
          "model_module": "@jupyter-widgets/controls",
          "model_name": "DescriptionStyleModel",
          "model_module_version": "1.5.0",
          "state": {
            "_model_module": "@jupyter-widgets/controls",
            "_model_module_version": "1.5.0",
            "_model_name": "DescriptionStyleModel",
            "_view_count": null,
            "_view_module": "@jupyter-widgets/base",
            "_view_module_version": "1.2.0",
            "_view_name": "StyleView",
            "description_width": ""
          }
        },
        "32fb8b071915464890a63609ea5d1884": {
          "model_module": "@jupyter-widgets/base",
          "model_name": "LayoutModel",
          "model_module_version": "1.2.0",
          "state": {
            "_model_module": "@jupyter-widgets/base",
            "_model_module_version": "1.2.0",
            "_model_name": "LayoutModel",
            "_view_count": null,
            "_view_module": "@jupyter-widgets/base",
            "_view_module_version": "1.2.0",
            "_view_name": "LayoutView",
            "align_content": null,
            "align_items": null,
            "align_self": null,
            "border": null,
            "bottom": null,
            "display": null,
            "flex": "2",
            "flex_flow": null,
            "grid_area": null,
            "grid_auto_columns": null,
            "grid_auto_flow": null,
            "grid_auto_rows": null,
            "grid_column": null,
            "grid_gap": null,
            "grid_row": null,
            "grid_template_areas": null,
            "grid_template_columns": null,
            "grid_template_rows": null,
            "height": null,
            "justify_content": null,
            "justify_items": null,
            "left": null,
            "margin": null,
            "max_height": null,
            "max_width": null,
            "min_height": null,
            "min_width": null,
            "object_fit": null,
            "object_position": null,
            "order": null,
            "overflow": null,
            "overflow_x": null,
            "overflow_y": null,
            "padding": null,
            "right": null,
            "top": null,
            "visibility": null,
            "width": null
          }
        },
        "fb0c2d4231454b738413c0a900bc2395": {
          "model_module": "@jupyter-widgets/controls",
          "model_name": "ProgressStyleModel",
          "model_module_version": "1.5.0",
          "state": {
            "_model_module": "@jupyter-widgets/controls",
            "_model_module_version": "1.5.0",
            "_model_name": "ProgressStyleModel",
            "_view_count": null,
            "_view_module": "@jupyter-widgets/base",
            "_view_module_version": "1.2.0",
            "_view_name": "StyleView",
            "bar_color": null,
            "description_width": ""
          }
        },
        "62a31805ae77473a97b0509f0275226a": {
          "model_module": "@jupyter-widgets/base",
          "model_name": "LayoutModel",
          "model_module_version": "1.2.0",
          "state": {
            "_model_module": "@jupyter-widgets/base",
            "_model_module_version": "1.2.0",
            "_model_name": "LayoutModel",
            "_view_count": null,
            "_view_module": "@jupyter-widgets/base",
            "_view_module_version": "1.2.0",
            "_view_name": "LayoutView",
            "align_content": null,
            "align_items": null,
            "align_self": null,
            "border": null,
            "bottom": null,
            "display": null,
            "flex": null,
            "flex_flow": null,
            "grid_area": null,
            "grid_auto_columns": null,
            "grid_auto_flow": null,
            "grid_auto_rows": null,
            "grid_column": null,
            "grid_gap": null,
            "grid_row": null,
            "grid_template_areas": null,
            "grid_template_columns": null,
            "grid_template_rows": null,
            "height": null,
            "justify_content": null,
            "justify_items": null,
            "left": null,
            "margin": null,
            "max_height": null,
            "max_width": null,
            "min_height": null,
            "min_width": null,
            "object_fit": null,
            "object_position": null,
            "order": null,
            "overflow": null,
            "overflow_x": null,
            "overflow_y": null,
            "padding": null,
            "right": null,
            "top": null,
            "visibility": null,
            "width": null
          }
        },
        "7ffe9cfeb7e2454c829694732d072bbf": {
          "model_module": "@jupyter-widgets/controls",
          "model_name": "DescriptionStyleModel",
          "model_module_version": "1.5.0",
          "state": {
            "_model_module": "@jupyter-widgets/controls",
            "_model_module_version": "1.5.0",
            "_model_name": "DescriptionStyleModel",
            "_view_count": null,
            "_view_module": "@jupyter-widgets/base",
            "_view_module_version": "1.2.0",
            "_view_name": "StyleView",
            "description_width": ""
          }
        },
        "81c398fee0764eafbbdb0da9ae73c56b": {
          "model_module": "@jupyter-widgets/controls",
          "model_name": "HBoxModel",
          "model_module_version": "1.5.0",
          "state": {
            "_dom_classes": [],
            "_model_module": "@jupyter-widgets/controls",
            "_model_module_version": "1.5.0",
            "_model_name": "HBoxModel",
            "_view_count": null,
            "_view_module": "@jupyter-widgets/controls",
            "_view_module_version": "1.5.0",
            "_view_name": "HBoxView",
            "box_style": "",
            "children": [
              "IPY_MODEL_27cbd5fa838b4a968ab7da9ab3c5424f",
              "IPY_MODEL_a4d93d9393694be2b29c14da92a80019",
              "IPY_MODEL_3205f75edd994703b5fca9eab5e356d6"
            ],
            "layout": "IPY_MODEL_fe906d4f787d4be99b9d517ce2e3c0a7"
          }
        },
        "27cbd5fa838b4a968ab7da9ab3c5424f": {
          "model_module": "@jupyter-widgets/controls",
          "model_name": "HTMLModel",
          "model_module_version": "1.5.0",
          "state": {
            "_dom_classes": [],
            "_model_module": "@jupyter-widgets/controls",
            "_model_module_version": "1.5.0",
            "_model_name": "HTMLModel",
            "_view_count": null,
            "_view_module": "@jupyter-widgets/controls",
            "_view_module_version": "1.5.0",
            "_view_name": "HTMLView",
            "description": "",
            "description_tooltip": null,
            "layout": "IPY_MODEL_13e6898152314e3faf30d34ad561429c",
            "placeholder": "​",
            "style": "IPY_MODEL_dfac1d6cc3f5431fa03050d3798fff76",
            "value": "Validation DataLoader 0: 100%"
          }
        },
        "a4d93d9393694be2b29c14da92a80019": {
          "model_module": "@jupyter-widgets/controls",
          "model_name": "FloatProgressModel",
          "model_module_version": "1.5.0",
          "state": {
            "_dom_classes": [],
            "_model_module": "@jupyter-widgets/controls",
            "_model_module_version": "1.5.0",
            "_model_name": "FloatProgressModel",
            "_view_count": null,
            "_view_module": "@jupyter-widgets/controls",
            "_view_module_version": "1.5.0",
            "_view_name": "ProgressView",
            "bar_style": "",
            "description": "",
            "description_tooltip": null,
            "layout": "IPY_MODEL_0a3ada043e6b47569c02663bed9068fe",
            "max": 1,
            "min": 0,
            "orientation": "horizontal",
            "style": "IPY_MODEL_0b12ef3b79b14d73ad5705d9ed39457f",
            "value": 1
          }
        },
        "3205f75edd994703b5fca9eab5e356d6": {
          "model_module": "@jupyter-widgets/controls",
          "model_name": "HTMLModel",
          "model_module_version": "1.5.0",
          "state": {
            "_dom_classes": [],
            "_model_module": "@jupyter-widgets/controls",
            "_model_module_version": "1.5.0",
            "_model_name": "HTMLModel",
            "_view_count": null,
            "_view_module": "@jupyter-widgets/controls",
            "_view_module_version": "1.5.0",
            "_view_name": "HTMLView",
            "description": "",
            "description_tooltip": null,
            "layout": "IPY_MODEL_d2a7c95d17cc4f47b60326e4b25865b3",
            "placeholder": "​",
            "style": "IPY_MODEL_56cbdf8a46b649789eeb1d31ee9d416b",
            "value": " 313/313 [00:00&lt;00:00, 369.22it/s]"
          }
        },
        "fe906d4f787d4be99b9d517ce2e3c0a7": {
          "model_module": "@jupyter-widgets/base",
          "model_name": "LayoutModel",
          "model_module_version": "1.2.0",
          "state": {
            "_model_module": "@jupyter-widgets/base",
            "_model_module_version": "1.2.0",
            "_model_name": "LayoutModel",
            "_view_count": null,
            "_view_module": "@jupyter-widgets/base",
            "_view_module_version": "1.2.0",
            "_view_name": "LayoutView",
            "align_content": null,
            "align_items": null,
            "align_self": null,
            "border": null,
            "bottom": null,
            "display": "inline-flex",
            "flex": null,
            "flex_flow": "row wrap",
            "grid_area": null,
            "grid_auto_columns": null,
            "grid_auto_flow": null,
            "grid_auto_rows": null,
            "grid_column": null,
            "grid_gap": null,
            "grid_row": null,
            "grid_template_areas": null,
            "grid_template_columns": null,
            "grid_template_rows": null,
            "height": null,
            "justify_content": null,
            "justify_items": null,
            "left": null,
            "margin": null,
            "max_height": null,
            "max_width": null,
            "min_height": null,
            "min_width": null,
            "object_fit": null,
            "object_position": null,
            "order": null,
            "overflow": null,
            "overflow_x": null,
            "overflow_y": null,
            "padding": null,
            "right": null,
            "top": null,
            "visibility": "hidden",
            "width": "100%"
          }
        },
        "13e6898152314e3faf30d34ad561429c": {
          "model_module": "@jupyter-widgets/base",
          "model_name": "LayoutModel",
          "model_module_version": "1.2.0",
          "state": {
            "_model_module": "@jupyter-widgets/base",
            "_model_module_version": "1.2.0",
            "_model_name": "LayoutModel",
            "_view_count": null,
            "_view_module": "@jupyter-widgets/base",
            "_view_module_version": "1.2.0",
            "_view_name": "LayoutView",
            "align_content": null,
            "align_items": null,
            "align_self": null,
            "border": null,
            "bottom": null,
            "display": null,
            "flex": null,
            "flex_flow": null,
            "grid_area": null,
            "grid_auto_columns": null,
            "grid_auto_flow": null,
            "grid_auto_rows": null,
            "grid_column": null,
            "grid_gap": null,
            "grid_row": null,
            "grid_template_areas": null,
            "grid_template_columns": null,
            "grid_template_rows": null,
            "height": null,
            "justify_content": null,
            "justify_items": null,
            "left": null,
            "margin": null,
            "max_height": null,
            "max_width": null,
            "min_height": null,
            "min_width": null,
            "object_fit": null,
            "object_position": null,
            "order": null,
            "overflow": null,
            "overflow_x": null,
            "overflow_y": null,
            "padding": null,
            "right": null,
            "top": null,
            "visibility": null,
            "width": null
          }
        },
        "dfac1d6cc3f5431fa03050d3798fff76": {
          "model_module": "@jupyter-widgets/controls",
          "model_name": "DescriptionStyleModel",
          "model_module_version": "1.5.0",
          "state": {
            "_model_module": "@jupyter-widgets/controls",
            "_model_module_version": "1.5.0",
            "_model_name": "DescriptionStyleModel",
            "_view_count": null,
            "_view_module": "@jupyter-widgets/base",
            "_view_module_version": "1.2.0",
            "_view_name": "StyleView",
            "description_width": ""
          }
        },
        "0a3ada043e6b47569c02663bed9068fe": {
          "model_module": "@jupyter-widgets/base",
          "model_name": "LayoutModel",
          "model_module_version": "1.2.0",
          "state": {
            "_model_module": "@jupyter-widgets/base",
            "_model_module_version": "1.2.0",
            "_model_name": "LayoutModel",
            "_view_count": null,
            "_view_module": "@jupyter-widgets/base",
            "_view_module_version": "1.2.0",
            "_view_name": "LayoutView",
            "align_content": null,
            "align_items": null,
            "align_self": null,
            "border": null,
            "bottom": null,
            "display": null,
            "flex": "2",
            "flex_flow": null,
            "grid_area": null,
            "grid_auto_columns": null,
            "grid_auto_flow": null,
            "grid_auto_rows": null,
            "grid_column": null,
            "grid_gap": null,
            "grid_row": null,
            "grid_template_areas": null,
            "grid_template_columns": null,
            "grid_template_rows": null,
            "height": null,
            "justify_content": null,
            "justify_items": null,
            "left": null,
            "margin": null,
            "max_height": null,
            "max_width": null,
            "min_height": null,
            "min_width": null,
            "object_fit": null,
            "object_position": null,
            "order": null,
            "overflow": null,
            "overflow_x": null,
            "overflow_y": null,
            "padding": null,
            "right": null,
            "top": null,
            "visibility": null,
            "width": null
          }
        },
        "0b12ef3b79b14d73ad5705d9ed39457f": {
          "model_module": "@jupyter-widgets/controls",
          "model_name": "ProgressStyleModel",
          "model_module_version": "1.5.0",
          "state": {
            "_model_module": "@jupyter-widgets/controls",
            "_model_module_version": "1.5.0",
            "_model_name": "ProgressStyleModel",
            "_view_count": null,
            "_view_module": "@jupyter-widgets/base",
            "_view_module_version": "1.2.0",
            "_view_name": "StyleView",
            "bar_color": null,
            "description_width": ""
          }
        },
        "d2a7c95d17cc4f47b60326e4b25865b3": {
          "model_module": "@jupyter-widgets/base",
          "model_name": "LayoutModel",
          "model_module_version": "1.2.0",
          "state": {
            "_model_module": "@jupyter-widgets/base",
            "_model_module_version": "1.2.0",
            "_model_name": "LayoutModel",
            "_view_count": null,
            "_view_module": "@jupyter-widgets/base",
            "_view_module_version": "1.2.0",
            "_view_name": "LayoutView",
            "align_content": null,
            "align_items": null,
            "align_self": null,
            "border": null,
            "bottom": null,
            "display": null,
            "flex": null,
            "flex_flow": null,
            "grid_area": null,
            "grid_auto_columns": null,
            "grid_auto_flow": null,
            "grid_auto_rows": null,
            "grid_column": null,
            "grid_gap": null,
            "grid_row": null,
            "grid_template_areas": null,
            "grid_template_columns": null,
            "grid_template_rows": null,
            "height": null,
            "justify_content": null,
            "justify_items": null,
            "left": null,
            "margin": null,
            "max_height": null,
            "max_width": null,
            "min_height": null,
            "min_width": null,
            "object_fit": null,
            "object_position": null,
            "order": null,
            "overflow": null,
            "overflow_x": null,
            "overflow_y": null,
            "padding": null,
            "right": null,
            "top": null,
            "visibility": null,
            "width": null
          }
        },
        "56cbdf8a46b649789eeb1d31ee9d416b": {
          "model_module": "@jupyter-widgets/controls",
          "model_name": "DescriptionStyleModel",
          "model_module_version": "1.5.0",
          "state": {
            "_model_module": "@jupyter-widgets/controls",
            "_model_module_version": "1.5.0",
            "_model_name": "DescriptionStyleModel",
            "_view_count": null,
            "_view_module": "@jupyter-widgets/base",
            "_view_module_version": "1.2.0",
            "_view_name": "StyleView",
            "description_width": ""
          }
        },
        "684d2809c29e4762be6902eb1d297898": {
          "model_module": "@jupyter-widgets/controls",
          "model_name": "HBoxModel",
          "model_module_version": "1.5.0",
          "state": {
            "_dom_classes": [],
            "_model_module": "@jupyter-widgets/controls",
            "_model_module_version": "1.5.0",
            "_model_name": "HBoxModel",
            "_view_count": null,
            "_view_module": "@jupyter-widgets/controls",
            "_view_module_version": "1.5.0",
            "_view_name": "HBoxView",
            "box_style": "",
            "children": [
              "IPY_MODEL_bedcb4e2df924a6cac76649c3358038d",
              "IPY_MODEL_780cfa0a452e4b44809ddd3a9231fdd0",
              "IPY_MODEL_f69d08fddc664079a063d98b9c8455c6"
            ],
            "layout": "IPY_MODEL_abc401d1ec1b4ce88d6f8879575267d3"
          }
        },
        "bedcb4e2df924a6cac76649c3358038d": {
          "model_module": "@jupyter-widgets/controls",
          "model_name": "HTMLModel",
          "model_module_version": "1.5.0",
          "state": {
            "_dom_classes": [],
            "_model_module": "@jupyter-widgets/controls",
            "_model_module_version": "1.5.0",
            "_model_name": "HTMLModel",
            "_view_count": null,
            "_view_module": "@jupyter-widgets/controls",
            "_view_module_version": "1.5.0",
            "_view_name": "HTMLView",
            "description": "",
            "description_tooltip": null,
            "layout": "IPY_MODEL_f665fc052f72467f9eecbf2122dede5e",
            "placeholder": "​",
            "style": "IPY_MODEL_3a9583c9c7cf497494b547e7b939aa8e",
            "value": "Validation DataLoader 0: 100%"
          }
        },
        "780cfa0a452e4b44809ddd3a9231fdd0": {
          "model_module": "@jupyter-widgets/controls",
          "model_name": "FloatProgressModel",
          "model_module_version": "1.5.0",
          "state": {
            "_dom_classes": [],
            "_model_module": "@jupyter-widgets/controls",
            "_model_module_version": "1.5.0",
            "_model_name": "FloatProgressModel",
            "_view_count": null,
            "_view_module": "@jupyter-widgets/controls",
            "_view_module_version": "1.5.0",
            "_view_name": "ProgressView",
            "bar_style": "",
            "description": "",
            "description_tooltip": null,
            "layout": "IPY_MODEL_2a4355e3f3bb49d38406ff88c5a99af2",
            "max": 1,
            "min": 0,
            "orientation": "horizontal",
            "style": "IPY_MODEL_8a14009cb762412c9e6deb1535b8184a",
            "value": 1
          }
        },
        "f69d08fddc664079a063d98b9c8455c6": {
          "model_module": "@jupyter-widgets/controls",
          "model_name": "HTMLModel",
          "model_module_version": "1.5.0",
          "state": {
            "_dom_classes": [],
            "_model_module": "@jupyter-widgets/controls",
            "_model_module_version": "1.5.0",
            "_model_name": "HTMLModel",
            "_view_count": null,
            "_view_module": "@jupyter-widgets/controls",
            "_view_module_version": "1.5.0",
            "_view_name": "HTMLView",
            "description": "",
            "description_tooltip": null,
            "layout": "IPY_MODEL_15739800939e46768389f0b9c03411c5",
            "placeholder": "​",
            "style": "IPY_MODEL_6b4d2c5cad544da9afe5b2268a6ac26e",
            "value": " 313/313 [00:00&lt;00:00, 484.24it/s]"
          }
        },
        "abc401d1ec1b4ce88d6f8879575267d3": {
          "model_module": "@jupyter-widgets/base",
          "model_name": "LayoutModel",
          "model_module_version": "1.2.0",
          "state": {
            "_model_module": "@jupyter-widgets/base",
            "_model_module_version": "1.2.0",
            "_model_name": "LayoutModel",
            "_view_count": null,
            "_view_module": "@jupyter-widgets/base",
            "_view_module_version": "1.2.0",
            "_view_name": "LayoutView",
            "align_content": null,
            "align_items": null,
            "align_self": null,
            "border": null,
            "bottom": null,
            "display": "inline-flex",
            "flex": null,
            "flex_flow": "row wrap",
            "grid_area": null,
            "grid_auto_columns": null,
            "grid_auto_flow": null,
            "grid_auto_rows": null,
            "grid_column": null,
            "grid_gap": null,
            "grid_row": null,
            "grid_template_areas": null,
            "grid_template_columns": null,
            "grid_template_rows": null,
            "height": null,
            "justify_content": null,
            "justify_items": null,
            "left": null,
            "margin": null,
            "max_height": null,
            "max_width": null,
            "min_height": null,
            "min_width": null,
            "object_fit": null,
            "object_position": null,
            "order": null,
            "overflow": null,
            "overflow_x": null,
            "overflow_y": null,
            "padding": null,
            "right": null,
            "top": null,
            "visibility": "hidden",
            "width": "100%"
          }
        },
        "f665fc052f72467f9eecbf2122dede5e": {
          "model_module": "@jupyter-widgets/base",
          "model_name": "LayoutModel",
          "model_module_version": "1.2.0",
          "state": {
            "_model_module": "@jupyter-widgets/base",
            "_model_module_version": "1.2.0",
            "_model_name": "LayoutModel",
            "_view_count": null,
            "_view_module": "@jupyter-widgets/base",
            "_view_module_version": "1.2.0",
            "_view_name": "LayoutView",
            "align_content": null,
            "align_items": null,
            "align_self": null,
            "border": null,
            "bottom": null,
            "display": null,
            "flex": null,
            "flex_flow": null,
            "grid_area": null,
            "grid_auto_columns": null,
            "grid_auto_flow": null,
            "grid_auto_rows": null,
            "grid_column": null,
            "grid_gap": null,
            "grid_row": null,
            "grid_template_areas": null,
            "grid_template_columns": null,
            "grid_template_rows": null,
            "height": null,
            "justify_content": null,
            "justify_items": null,
            "left": null,
            "margin": null,
            "max_height": null,
            "max_width": null,
            "min_height": null,
            "min_width": null,
            "object_fit": null,
            "object_position": null,
            "order": null,
            "overflow": null,
            "overflow_x": null,
            "overflow_y": null,
            "padding": null,
            "right": null,
            "top": null,
            "visibility": null,
            "width": null
          }
        },
        "3a9583c9c7cf497494b547e7b939aa8e": {
          "model_module": "@jupyter-widgets/controls",
          "model_name": "DescriptionStyleModel",
          "model_module_version": "1.5.0",
          "state": {
            "_model_module": "@jupyter-widgets/controls",
            "_model_module_version": "1.5.0",
            "_model_name": "DescriptionStyleModel",
            "_view_count": null,
            "_view_module": "@jupyter-widgets/base",
            "_view_module_version": "1.2.0",
            "_view_name": "StyleView",
            "description_width": ""
          }
        },
        "2a4355e3f3bb49d38406ff88c5a99af2": {
          "model_module": "@jupyter-widgets/base",
          "model_name": "LayoutModel",
          "model_module_version": "1.2.0",
          "state": {
            "_model_module": "@jupyter-widgets/base",
            "_model_module_version": "1.2.0",
            "_model_name": "LayoutModel",
            "_view_count": null,
            "_view_module": "@jupyter-widgets/base",
            "_view_module_version": "1.2.0",
            "_view_name": "LayoutView",
            "align_content": null,
            "align_items": null,
            "align_self": null,
            "border": null,
            "bottom": null,
            "display": null,
            "flex": "2",
            "flex_flow": null,
            "grid_area": null,
            "grid_auto_columns": null,
            "grid_auto_flow": null,
            "grid_auto_rows": null,
            "grid_column": null,
            "grid_gap": null,
            "grid_row": null,
            "grid_template_areas": null,
            "grid_template_columns": null,
            "grid_template_rows": null,
            "height": null,
            "justify_content": null,
            "justify_items": null,
            "left": null,
            "margin": null,
            "max_height": null,
            "max_width": null,
            "min_height": null,
            "min_width": null,
            "object_fit": null,
            "object_position": null,
            "order": null,
            "overflow": null,
            "overflow_x": null,
            "overflow_y": null,
            "padding": null,
            "right": null,
            "top": null,
            "visibility": null,
            "width": null
          }
        },
        "8a14009cb762412c9e6deb1535b8184a": {
          "model_module": "@jupyter-widgets/controls",
          "model_name": "ProgressStyleModel",
          "model_module_version": "1.5.0",
          "state": {
            "_model_module": "@jupyter-widgets/controls",
            "_model_module_version": "1.5.0",
            "_model_name": "ProgressStyleModel",
            "_view_count": null,
            "_view_module": "@jupyter-widgets/base",
            "_view_module_version": "1.2.0",
            "_view_name": "StyleView",
            "bar_color": null,
            "description_width": ""
          }
        },
        "15739800939e46768389f0b9c03411c5": {
          "model_module": "@jupyter-widgets/base",
          "model_name": "LayoutModel",
          "model_module_version": "1.2.0",
          "state": {
            "_model_module": "@jupyter-widgets/base",
            "_model_module_version": "1.2.0",
            "_model_name": "LayoutModel",
            "_view_count": null,
            "_view_module": "@jupyter-widgets/base",
            "_view_module_version": "1.2.0",
            "_view_name": "LayoutView",
            "align_content": null,
            "align_items": null,
            "align_self": null,
            "border": null,
            "bottom": null,
            "display": null,
            "flex": null,
            "flex_flow": null,
            "grid_area": null,
            "grid_auto_columns": null,
            "grid_auto_flow": null,
            "grid_auto_rows": null,
            "grid_column": null,
            "grid_gap": null,
            "grid_row": null,
            "grid_template_areas": null,
            "grid_template_columns": null,
            "grid_template_rows": null,
            "height": null,
            "justify_content": null,
            "justify_items": null,
            "left": null,
            "margin": null,
            "max_height": null,
            "max_width": null,
            "min_height": null,
            "min_width": null,
            "object_fit": null,
            "object_position": null,
            "order": null,
            "overflow": null,
            "overflow_x": null,
            "overflow_y": null,
            "padding": null,
            "right": null,
            "top": null,
            "visibility": null,
            "width": null
          }
        },
        "6b4d2c5cad544da9afe5b2268a6ac26e": {
          "model_module": "@jupyter-widgets/controls",
          "model_name": "DescriptionStyleModel",
          "model_module_version": "1.5.0",
          "state": {
            "_model_module": "@jupyter-widgets/controls",
            "_model_module_version": "1.5.0",
            "_model_name": "DescriptionStyleModel",
            "_view_count": null,
            "_view_module": "@jupyter-widgets/base",
            "_view_module_version": "1.2.0",
            "_view_name": "StyleView",
            "description_width": ""
          }
        },
        "94063b8ab8cd44e9ac5616bdb5e8eaff": {
          "model_module": "@jupyter-widgets/controls",
          "model_name": "HBoxModel",
          "model_module_version": "1.5.0",
          "state": {
            "_dom_classes": [],
            "_model_module": "@jupyter-widgets/controls",
            "_model_module_version": "1.5.0",
            "_model_name": "HBoxModel",
            "_view_count": null,
            "_view_module": "@jupyter-widgets/controls",
            "_view_module_version": "1.5.0",
            "_view_name": "HBoxView",
            "box_style": "",
            "children": [
              "IPY_MODEL_a64809cf23b847d7b5c2c6ea5b5d9211",
              "IPY_MODEL_2b8fde294f5a45faa806e54070ac8e83",
              "IPY_MODEL_1e2519d9716745ef9fb835cf2284d1b6"
            ],
            "layout": "IPY_MODEL_3c96ec4b92bb4503a3233a98c5021fd0"
          }
        },
        "a64809cf23b847d7b5c2c6ea5b5d9211": {
          "model_module": "@jupyter-widgets/controls",
          "model_name": "HTMLModel",
          "model_module_version": "1.5.0",
          "state": {
            "_dom_classes": [],
            "_model_module": "@jupyter-widgets/controls",
            "_model_module_version": "1.5.0",
            "_model_name": "HTMLModel",
            "_view_count": null,
            "_view_module": "@jupyter-widgets/controls",
            "_view_module_version": "1.5.0",
            "_view_name": "HTMLView",
            "description": "",
            "description_tooltip": null,
            "layout": "IPY_MODEL_0698f27f4b6945fab09f452761670c1f",
            "placeholder": "​",
            "style": "IPY_MODEL_cbcac9a547d64e8c834594568e361770",
            "value": "Validation DataLoader 0: 100%"
          }
        },
        "2b8fde294f5a45faa806e54070ac8e83": {
          "model_module": "@jupyter-widgets/controls",
          "model_name": "FloatProgressModel",
          "model_module_version": "1.5.0",
          "state": {
            "_dom_classes": [],
            "_model_module": "@jupyter-widgets/controls",
            "_model_module_version": "1.5.0",
            "_model_name": "FloatProgressModel",
            "_view_count": null,
            "_view_module": "@jupyter-widgets/controls",
            "_view_module_version": "1.5.0",
            "_view_name": "ProgressView",
            "bar_style": "",
            "description": "",
            "description_tooltip": null,
            "layout": "IPY_MODEL_b2e2dbbe66844d86814f4e56cf91c1f2",
            "max": 1,
            "min": 0,
            "orientation": "horizontal",
            "style": "IPY_MODEL_014e261c828a41c1aaa63726180c3c94",
            "value": 1
          }
        },
        "1e2519d9716745ef9fb835cf2284d1b6": {
          "model_module": "@jupyter-widgets/controls",
          "model_name": "HTMLModel",
          "model_module_version": "1.5.0",
          "state": {
            "_dom_classes": [],
            "_model_module": "@jupyter-widgets/controls",
            "_model_module_version": "1.5.0",
            "_model_name": "HTMLModel",
            "_view_count": null,
            "_view_module": "@jupyter-widgets/controls",
            "_view_module_version": "1.5.0",
            "_view_name": "HTMLView",
            "description": "",
            "description_tooltip": null,
            "layout": "IPY_MODEL_089bd4406871467fb8ef6646ed73047f",
            "placeholder": "​",
            "style": "IPY_MODEL_b2764a67af5844eea293e215347fba07",
            "value": " 313/313 [00:00&lt;00:00, 483.46it/s]"
          }
        },
        "3c96ec4b92bb4503a3233a98c5021fd0": {
          "model_module": "@jupyter-widgets/base",
          "model_name": "LayoutModel",
          "model_module_version": "1.2.0",
          "state": {
            "_model_module": "@jupyter-widgets/base",
            "_model_module_version": "1.2.0",
            "_model_name": "LayoutModel",
            "_view_count": null,
            "_view_module": "@jupyter-widgets/base",
            "_view_module_version": "1.2.0",
            "_view_name": "LayoutView",
            "align_content": null,
            "align_items": null,
            "align_self": null,
            "border": null,
            "bottom": null,
            "display": "inline-flex",
            "flex": null,
            "flex_flow": "row wrap",
            "grid_area": null,
            "grid_auto_columns": null,
            "grid_auto_flow": null,
            "grid_auto_rows": null,
            "grid_column": null,
            "grid_gap": null,
            "grid_row": null,
            "grid_template_areas": null,
            "grid_template_columns": null,
            "grid_template_rows": null,
            "height": null,
            "justify_content": null,
            "justify_items": null,
            "left": null,
            "margin": null,
            "max_height": null,
            "max_width": null,
            "min_height": null,
            "min_width": null,
            "object_fit": null,
            "object_position": null,
            "order": null,
            "overflow": null,
            "overflow_x": null,
            "overflow_y": null,
            "padding": null,
            "right": null,
            "top": null,
            "visibility": "hidden",
            "width": "100%"
          }
        },
        "0698f27f4b6945fab09f452761670c1f": {
          "model_module": "@jupyter-widgets/base",
          "model_name": "LayoutModel",
          "model_module_version": "1.2.0",
          "state": {
            "_model_module": "@jupyter-widgets/base",
            "_model_module_version": "1.2.0",
            "_model_name": "LayoutModel",
            "_view_count": null,
            "_view_module": "@jupyter-widgets/base",
            "_view_module_version": "1.2.0",
            "_view_name": "LayoutView",
            "align_content": null,
            "align_items": null,
            "align_self": null,
            "border": null,
            "bottom": null,
            "display": null,
            "flex": null,
            "flex_flow": null,
            "grid_area": null,
            "grid_auto_columns": null,
            "grid_auto_flow": null,
            "grid_auto_rows": null,
            "grid_column": null,
            "grid_gap": null,
            "grid_row": null,
            "grid_template_areas": null,
            "grid_template_columns": null,
            "grid_template_rows": null,
            "height": null,
            "justify_content": null,
            "justify_items": null,
            "left": null,
            "margin": null,
            "max_height": null,
            "max_width": null,
            "min_height": null,
            "min_width": null,
            "object_fit": null,
            "object_position": null,
            "order": null,
            "overflow": null,
            "overflow_x": null,
            "overflow_y": null,
            "padding": null,
            "right": null,
            "top": null,
            "visibility": null,
            "width": null
          }
        },
        "cbcac9a547d64e8c834594568e361770": {
          "model_module": "@jupyter-widgets/controls",
          "model_name": "DescriptionStyleModel",
          "model_module_version": "1.5.0",
          "state": {
            "_model_module": "@jupyter-widgets/controls",
            "_model_module_version": "1.5.0",
            "_model_name": "DescriptionStyleModel",
            "_view_count": null,
            "_view_module": "@jupyter-widgets/base",
            "_view_module_version": "1.2.0",
            "_view_name": "StyleView",
            "description_width": ""
          }
        },
        "b2e2dbbe66844d86814f4e56cf91c1f2": {
          "model_module": "@jupyter-widgets/base",
          "model_name": "LayoutModel",
          "model_module_version": "1.2.0",
          "state": {
            "_model_module": "@jupyter-widgets/base",
            "_model_module_version": "1.2.0",
            "_model_name": "LayoutModel",
            "_view_count": null,
            "_view_module": "@jupyter-widgets/base",
            "_view_module_version": "1.2.0",
            "_view_name": "LayoutView",
            "align_content": null,
            "align_items": null,
            "align_self": null,
            "border": null,
            "bottom": null,
            "display": null,
            "flex": "2",
            "flex_flow": null,
            "grid_area": null,
            "grid_auto_columns": null,
            "grid_auto_flow": null,
            "grid_auto_rows": null,
            "grid_column": null,
            "grid_gap": null,
            "grid_row": null,
            "grid_template_areas": null,
            "grid_template_columns": null,
            "grid_template_rows": null,
            "height": null,
            "justify_content": null,
            "justify_items": null,
            "left": null,
            "margin": null,
            "max_height": null,
            "max_width": null,
            "min_height": null,
            "min_width": null,
            "object_fit": null,
            "object_position": null,
            "order": null,
            "overflow": null,
            "overflow_x": null,
            "overflow_y": null,
            "padding": null,
            "right": null,
            "top": null,
            "visibility": null,
            "width": null
          }
        },
        "014e261c828a41c1aaa63726180c3c94": {
          "model_module": "@jupyter-widgets/controls",
          "model_name": "ProgressStyleModel",
          "model_module_version": "1.5.0",
          "state": {
            "_model_module": "@jupyter-widgets/controls",
            "_model_module_version": "1.5.0",
            "_model_name": "ProgressStyleModel",
            "_view_count": null,
            "_view_module": "@jupyter-widgets/base",
            "_view_module_version": "1.2.0",
            "_view_name": "StyleView",
            "bar_color": null,
            "description_width": ""
          }
        },
        "089bd4406871467fb8ef6646ed73047f": {
          "model_module": "@jupyter-widgets/base",
          "model_name": "LayoutModel",
          "model_module_version": "1.2.0",
          "state": {
            "_model_module": "@jupyter-widgets/base",
            "_model_module_version": "1.2.0",
            "_model_name": "LayoutModel",
            "_view_count": null,
            "_view_module": "@jupyter-widgets/base",
            "_view_module_version": "1.2.0",
            "_view_name": "LayoutView",
            "align_content": null,
            "align_items": null,
            "align_self": null,
            "border": null,
            "bottom": null,
            "display": null,
            "flex": null,
            "flex_flow": null,
            "grid_area": null,
            "grid_auto_columns": null,
            "grid_auto_flow": null,
            "grid_auto_rows": null,
            "grid_column": null,
            "grid_gap": null,
            "grid_row": null,
            "grid_template_areas": null,
            "grid_template_columns": null,
            "grid_template_rows": null,
            "height": null,
            "justify_content": null,
            "justify_items": null,
            "left": null,
            "margin": null,
            "max_height": null,
            "max_width": null,
            "min_height": null,
            "min_width": null,
            "object_fit": null,
            "object_position": null,
            "order": null,
            "overflow": null,
            "overflow_x": null,
            "overflow_y": null,
            "padding": null,
            "right": null,
            "top": null,
            "visibility": null,
            "width": null
          }
        },
        "b2764a67af5844eea293e215347fba07": {
          "model_module": "@jupyter-widgets/controls",
          "model_name": "DescriptionStyleModel",
          "model_module_version": "1.5.0",
          "state": {
            "_model_module": "@jupyter-widgets/controls",
            "_model_module_version": "1.5.0",
            "_model_name": "DescriptionStyleModel",
            "_view_count": null,
            "_view_module": "@jupyter-widgets/base",
            "_view_module_version": "1.2.0",
            "_view_name": "StyleView",
            "description_width": ""
          }
        },
        "042dd5830df242f2b3a18acec1070f1f": {
          "model_module": "@jupyter-widgets/controls",
          "model_name": "HBoxModel",
          "model_module_version": "1.5.0",
          "state": {
            "_dom_classes": [],
            "_model_module": "@jupyter-widgets/controls",
            "_model_module_version": "1.5.0",
            "_model_name": "HBoxModel",
            "_view_count": null,
            "_view_module": "@jupyter-widgets/controls",
            "_view_module_version": "1.5.0",
            "_view_name": "HBoxView",
            "box_style": "",
            "children": [
              "IPY_MODEL_5364b34739764770a504d9b99ff3208b",
              "IPY_MODEL_b741201f976345e4897f89ef848489c8",
              "IPY_MODEL_4324fc1708604b3681eba7c9cf4c9f37"
            ],
            "layout": "IPY_MODEL_7acd0493f6764f7f9670e8a62f570eba"
          }
        },
        "5364b34739764770a504d9b99ff3208b": {
          "model_module": "@jupyter-widgets/controls",
          "model_name": "HTMLModel",
          "model_module_version": "1.5.0",
          "state": {
            "_dom_classes": [],
            "_model_module": "@jupyter-widgets/controls",
            "_model_module_version": "1.5.0",
            "_model_name": "HTMLModel",
            "_view_count": null,
            "_view_module": "@jupyter-widgets/controls",
            "_view_module_version": "1.5.0",
            "_view_name": "HTMLView",
            "description": "",
            "description_tooltip": null,
            "layout": "IPY_MODEL_be5855bfa0fe439ca4e25de1afa06652",
            "placeholder": "​",
            "style": "IPY_MODEL_07cf22a37b5c448aa75d574447d1281d",
            "value": "Validation DataLoader 0: 100%"
          }
        },
        "b741201f976345e4897f89ef848489c8": {
          "model_module": "@jupyter-widgets/controls",
          "model_name": "FloatProgressModel",
          "model_module_version": "1.5.0",
          "state": {
            "_dom_classes": [],
            "_model_module": "@jupyter-widgets/controls",
            "_model_module_version": "1.5.0",
            "_model_name": "FloatProgressModel",
            "_view_count": null,
            "_view_module": "@jupyter-widgets/controls",
            "_view_module_version": "1.5.0",
            "_view_name": "ProgressView",
            "bar_style": "",
            "description": "",
            "description_tooltip": null,
            "layout": "IPY_MODEL_dea64d0178e64f82a2d241a8daac9676",
            "max": 1,
            "min": 0,
            "orientation": "horizontal",
            "style": "IPY_MODEL_4b4404835eb742b58865d4b6b6648401",
            "value": 1
          }
        },
        "4324fc1708604b3681eba7c9cf4c9f37": {
          "model_module": "@jupyter-widgets/controls",
          "model_name": "HTMLModel",
          "model_module_version": "1.5.0",
          "state": {
            "_dom_classes": [],
            "_model_module": "@jupyter-widgets/controls",
            "_model_module_version": "1.5.0",
            "_model_name": "HTMLModel",
            "_view_count": null,
            "_view_module": "@jupyter-widgets/controls",
            "_view_module_version": "1.5.0",
            "_view_name": "HTMLView",
            "description": "",
            "description_tooltip": null,
            "layout": "IPY_MODEL_29f8d218825743b699ea83b8ae68b823",
            "placeholder": "​",
            "style": "IPY_MODEL_ea2ead08813b426f9984729aeffc1f40",
            "value": " 313/313 [00:00&lt;00:00, 357.43it/s]"
          }
        },
        "7acd0493f6764f7f9670e8a62f570eba": {
          "model_module": "@jupyter-widgets/base",
          "model_name": "LayoutModel",
          "model_module_version": "1.2.0",
          "state": {
            "_model_module": "@jupyter-widgets/base",
            "_model_module_version": "1.2.0",
            "_model_name": "LayoutModel",
            "_view_count": null,
            "_view_module": "@jupyter-widgets/base",
            "_view_module_version": "1.2.0",
            "_view_name": "LayoutView",
            "align_content": null,
            "align_items": null,
            "align_self": null,
            "border": null,
            "bottom": null,
            "display": "inline-flex",
            "flex": null,
            "flex_flow": "row wrap",
            "grid_area": null,
            "grid_auto_columns": null,
            "grid_auto_flow": null,
            "grid_auto_rows": null,
            "grid_column": null,
            "grid_gap": null,
            "grid_row": null,
            "grid_template_areas": null,
            "grid_template_columns": null,
            "grid_template_rows": null,
            "height": null,
            "justify_content": null,
            "justify_items": null,
            "left": null,
            "margin": null,
            "max_height": null,
            "max_width": null,
            "min_height": null,
            "min_width": null,
            "object_fit": null,
            "object_position": null,
            "order": null,
            "overflow": null,
            "overflow_x": null,
            "overflow_y": null,
            "padding": null,
            "right": null,
            "top": null,
            "visibility": "hidden",
            "width": "100%"
          }
        },
        "be5855bfa0fe439ca4e25de1afa06652": {
          "model_module": "@jupyter-widgets/base",
          "model_name": "LayoutModel",
          "model_module_version": "1.2.0",
          "state": {
            "_model_module": "@jupyter-widgets/base",
            "_model_module_version": "1.2.0",
            "_model_name": "LayoutModel",
            "_view_count": null,
            "_view_module": "@jupyter-widgets/base",
            "_view_module_version": "1.2.0",
            "_view_name": "LayoutView",
            "align_content": null,
            "align_items": null,
            "align_self": null,
            "border": null,
            "bottom": null,
            "display": null,
            "flex": null,
            "flex_flow": null,
            "grid_area": null,
            "grid_auto_columns": null,
            "grid_auto_flow": null,
            "grid_auto_rows": null,
            "grid_column": null,
            "grid_gap": null,
            "grid_row": null,
            "grid_template_areas": null,
            "grid_template_columns": null,
            "grid_template_rows": null,
            "height": null,
            "justify_content": null,
            "justify_items": null,
            "left": null,
            "margin": null,
            "max_height": null,
            "max_width": null,
            "min_height": null,
            "min_width": null,
            "object_fit": null,
            "object_position": null,
            "order": null,
            "overflow": null,
            "overflow_x": null,
            "overflow_y": null,
            "padding": null,
            "right": null,
            "top": null,
            "visibility": null,
            "width": null
          }
        },
        "07cf22a37b5c448aa75d574447d1281d": {
          "model_module": "@jupyter-widgets/controls",
          "model_name": "DescriptionStyleModel",
          "model_module_version": "1.5.0",
          "state": {
            "_model_module": "@jupyter-widgets/controls",
            "_model_module_version": "1.5.0",
            "_model_name": "DescriptionStyleModel",
            "_view_count": null,
            "_view_module": "@jupyter-widgets/base",
            "_view_module_version": "1.2.0",
            "_view_name": "StyleView",
            "description_width": ""
          }
        },
        "dea64d0178e64f82a2d241a8daac9676": {
          "model_module": "@jupyter-widgets/base",
          "model_name": "LayoutModel",
          "model_module_version": "1.2.0",
          "state": {
            "_model_module": "@jupyter-widgets/base",
            "_model_module_version": "1.2.0",
            "_model_name": "LayoutModel",
            "_view_count": null,
            "_view_module": "@jupyter-widgets/base",
            "_view_module_version": "1.2.0",
            "_view_name": "LayoutView",
            "align_content": null,
            "align_items": null,
            "align_self": null,
            "border": null,
            "bottom": null,
            "display": null,
            "flex": "2",
            "flex_flow": null,
            "grid_area": null,
            "grid_auto_columns": null,
            "grid_auto_flow": null,
            "grid_auto_rows": null,
            "grid_column": null,
            "grid_gap": null,
            "grid_row": null,
            "grid_template_areas": null,
            "grid_template_columns": null,
            "grid_template_rows": null,
            "height": null,
            "justify_content": null,
            "justify_items": null,
            "left": null,
            "margin": null,
            "max_height": null,
            "max_width": null,
            "min_height": null,
            "min_width": null,
            "object_fit": null,
            "object_position": null,
            "order": null,
            "overflow": null,
            "overflow_x": null,
            "overflow_y": null,
            "padding": null,
            "right": null,
            "top": null,
            "visibility": null,
            "width": null
          }
        },
        "4b4404835eb742b58865d4b6b6648401": {
          "model_module": "@jupyter-widgets/controls",
          "model_name": "ProgressStyleModel",
          "model_module_version": "1.5.0",
          "state": {
            "_model_module": "@jupyter-widgets/controls",
            "_model_module_version": "1.5.0",
            "_model_name": "ProgressStyleModel",
            "_view_count": null,
            "_view_module": "@jupyter-widgets/base",
            "_view_module_version": "1.2.0",
            "_view_name": "StyleView",
            "bar_color": null,
            "description_width": ""
          }
        },
        "29f8d218825743b699ea83b8ae68b823": {
          "model_module": "@jupyter-widgets/base",
          "model_name": "LayoutModel",
          "model_module_version": "1.2.0",
          "state": {
            "_model_module": "@jupyter-widgets/base",
            "_model_module_version": "1.2.0",
            "_model_name": "LayoutModel",
            "_view_count": null,
            "_view_module": "@jupyter-widgets/base",
            "_view_module_version": "1.2.0",
            "_view_name": "LayoutView",
            "align_content": null,
            "align_items": null,
            "align_self": null,
            "border": null,
            "bottom": null,
            "display": null,
            "flex": null,
            "flex_flow": null,
            "grid_area": null,
            "grid_auto_columns": null,
            "grid_auto_flow": null,
            "grid_auto_rows": null,
            "grid_column": null,
            "grid_gap": null,
            "grid_row": null,
            "grid_template_areas": null,
            "grid_template_columns": null,
            "grid_template_rows": null,
            "height": null,
            "justify_content": null,
            "justify_items": null,
            "left": null,
            "margin": null,
            "max_height": null,
            "max_width": null,
            "min_height": null,
            "min_width": null,
            "object_fit": null,
            "object_position": null,
            "order": null,
            "overflow": null,
            "overflow_x": null,
            "overflow_y": null,
            "padding": null,
            "right": null,
            "top": null,
            "visibility": null,
            "width": null
          }
        },
        "ea2ead08813b426f9984729aeffc1f40": {
          "model_module": "@jupyter-widgets/controls",
          "model_name": "DescriptionStyleModel",
          "model_module_version": "1.5.0",
          "state": {
            "_model_module": "@jupyter-widgets/controls",
            "_model_module_version": "1.5.0",
            "_model_name": "DescriptionStyleModel",
            "_view_count": null,
            "_view_module": "@jupyter-widgets/base",
            "_view_module_version": "1.2.0",
            "_view_name": "StyleView",
            "description_width": ""
          }
        },
        "79d19461f20344ce961758a102b5ea41": {
          "model_module": "@jupyter-widgets/controls",
          "model_name": "HBoxModel",
          "model_module_version": "1.5.0",
          "state": {
            "_dom_classes": [],
            "_model_module": "@jupyter-widgets/controls",
            "_model_module_version": "1.5.0",
            "_model_name": "HBoxModel",
            "_view_count": null,
            "_view_module": "@jupyter-widgets/controls",
            "_view_module_version": "1.5.0",
            "_view_name": "HBoxView",
            "box_style": "",
            "children": [
              "IPY_MODEL_b239fc152d304006b97b6f7633cf7cad",
              "IPY_MODEL_23239688b8314904b36a4bfb25a86a72",
              "IPY_MODEL_4f5046c12bf3406f9e9b17e4e86d8fc2"
            ],
            "layout": "IPY_MODEL_80421056efad4a05b79349b785115a73"
          }
        },
        "b239fc152d304006b97b6f7633cf7cad": {
          "model_module": "@jupyter-widgets/controls",
          "model_name": "HTMLModel",
          "model_module_version": "1.5.0",
          "state": {
            "_dom_classes": [],
            "_model_module": "@jupyter-widgets/controls",
            "_model_module_version": "1.5.0",
            "_model_name": "HTMLModel",
            "_view_count": null,
            "_view_module": "@jupyter-widgets/controls",
            "_view_module_version": "1.5.0",
            "_view_name": "HTMLView",
            "description": "",
            "description_tooltip": null,
            "layout": "IPY_MODEL_27c009b21df349aea45c0ecc3b7b239e",
            "placeholder": "​",
            "style": "IPY_MODEL_68005441cf894c74b07cb386e15edd23",
            "value": "Validation DataLoader 0: 100%"
          }
        },
        "23239688b8314904b36a4bfb25a86a72": {
          "model_module": "@jupyter-widgets/controls",
          "model_name": "FloatProgressModel",
          "model_module_version": "1.5.0",
          "state": {
            "_dom_classes": [],
            "_model_module": "@jupyter-widgets/controls",
            "_model_module_version": "1.5.0",
            "_model_name": "FloatProgressModel",
            "_view_count": null,
            "_view_module": "@jupyter-widgets/controls",
            "_view_module_version": "1.5.0",
            "_view_name": "ProgressView",
            "bar_style": "",
            "description": "",
            "description_tooltip": null,
            "layout": "IPY_MODEL_fc9e364c551d48fa8026bff31b475c6b",
            "max": 1,
            "min": 0,
            "orientation": "horizontal",
            "style": "IPY_MODEL_38da2137b0064d65912b398c7fbe1ff1",
            "value": 1
          }
        },
        "4f5046c12bf3406f9e9b17e4e86d8fc2": {
          "model_module": "@jupyter-widgets/controls",
          "model_name": "HTMLModel",
          "model_module_version": "1.5.0",
          "state": {
            "_dom_classes": [],
            "_model_module": "@jupyter-widgets/controls",
            "_model_module_version": "1.5.0",
            "_model_name": "HTMLModel",
            "_view_count": null,
            "_view_module": "@jupyter-widgets/controls",
            "_view_module_version": "1.5.0",
            "_view_name": "HTMLView",
            "description": "",
            "description_tooltip": null,
            "layout": "IPY_MODEL_f37c7de5b574478ab916a234aeb88215",
            "placeholder": "​",
            "style": "IPY_MODEL_da984c6b8af640eb8bf6d69795928978",
            "value": " 313/313 [00:00&lt;00:00, 495.19it/s]"
          }
        },
        "80421056efad4a05b79349b785115a73": {
          "model_module": "@jupyter-widgets/base",
          "model_name": "LayoutModel",
          "model_module_version": "1.2.0",
          "state": {
            "_model_module": "@jupyter-widgets/base",
            "_model_module_version": "1.2.0",
            "_model_name": "LayoutModel",
            "_view_count": null,
            "_view_module": "@jupyter-widgets/base",
            "_view_module_version": "1.2.0",
            "_view_name": "LayoutView",
            "align_content": null,
            "align_items": null,
            "align_self": null,
            "border": null,
            "bottom": null,
            "display": "inline-flex",
            "flex": null,
            "flex_flow": "row wrap",
            "grid_area": null,
            "grid_auto_columns": null,
            "grid_auto_flow": null,
            "grid_auto_rows": null,
            "grid_column": null,
            "grid_gap": null,
            "grid_row": null,
            "grid_template_areas": null,
            "grid_template_columns": null,
            "grid_template_rows": null,
            "height": null,
            "justify_content": null,
            "justify_items": null,
            "left": null,
            "margin": null,
            "max_height": null,
            "max_width": null,
            "min_height": null,
            "min_width": null,
            "object_fit": null,
            "object_position": null,
            "order": null,
            "overflow": null,
            "overflow_x": null,
            "overflow_y": null,
            "padding": null,
            "right": null,
            "top": null,
            "visibility": "hidden",
            "width": "100%"
          }
        },
        "27c009b21df349aea45c0ecc3b7b239e": {
          "model_module": "@jupyter-widgets/base",
          "model_name": "LayoutModel",
          "model_module_version": "1.2.0",
          "state": {
            "_model_module": "@jupyter-widgets/base",
            "_model_module_version": "1.2.0",
            "_model_name": "LayoutModel",
            "_view_count": null,
            "_view_module": "@jupyter-widgets/base",
            "_view_module_version": "1.2.0",
            "_view_name": "LayoutView",
            "align_content": null,
            "align_items": null,
            "align_self": null,
            "border": null,
            "bottom": null,
            "display": null,
            "flex": null,
            "flex_flow": null,
            "grid_area": null,
            "grid_auto_columns": null,
            "grid_auto_flow": null,
            "grid_auto_rows": null,
            "grid_column": null,
            "grid_gap": null,
            "grid_row": null,
            "grid_template_areas": null,
            "grid_template_columns": null,
            "grid_template_rows": null,
            "height": null,
            "justify_content": null,
            "justify_items": null,
            "left": null,
            "margin": null,
            "max_height": null,
            "max_width": null,
            "min_height": null,
            "min_width": null,
            "object_fit": null,
            "object_position": null,
            "order": null,
            "overflow": null,
            "overflow_x": null,
            "overflow_y": null,
            "padding": null,
            "right": null,
            "top": null,
            "visibility": null,
            "width": null
          }
        },
        "68005441cf894c74b07cb386e15edd23": {
          "model_module": "@jupyter-widgets/controls",
          "model_name": "DescriptionStyleModel",
          "model_module_version": "1.5.0",
          "state": {
            "_model_module": "@jupyter-widgets/controls",
            "_model_module_version": "1.5.0",
            "_model_name": "DescriptionStyleModel",
            "_view_count": null,
            "_view_module": "@jupyter-widgets/base",
            "_view_module_version": "1.2.0",
            "_view_name": "StyleView",
            "description_width": ""
          }
        },
        "fc9e364c551d48fa8026bff31b475c6b": {
          "model_module": "@jupyter-widgets/base",
          "model_name": "LayoutModel",
          "model_module_version": "1.2.0",
          "state": {
            "_model_module": "@jupyter-widgets/base",
            "_model_module_version": "1.2.0",
            "_model_name": "LayoutModel",
            "_view_count": null,
            "_view_module": "@jupyter-widgets/base",
            "_view_module_version": "1.2.0",
            "_view_name": "LayoutView",
            "align_content": null,
            "align_items": null,
            "align_self": null,
            "border": null,
            "bottom": null,
            "display": null,
            "flex": "2",
            "flex_flow": null,
            "grid_area": null,
            "grid_auto_columns": null,
            "grid_auto_flow": null,
            "grid_auto_rows": null,
            "grid_column": null,
            "grid_gap": null,
            "grid_row": null,
            "grid_template_areas": null,
            "grid_template_columns": null,
            "grid_template_rows": null,
            "height": null,
            "justify_content": null,
            "justify_items": null,
            "left": null,
            "margin": null,
            "max_height": null,
            "max_width": null,
            "min_height": null,
            "min_width": null,
            "object_fit": null,
            "object_position": null,
            "order": null,
            "overflow": null,
            "overflow_x": null,
            "overflow_y": null,
            "padding": null,
            "right": null,
            "top": null,
            "visibility": null,
            "width": null
          }
        },
        "38da2137b0064d65912b398c7fbe1ff1": {
          "model_module": "@jupyter-widgets/controls",
          "model_name": "ProgressStyleModel",
          "model_module_version": "1.5.0",
          "state": {
            "_model_module": "@jupyter-widgets/controls",
            "_model_module_version": "1.5.0",
            "_model_name": "ProgressStyleModel",
            "_view_count": null,
            "_view_module": "@jupyter-widgets/base",
            "_view_module_version": "1.2.0",
            "_view_name": "StyleView",
            "bar_color": null,
            "description_width": ""
          }
        },
        "f37c7de5b574478ab916a234aeb88215": {
          "model_module": "@jupyter-widgets/base",
          "model_name": "LayoutModel",
          "model_module_version": "1.2.0",
          "state": {
            "_model_module": "@jupyter-widgets/base",
            "_model_module_version": "1.2.0",
            "_model_name": "LayoutModel",
            "_view_count": null,
            "_view_module": "@jupyter-widgets/base",
            "_view_module_version": "1.2.0",
            "_view_name": "LayoutView",
            "align_content": null,
            "align_items": null,
            "align_self": null,
            "border": null,
            "bottom": null,
            "display": null,
            "flex": null,
            "flex_flow": null,
            "grid_area": null,
            "grid_auto_columns": null,
            "grid_auto_flow": null,
            "grid_auto_rows": null,
            "grid_column": null,
            "grid_gap": null,
            "grid_row": null,
            "grid_template_areas": null,
            "grid_template_columns": null,
            "grid_template_rows": null,
            "height": null,
            "justify_content": null,
            "justify_items": null,
            "left": null,
            "margin": null,
            "max_height": null,
            "max_width": null,
            "min_height": null,
            "min_width": null,
            "object_fit": null,
            "object_position": null,
            "order": null,
            "overflow": null,
            "overflow_x": null,
            "overflow_y": null,
            "padding": null,
            "right": null,
            "top": null,
            "visibility": null,
            "width": null
          }
        },
        "da984c6b8af640eb8bf6d69795928978": {
          "model_module": "@jupyter-widgets/controls",
          "model_name": "DescriptionStyleModel",
          "model_module_version": "1.5.0",
          "state": {
            "_model_module": "@jupyter-widgets/controls",
            "_model_module_version": "1.5.0",
            "_model_name": "DescriptionStyleModel",
            "_view_count": null,
            "_view_module": "@jupyter-widgets/base",
            "_view_module_version": "1.2.0",
            "_view_name": "StyleView",
            "description_width": ""
          }
        }
      }
    }
  },
  "nbformat": 4,
  "nbformat_minor": 5
}